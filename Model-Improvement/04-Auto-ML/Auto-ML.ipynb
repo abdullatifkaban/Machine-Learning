{
 "cells": [
  {
   "cell_type": "markdown",
   "metadata": {
    "id": "WZrR_BEM-4_X"
   },
   "source": [
    "# Auto Machine Learning\n",
    "\n",
    "Veri ön işleme süreçlerini kendisi hallederek otomatik makine öğrenmesi modelleri geliştirme araçlarını göreceğiz. Bunun için `pycaret` kütüphanesini kullanacağız.\n",
    "\n",
    "* Regresyon için `pycaret.regression`\n",
    "* Sınıflandırma için `pycaret.classification`\n",
    "* Kümeleme için `pycaret.clustering`\n",
    "\n",
    "> Eğer kütüphane kurulu değilse aşağıdaki komut ile kurulabilir:\n",
    "\n",
    "```\n",
    "pip install pycaret\n",
    "```\n",
    "\n",
    "> **Uyarı!** `pycaret` kütüphanesi python 3.9-3.11 sürümleri ile çalışmaktadır. Mevcut sürümünüz bundan farklı ise ayrı bir conda veya python ortamı oluşturarak orada kullanınız."
   ]
  },
  {
   "cell_type": "markdown",
   "metadata": {
    "id": "-f7TIDMz-79y"
   },
   "source": [
    "## Regression"
   ]
  },
  {
   "cell_type": "code",
   "execution_count": 1,
   "metadata": {
    "id": "JNMfET9Q-V4p"
   },
   "outputs": [],
   "source": [
    "from pycaret.regression import *"
   ]
  },
  {
   "cell_type": "code",
   "execution_count": 2,
   "metadata": {
    "id": "Iy_6JJkQ_CDW"
   },
   "outputs": [],
   "source": [
    "import pandas as pd"
   ]
  },
  {
   "cell_type": "code",
   "execution_count": 3,
   "metadata": {
    "id": "ufBTJioH_DO1"
   },
   "outputs": [],
   "source": [
    "df=pd.read_pickle(\"kc_house.pkl\")"
   ]
  },
  {
   "cell_type": "code",
   "execution_count": 4,
   "metadata": {
    "colab": {
     "base_uri": "https://localhost:8080/",
     "height": 717
    },
    "id": "DubazqjQ_I2j",
    "outputId": "e30d09bd-3058-48d5-bdfe-3c354c7eb66e"
   },
   "outputs": [
    {
     "data": {
      "text/html": [
       "<style type=\"text/css\">\n",
       "#T_b1632_row8_col1 {\n",
       "  background-color: lightgreen;\n",
       "}\n",
       "</style>\n",
       "<table id=\"T_b1632\">\n",
       "  <thead>\n",
       "    <tr>\n",
       "      <th class=\"blank level0\" >&nbsp;</th>\n",
       "      <th id=\"T_b1632_level0_col0\" class=\"col_heading level0 col0\" >Description</th>\n",
       "      <th id=\"T_b1632_level0_col1\" class=\"col_heading level0 col1\" >Value</th>\n",
       "    </tr>\n",
       "  </thead>\n",
       "  <tbody>\n",
       "    <tr>\n",
       "      <th id=\"T_b1632_level0_row0\" class=\"row_heading level0 row0\" >0</th>\n",
       "      <td id=\"T_b1632_row0_col0\" class=\"data row0 col0\" >Session id</td>\n",
       "      <td id=\"T_b1632_row0_col1\" class=\"data row0 col1\" >7101</td>\n",
       "    </tr>\n",
       "    <tr>\n",
       "      <th id=\"T_b1632_level0_row1\" class=\"row_heading level0 row1\" >1</th>\n",
       "      <td id=\"T_b1632_row1_col0\" class=\"data row1 col0\" >Target</td>\n",
       "      <td id=\"T_b1632_row1_col1\" class=\"data row1 col1\" >price</td>\n",
       "    </tr>\n",
       "    <tr>\n",
       "      <th id=\"T_b1632_level0_row2\" class=\"row_heading level0 row2\" >2</th>\n",
       "      <td id=\"T_b1632_row2_col0\" class=\"data row2 col0\" >Target type</td>\n",
       "      <td id=\"T_b1632_row2_col1\" class=\"data row2 col1\" >Regression</td>\n",
       "    </tr>\n",
       "    <tr>\n",
       "      <th id=\"T_b1632_level0_row3\" class=\"row_heading level0 row3\" >3</th>\n",
       "      <td id=\"T_b1632_row3_col0\" class=\"data row3 col0\" >Original data shape</td>\n",
       "      <td id=\"T_b1632_row3_col1\" class=\"data row3 col1\" >(19034, 82)</td>\n",
       "    </tr>\n",
       "    <tr>\n",
       "      <th id=\"T_b1632_level0_row4\" class=\"row_heading level0 row4\" >4</th>\n",
       "      <td id=\"T_b1632_row4_col0\" class=\"data row4 col0\" >Transformed data shape</td>\n",
       "      <td id=\"T_b1632_row4_col1\" class=\"data row4 col1\" >(19034, 82)</td>\n",
       "    </tr>\n",
       "    <tr>\n",
       "      <th id=\"T_b1632_level0_row5\" class=\"row_heading level0 row5\" >5</th>\n",
       "      <td id=\"T_b1632_row5_col0\" class=\"data row5 col0\" >Transformed train set shape</td>\n",
       "      <td id=\"T_b1632_row5_col1\" class=\"data row5 col1\" >(13323, 82)</td>\n",
       "    </tr>\n",
       "    <tr>\n",
       "      <th id=\"T_b1632_level0_row6\" class=\"row_heading level0 row6\" >6</th>\n",
       "      <td id=\"T_b1632_row6_col0\" class=\"data row6 col0\" >Transformed test set shape</td>\n",
       "      <td id=\"T_b1632_row6_col1\" class=\"data row6 col1\" >(5711, 82)</td>\n",
       "    </tr>\n",
       "    <tr>\n",
       "      <th id=\"T_b1632_level0_row7\" class=\"row_heading level0 row7\" >7</th>\n",
       "      <td id=\"T_b1632_row7_col0\" class=\"data row7 col0\" >Numeric features</td>\n",
       "      <td id=\"T_b1632_row7_col1\" class=\"data row7 col1\" >81</td>\n",
       "    </tr>\n",
       "    <tr>\n",
       "      <th id=\"T_b1632_level0_row8\" class=\"row_heading level0 row8\" >8</th>\n",
       "      <td id=\"T_b1632_row8_col0\" class=\"data row8 col0\" >Preprocess</td>\n",
       "      <td id=\"T_b1632_row8_col1\" class=\"data row8 col1\" >True</td>\n",
       "    </tr>\n",
       "    <tr>\n",
       "      <th id=\"T_b1632_level0_row9\" class=\"row_heading level0 row9\" >9</th>\n",
       "      <td id=\"T_b1632_row9_col0\" class=\"data row9 col0\" >Imputation type</td>\n",
       "      <td id=\"T_b1632_row9_col1\" class=\"data row9 col1\" >simple</td>\n",
       "    </tr>\n",
       "    <tr>\n",
       "      <th id=\"T_b1632_level0_row10\" class=\"row_heading level0 row10\" >10</th>\n",
       "      <td id=\"T_b1632_row10_col0\" class=\"data row10 col0\" >Numeric imputation</td>\n",
       "      <td id=\"T_b1632_row10_col1\" class=\"data row10 col1\" >mean</td>\n",
       "    </tr>\n",
       "    <tr>\n",
       "      <th id=\"T_b1632_level0_row11\" class=\"row_heading level0 row11\" >11</th>\n",
       "      <td id=\"T_b1632_row11_col0\" class=\"data row11 col0\" >Categorical imputation</td>\n",
       "      <td id=\"T_b1632_row11_col1\" class=\"data row11 col1\" >mode</td>\n",
       "    </tr>\n",
       "    <tr>\n",
       "      <th id=\"T_b1632_level0_row12\" class=\"row_heading level0 row12\" >12</th>\n",
       "      <td id=\"T_b1632_row12_col0\" class=\"data row12 col0\" >Fold Generator</td>\n",
       "      <td id=\"T_b1632_row12_col1\" class=\"data row12 col1\" >KFold</td>\n",
       "    </tr>\n",
       "    <tr>\n",
       "      <th id=\"T_b1632_level0_row13\" class=\"row_heading level0 row13\" >13</th>\n",
       "      <td id=\"T_b1632_row13_col0\" class=\"data row13 col0\" >Fold Number</td>\n",
       "      <td id=\"T_b1632_row13_col1\" class=\"data row13 col1\" >10</td>\n",
       "    </tr>\n",
       "    <tr>\n",
       "      <th id=\"T_b1632_level0_row14\" class=\"row_heading level0 row14\" >14</th>\n",
       "      <td id=\"T_b1632_row14_col0\" class=\"data row14 col0\" >CPU Jobs</td>\n",
       "      <td id=\"T_b1632_row14_col1\" class=\"data row14 col1\" >-1</td>\n",
       "    </tr>\n",
       "    <tr>\n",
       "      <th id=\"T_b1632_level0_row15\" class=\"row_heading level0 row15\" >15</th>\n",
       "      <td id=\"T_b1632_row15_col0\" class=\"data row15 col0\" >Use GPU</td>\n",
       "      <td id=\"T_b1632_row15_col1\" class=\"data row15 col1\" >False</td>\n",
       "    </tr>\n",
       "    <tr>\n",
       "      <th id=\"T_b1632_level0_row16\" class=\"row_heading level0 row16\" >16</th>\n",
       "      <td id=\"T_b1632_row16_col0\" class=\"data row16 col0\" >Log Experiment</td>\n",
       "      <td id=\"T_b1632_row16_col1\" class=\"data row16 col1\" >False</td>\n",
       "    </tr>\n",
       "    <tr>\n",
       "      <th id=\"T_b1632_level0_row17\" class=\"row_heading level0 row17\" >17</th>\n",
       "      <td id=\"T_b1632_row17_col0\" class=\"data row17 col0\" >Experiment Name</td>\n",
       "      <td id=\"T_b1632_row17_col1\" class=\"data row17 col1\" >reg-default-name</td>\n",
       "    </tr>\n",
       "    <tr>\n",
       "      <th id=\"T_b1632_level0_row18\" class=\"row_heading level0 row18\" >18</th>\n",
       "      <td id=\"T_b1632_row18_col0\" class=\"data row18 col0\" >USI</td>\n",
       "      <td id=\"T_b1632_row18_col1\" class=\"data row18 col1\" >09b7</td>\n",
       "    </tr>\n",
       "  </tbody>\n",
       "</table>\n"
      ],
      "text/plain": [
       "<pandas.io.formats.style.Styler at 0x76933eb30590>"
      ]
     },
     "metadata": {},
     "output_type": "display_data"
    },
    {
     "data": {
      "text/plain": [
       "<pycaret.regression.oop.RegressionExperiment at 0x76934099f610>"
      ]
     },
     "execution_count": 4,
     "metadata": {},
     "output_type": "execute_result"
    }
   ],
   "source": [
    "setup(data=df, target=\"price\")"
   ]
  },
  {
   "cell_type": "code",
   "execution_count": 5,
   "metadata": {
    "colab": {
     "base_uri": "https://localhost:8080/",
     "height": 645,
     "referenced_widgets": [
      "2dc7e1adc8aa43e4954d5cf2cd5a8439",
      "f61b2f07879c410499f412dae423cd1e",
      "038bd71e7d07479faf9f9058372f6725",
      "bcbd975434a243bc991087073f4a8b7c",
      "9f812e68eefa43f38b74bea8f8f9ef77",
      "a24f0396a1284003befa6b64343a0102",
      "f88bd17302fb4394b6147582d1f1dc51",
      "f0da0622ae614a8b95c151a122d7df0f",
      "8806e00238714e7ebe999d13b9a530e8",
      "ad4c00264d75439494c5124ebbd4b66f",
      "e9b2c140981c46f285631ca9014c0cea"
     ]
    },
    "id": "gDt2Ehsi_MIE",
    "outputId": "7f7c5f2d-e76f-4f5d-e924-157a08a4ea04"
   },
   "outputs": [
    {
     "data": {
      "text/html": [],
      "text/plain": [
       "<IPython.core.display.HTML object>"
      ]
     },
     "metadata": {},
     "output_type": "display_data"
    },
    {
     "data": {
      "text/html": [
       "<style type=\"text/css\">\n",
       "#T_465ce th {\n",
       "  text-align: left;\n",
       "}\n",
       "#T_465ce_row0_col0, #T_465ce_row1_col0, #T_465ce_row1_col1, #T_465ce_row1_col2, #T_465ce_row1_col3, #T_465ce_row1_col4, #T_465ce_row1_col5, #T_465ce_row1_col6, #T_465ce_row2_col0, #T_465ce_row2_col1, #T_465ce_row2_col2, #T_465ce_row2_col3, #T_465ce_row2_col4, #T_465ce_row2_col5, #T_465ce_row2_col6, #T_465ce_row3_col0, #T_465ce_row3_col1, #T_465ce_row3_col2, #T_465ce_row3_col3, #T_465ce_row3_col4, #T_465ce_row3_col5, #T_465ce_row3_col6, #T_465ce_row4_col0, #T_465ce_row4_col1, #T_465ce_row4_col2, #T_465ce_row4_col3, #T_465ce_row4_col4, #T_465ce_row4_col5, #T_465ce_row4_col6, #T_465ce_row5_col0, #T_465ce_row5_col1, #T_465ce_row5_col2, #T_465ce_row5_col3, #T_465ce_row5_col4, #T_465ce_row5_col5, #T_465ce_row5_col6, #T_465ce_row6_col0, #T_465ce_row6_col1, #T_465ce_row6_col2, #T_465ce_row6_col3, #T_465ce_row6_col4, #T_465ce_row6_col5, #T_465ce_row6_col6, #T_465ce_row7_col0, #T_465ce_row7_col1, #T_465ce_row7_col2, #T_465ce_row7_col3, #T_465ce_row7_col4, #T_465ce_row7_col5, #T_465ce_row7_col6, #T_465ce_row8_col0, #T_465ce_row8_col1, #T_465ce_row8_col2, #T_465ce_row8_col3, #T_465ce_row8_col4, #T_465ce_row8_col5, #T_465ce_row8_col6, #T_465ce_row9_col0, #T_465ce_row9_col1, #T_465ce_row9_col2, #T_465ce_row9_col3, #T_465ce_row9_col4, #T_465ce_row9_col5, #T_465ce_row9_col6, #T_465ce_row10_col0, #T_465ce_row10_col1, #T_465ce_row10_col2, #T_465ce_row10_col3, #T_465ce_row10_col4, #T_465ce_row10_col5, #T_465ce_row10_col6, #T_465ce_row11_col0, #T_465ce_row11_col1, #T_465ce_row11_col2, #T_465ce_row11_col3, #T_465ce_row11_col4, #T_465ce_row11_col5, #T_465ce_row11_col6, #T_465ce_row12_col0, #T_465ce_row12_col1, #T_465ce_row12_col2, #T_465ce_row12_col3, #T_465ce_row12_col4, #T_465ce_row12_col5, #T_465ce_row12_col6, #T_465ce_row13_col0, #T_465ce_row13_col1, #T_465ce_row13_col2, #T_465ce_row13_col3, #T_465ce_row13_col4, #T_465ce_row13_col5, #T_465ce_row13_col6, #T_465ce_row14_col0, #T_465ce_row14_col1, #T_465ce_row14_col2, #T_465ce_row14_col3, #T_465ce_row14_col4, #T_465ce_row14_col5, #T_465ce_row14_col6, #T_465ce_row15_col0, #T_465ce_row15_col1, #T_465ce_row15_col2, #T_465ce_row15_col3, #T_465ce_row15_col4, #T_465ce_row15_col5, #T_465ce_row15_col6, #T_465ce_row16_col0, #T_465ce_row16_col1, #T_465ce_row16_col2, #T_465ce_row16_col3, #T_465ce_row16_col4, #T_465ce_row16_col5, #T_465ce_row16_col6, #T_465ce_row17_col0, #T_465ce_row17_col1, #T_465ce_row17_col2, #T_465ce_row17_col3, #T_465ce_row17_col4, #T_465ce_row17_col5, #T_465ce_row17_col6 {\n",
       "  text-align: left;\n",
       "}\n",
       "#T_465ce_row0_col1, #T_465ce_row0_col2, #T_465ce_row0_col3, #T_465ce_row0_col4, #T_465ce_row0_col5, #T_465ce_row0_col6 {\n",
       "  text-align: left;\n",
       "  background-color: yellow;\n",
       "}\n",
       "#T_465ce_row0_col7, #T_465ce_row1_col7, #T_465ce_row2_col7, #T_465ce_row3_col7, #T_465ce_row4_col7, #T_465ce_row5_col7, #T_465ce_row6_col7, #T_465ce_row7_col7, #T_465ce_row8_col7, #T_465ce_row9_col7, #T_465ce_row10_col7, #T_465ce_row11_col7, #T_465ce_row12_col7, #T_465ce_row13_col7, #T_465ce_row14_col7, #T_465ce_row16_col7, #T_465ce_row17_col7 {\n",
       "  text-align: left;\n",
       "  background-color: lightgrey;\n",
       "}\n",
       "#T_465ce_row15_col7 {\n",
       "  text-align: left;\n",
       "  background-color: yellow;\n",
       "  background-color: lightgrey;\n",
       "}\n",
       "</style>\n",
       "<table id=\"T_465ce\">\n",
       "  <thead>\n",
       "    <tr>\n",
       "      <th class=\"blank level0\" >&nbsp;</th>\n",
       "      <th id=\"T_465ce_level0_col0\" class=\"col_heading level0 col0\" >Model</th>\n",
       "      <th id=\"T_465ce_level0_col1\" class=\"col_heading level0 col1\" >MAE</th>\n",
       "      <th id=\"T_465ce_level0_col2\" class=\"col_heading level0 col2\" >MSE</th>\n",
       "      <th id=\"T_465ce_level0_col3\" class=\"col_heading level0 col3\" >RMSE</th>\n",
       "      <th id=\"T_465ce_level0_col4\" class=\"col_heading level0 col4\" >R2</th>\n",
       "      <th id=\"T_465ce_level0_col5\" class=\"col_heading level0 col5\" >RMSLE</th>\n",
       "      <th id=\"T_465ce_level0_col6\" class=\"col_heading level0 col6\" >MAPE</th>\n",
       "      <th id=\"T_465ce_level0_col7\" class=\"col_heading level0 col7\" >TT (Sec)</th>\n",
       "    </tr>\n",
       "  </thead>\n",
       "  <tbody>\n",
       "    <tr>\n",
       "      <th id=\"T_465ce_level0_row0\" class=\"row_heading level0 row0\" >lightgbm</th>\n",
       "      <td id=\"T_465ce_row0_col0\" class=\"data row0 col0\" >Light Gradient Boosting Machine</td>\n",
       "      <td id=\"T_465ce_row0_col1\" class=\"data row0 col1\" >64964.5499</td>\n",
       "      <td id=\"T_465ce_row0_col2\" class=\"data row0 col2\" >8831940254.8428</td>\n",
       "      <td id=\"T_465ce_row0_col3\" class=\"data row0 col3\" >93926.2694</td>\n",
       "      <td id=\"T_465ce_row0_col4\" class=\"data row0 col4\" >0.8220</td>\n",
       "      <td id=\"T_465ce_row0_col5\" class=\"data row0 col5\" >0.1988</td>\n",
       "      <td id=\"T_465ce_row0_col6\" class=\"data row0 col6\" >0.1520</td>\n",
       "      <td id=\"T_465ce_row0_col7\" class=\"data row0 col7\" >109.2440</td>\n",
       "    </tr>\n",
       "    <tr>\n",
       "      <th id=\"T_465ce_level0_row1\" class=\"row_heading level0 row1\" >br</th>\n",
       "      <td id=\"T_465ce_row1_col0\" class=\"data row1 col0\" >Bayesian Ridge</td>\n",
       "      <td id=\"T_465ce_row1_col1\" class=\"data row1 col1\" >66886.2179</td>\n",
       "      <td id=\"T_465ce_row1_col2\" class=\"data row1 col2\" >8873451935.7043</td>\n",
       "      <td id=\"T_465ce_row1_col3\" class=\"data row1 col3\" >94155.0336</td>\n",
       "      <td id=\"T_465ce_row1_col4\" class=\"data row1 col4\" >0.8213</td>\n",
       "      <td id=\"T_465ce_row1_col5\" class=\"data row1 col5\" >0.2278</td>\n",
       "      <td id=\"T_465ce_row1_col6\" class=\"data row1 col6\" >0.1558</td>\n",
       "      <td id=\"T_465ce_row1_col7\" class=\"data row1 col7\" >0.0980</td>\n",
       "    </tr>\n",
       "    <tr>\n",
       "      <th id=\"T_465ce_level0_row2\" class=\"row_heading level0 row2\" >lasso</th>\n",
       "      <td id=\"T_465ce_row2_col0\" class=\"data row2 col0\" >Lasso Regression</td>\n",
       "      <td id=\"T_465ce_row2_col1\" class=\"data row2 col1\" >66880.3612</td>\n",
       "      <td id=\"T_465ce_row2_col2\" class=\"data row2 col2\" >8871104732.5124</td>\n",
       "      <td id=\"T_465ce_row2_col3\" class=\"data row2 col3\" >94142.7281</td>\n",
       "      <td id=\"T_465ce_row2_col4\" class=\"data row2 col4\" >0.8213</td>\n",
       "      <td id=\"T_465ce_row2_col5\" class=\"data row2 col5\" >0.2277</td>\n",
       "      <td id=\"T_465ce_row2_col6\" class=\"data row2 col6\" >0.1557</td>\n",
       "      <td id=\"T_465ce_row2_col7\" class=\"data row2 col7\" >0.2550</td>\n",
       "    </tr>\n",
       "    <tr>\n",
       "      <th id=\"T_465ce_level0_row3\" class=\"row_heading level0 row3\" >lr</th>\n",
       "      <td id=\"T_465ce_row3_col0\" class=\"data row3 col0\" >Linear Regression</td>\n",
       "      <td id=\"T_465ce_row3_col1\" class=\"data row3 col1\" >66884.9046</td>\n",
       "      <td id=\"T_465ce_row3_col2\" class=\"data row3 col2\" >8870973465.6661</td>\n",
       "      <td id=\"T_465ce_row3_col3\" class=\"data row3 col3\" >94142.0336</td>\n",
       "      <td id=\"T_465ce_row3_col4\" class=\"data row3 col4\" >0.8213</td>\n",
       "      <td id=\"T_465ce_row3_col5\" class=\"data row3 col5\" >0.2278</td>\n",
       "      <td id=\"T_465ce_row3_col6\" class=\"data row3 col6\" >0.1557</td>\n",
       "      <td id=\"T_465ce_row3_col7\" class=\"data row3 col7\" >0.2570</td>\n",
       "    </tr>\n",
       "    <tr>\n",
       "      <th id=\"T_465ce_level0_row4\" class=\"row_heading level0 row4\" >llar</th>\n",
       "      <td id=\"T_465ce_row4_col0\" class=\"data row4 col0\" >Lasso Least Angle Regression</td>\n",
       "      <td id=\"T_465ce_row4_col1\" class=\"data row4 col1\" >66880.3612</td>\n",
       "      <td id=\"T_465ce_row4_col2\" class=\"data row4 col2\" >8871104713.4111</td>\n",
       "      <td id=\"T_465ce_row4_col3\" class=\"data row4 col3\" >94142.7280</td>\n",
       "      <td id=\"T_465ce_row4_col4\" class=\"data row4 col4\" >0.8213</td>\n",
       "      <td id=\"T_465ce_row4_col5\" class=\"data row4 col5\" >0.2277</td>\n",
       "      <td id=\"T_465ce_row4_col6\" class=\"data row4 col6\" >0.1557</td>\n",
       "      <td id=\"T_465ce_row4_col7\" class=\"data row4 col7\" >0.0240</td>\n",
       "    </tr>\n",
       "    <tr>\n",
       "      <th id=\"T_465ce_level0_row5\" class=\"row_heading level0 row5\" >ridge</th>\n",
       "      <td id=\"T_465ce_row5_col0\" class=\"data row5 col0\" >Ridge Regression</td>\n",
       "      <td id=\"T_465ce_row5_col1\" class=\"data row5 col1\" >67102.3941</td>\n",
       "      <td id=\"T_465ce_row5_col2\" class=\"data row5 col2\" >8914003247.3129</td>\n",
       "      <td id=\"T_465ce_row5_col3\" class=\"data row5 col3\" >94369.8302</td>\n",
       "      <td id=\"T_465ce_row5_col4\" class=\"data row5 col4\" >0.8204</td>\n",
       "      <td id=\"T_465ce_row5_col5\" class=\"data row5 col5\" >0.2294</td>\n",
       "      <td id=\"T_465ce_row5_col6\" class=\"data row5 col6\" >0.1566</td>\n",
       "      <td id=\"T_465ce_row5_col7\" class=\"data row5 col7\" >0.0200</td>\n",
       "    </tr>\n",
       "    <tr>\n",
       "      <th id=\"T_465ce_level0_row6\" class=\"row_heading level0 row6\" >et</th>\n",
       "      <td id=\"T_465ce_row6_col0\" class=\"data row6 col0\" >Extra Trees Regressor</td>\n",
       "      <td id=\"T_465ce_row6_col1\" class=\"data row6 col1\" >68512.9160</td>\n",
       "      <td id=\"T_465ce_row6_col2\" class=\"data row6 col2\" >10354584701.3175</td>\n",
       "      <td id=\"T_465ce_row6_col3\" class=\"data row6 col3\" >101679.0437</td>\n",
       "      <td id=\"T_465ce_row6_col4\" class=\"data row6 col4\" >0.7914</td>\n",
       "      <td id=\"T_465ce_row6_col5\" class=\"data row6 col5\" >0.2086</td>\n",
       "      <td id=\"T_465ce_row6_col6\" class=\"data row6 col6\" >0.1551</td>\n",
       "      <td id=\"T_465ce_row6_col7\" class=\"data row6 col7\" >3.3150</td>\n",
       "    </tr>\n",
       "    <tr>\n",
       "      <th id=\"T_465ce_level0_row7\" class=\"row_heading level0 row7\" >rf</th>\n",
       "      <td id=\"T_465ce_row7_col0\" class=\"data row7 col0\" >Random Forest Regressor</td>\n",
       "      <td id=\"T_465ce_row7_col1\" class=\"data row7 col1\" >70807.3477</td>\n",
       "      <td id=\"T_465ce_row7_col2\" class=\"data row7 col2\" >11027636908.2196</td>\n",
       "      <td id=\"T_465ce_row7_col3\" class=\"data row7 col3\" >104944.0508</td>\n",
       "      <td id=\"T_465ce_row7_col4\" class=\"data row7 col4\" >0.7779</td>\n",
       "      <td id=\"T_465ce_row7_col5\" class=\"data row7 col5\" >0.2154</td>\n",
       "      <td id=\"T_465ce_row7_col6\" class=\"data row7 col6\" >0.1619</td>\n",
       "      <td id=\"T_465ce_row7_col7\" class=\"data row7 col7\" >2.8410</td>\n",
       "    </tr>\n",
       "    <tr>\n",
       "      <th id=\"T_465ce_level0_row8\" class=\"row_heading level0 row8\" >gbr</th>\n",
       "      <td id=\"T_465ce_row8_col0\" class=\"data row8 col0\" >Gradient Boosting Regressor</td>\n",
       "      <td id=\"T_465ce_row8_col1\" class=\"data row8 col1\" >83835.3866</td>\n",
       "      <td id=\"T_465ce_row8_col2\" class=\"data row8 col2\" >12687448310.6260</td>\n",
       "      <td id=\"T_465ce_row8_col3\" class=\"data row8 col3\" >112589.1974</td>\n",
       "      <td id=\"T_465ce_row8_col4\" class=\"data row8 col4\" >0.7443</td>\n",
       "      <td id=\"T_465ce_row8_col5\" class=\"data row8 col5\" >0.2469</td>\n",
       "      <td id=\"T_465ce_row8_col6\" class=\"data row8 col6\" >0.2059</td>\n",
       "      <td id=\"T_465ce_row8_col7\" class=\"data row8 col7\" >0.4380</td>\n",
       "    </tr>\n",
       "    <tr>\n",
       "      <th id=\"T_465ce_level0_row9\" class=\"row_heading level0 row9\" >dt</th>\n",
       "      <td id=\"T_465ce_row9_col0\" class=\"data row9 col0\" >Decision Tree Regressor</td>\n",
       "      <td id=\"T_465ce_row9_col1\" class=\"data row9 col1\" >94078.2081</td>\n",
       "      <td id=\"T_465ce_row9_col2\" class=\"data row9 col2\" >19536901437.2032</td>\n",
       "      <td id=\"T_465ce_row9_col3\" class=\"data row9 col3\" >139721.3955</td>\n",
       "      <td id=\"T_465ce_row9_col4\" class=\"data row9 col4\" >0.6064</td>\n",
       "      <td id=\"T_465ce_row9_col5\" class=\"data row9 col5\" >0.2878</td>\n",
       "      <td id=\"T_465ce_row9_col6\" class=\"data row9 col6\" >0.2112</td>\n",
       "      <td id=\"T_465ce_row9_col7\" class=\"data row9 col7\" >0.0820</td>\n",
       "    </tr>\n",
       "    <tr>\n",
       "      <th id=\"T_465ce_level0_row10\" class=\"row_heading level0 row10\" >omp</th>\n",
       "      <td id=\"T_465ce_row10_col0\" class=\"data row10 col0\" >Orthogonal Matching Pursuit</td>\n",
       "      <td id=\"T_465ce_row10_col1\" class=\"data row10 col1\" >109829.6884</td>\n",
       "      <td id=\"T_465ce_row10_col2\" class=\"data row10 col2\" >21023571329.7040</td>\n",
       "      <td id=\"T_465ce_row10_col3\" class=\"data row10 col3\" >144959.4198</td>\n",
       "      <td id=\"T_465ce_row10_col4\" class=\"data row10 col4\" >0.5764</td>\n",
       "      <td id=\"T_465ce_row10_col5\" class=\"data row10 col5\" >0.3230</td>\n",
       "      <td id=\"T_465ce_row10_col6\" class=\"data row10 col6\" >0.2688</td>\n",
       "      <td id=\"T_465ce_row10_col7\" class=\"data row10 col7\" >0.0200</td>\n",
       "    </tr>\n",
       "    <tr>\n",
       "      <th id=\"T_465ce_level0_row11\" class=\"row_heading level0 row11\" >en</th>\n",
       "      <td id=\"T_465ce_row11_col0\" class=\"data row11 col0\" >Elastic Net</td>\n",
       "      <td id=\"T_465ce_row11_col1\" class=\"data row11 col1\" >113097.3493</td>\n",
       "      <td id=\"T_465ce_row11_col2\" class=\"data row11 col2\" >22025149071.9923</td>\n",
       "      <td id=\"T_465ce_row11_col3\" class=\"data row11 col3\" >148351.0830</td>\n",
       "      <td id=\"T_465ce_row11_col4\" class=\"data row11 col4\" >0.5564</td>\n",
       "      <td id=\"T_465ce_row11_col5\" class=\"data row11 col5\" >0.3193</td>\n",
       "      <td id=\"T_465ce_row11_col6\" class=\"data row11 col6\" >0.2782</td>\n",
       "      <td id=\"T_465ce_row11_col7\" class=\"data row11 col7\" >0.0600</td>\n",
       "    </tr>\n",
       "    <tr>\n",
       "      <th id=\"T_465ce_level0_row12\" class=\"row_heading level0 row12\" >huber</th>\n",
       "      <td id=\"T_465ce_row12_col0\" class=\"data row12 col0\" >Huber Regressor</td>\n",
       "      <td id=\"T_465ce_row12_col1\" class=\"data row12 col1\" >116856.1382</td>\n",
       "      <td id=\"T_465ce_row12_col2\" class=\"data row12 col2\" >23990453284.1758</td>\n",
       "      <td id=\"T_465ce_row12_col3\" class=\"data row12 col3\" >154804.3627</td>\n",
       "      <td id=\"T_465ce_row12_col4\" class=\"data row12 col4\" >0.5169</td>\n",
       "      <td id=\"T_465ce_row12_col5\" class=\"data row12 col5\" >0.3255</td>\n",
       "      <td id=\"T_465ce_row12_col6\" class=\"data row12 col6\" >0.2830</td>\n",
       "      <td id=\"T_465ce_row12_col7\" class=\"data row12 col7\" >0.3260</td>\n",
       "    </tr>\n",
       "    <tr>\n",
       "      <th id=\"T_465ce_level0_row13\" class=\"row_heading level0 row13\" >knn</th>\n",
       "      <td id=\"T_465ce_row13_col0\" class=\"data row13 col0\" >K Neighbors Regressor</td>\n",
       "      <td id=\"T_465ce_row13_col1\" class=\"data row13 col1\" >132049.8492</td>\n",
       "      <td id=\"T_465ce_row13_col2\" class=\"data row13 col2\" >30825575424.0000</td>\n",
       "      <td id=\"T_465ce_row13_col3\" class=\"data row13 col3\" >175518.6562</td>\n",
       "      <td id=\"T_465ce_row13_col4\" class=\"data row13 col4\" >0.3791</td>\n",
       "      <td id=\"T_465ce_row13_col5\" class=\"data row13 col5\" >0.3650</td>\n",
       "      <td id=\"T_465ce_row13_col6\" class=\"data row13 col6\" >0.3163</td>\n",
       "      <td id=\"T_465ce_row13_col7\" class=\"data row13 col7\" >0.0480</td>\n",
       "    </tr>\n",
       "    <tr>\n",
       "      <th id=\"T_465ce_level0_row14\" class=\"row_heading level0 row14\" >ada</th>\n",
       "      <td id=\"T_465ce_row14_col0\" class=\"data row14 col0\" >AdaBoost Regressor</td>\n",
       "      <td id=\"T_465ce_row14_col1\" class=\"data row14 col1\" >145122.0599</td>\n",
       "      <td id=\"T_465ce_row14_col2\" class=\"data row14 col2\" >31188361968.9093</td>\n",
       "      <td id=\"T_465ce_row14_col3\" class=\"data row14 col3\" >176421.0543</td>\n",
       "      <td id=\"T_465ce_row14_col4\" class=\"data row14 col4\" >0.3716</td>\n",
       "      <td id=\"T_465ce_row14_col5\" class=\"data row14 col5\" >0.4178</td>\n",
       "      <td id=\"T_465ce_row14_col6\" class=\"data row14 col6\" >0.4257</td>\n",
       "      <td id=\"T_465ce_row14_col7\" class=\"data row14 col7\" >0.8640</td>\n",
       "    </tr>\n",
       "    <tr>\n",
       "      <th id=\"T_465ce_level0_row15\" class=\"row_heading level0 row15\" >dummy</th>\n",
       "      <td id=\"T_465ce_row15_col0\" class=\"data row15 col0\" >Dummy Regressor</td>\n",
       "      <td id=\"T_465ce_row15_col1\" class=\"data row15 col1\" >174142.9750</td>\n",
       "      <td id=\"T_465ce_row15_col2\" class=\"data row15 col2\" >49690873856.0000</td>\n",
       "      <td id=\"T_465ce_row15_col3\" class=\"data row15 col3\" >222837.6641</td>\n",
       "      <td id=\"T_465ce_row15_col4\" class=\"data row15 col4\" >-0.0005</td>\n",
       "      <td id=\"T_465ce_row15_col5\" class=\"data row15 col5\" >0.4697</td>\n",
       "      <td id=\"T_465ce_row15_col6\" class=\"data row15 col6\" >0.4514</td>\n",
       "      <td id=\"T_465ce_row15_col7\" class=\"data row15 col7\" >0.0130</td>\n",
       "    </tr>\n",
       "    <tr>\n",
       "      <th id=\"T_465ce_level0_row16\" class=\"row_heading level0 row16\" >par</th>\n",
       "      <td id=\"T_465ce_row16_col0\" class=\"data row16 col0\" >Passive Aggressive Regressor</td>\n",
       "      <td id=\"T_465ce_row16_col1\" class=\"data row16 col1\" >172963.7988</td>\n",
       "      <td id=\"T_465ce_row16_col2\" class=\"data row16 col2\" >53831329450.2098</td>\n",
       "      <td id=\"T_465ce_row16_col3\" class=\"data row16 col3\" >224697.2676</td>\n",
       "      <td id=\"T_465ce_row16_col4\" class=\"data row16 col4\" >-0.0836</td>\n",
       "      <td id=\"T_465ce_row16_col5\" class=\"data row16 col5\" >0.4988</td>\n",
       "      <td id=\"T_465ce_row16_col6\" class=\"data row16 col6\" >0.3568</td>\n",
       "      <td id=\"T_465ce_row16_col7\" class=\"data row16 col7\" >0.0360</td>\n",
       "    </tr>\n",
       "    <tr>\n",
       "      <th id=\"T_465ce_level0_row17\" class=\"row_heading level0 row17\" >lar</th>\n",
       "      <td id=\"T_465ce_row17_col0\" class=\"data row17 col0\" >Least Angle Regression</td>\n",
       "      <td id=\"T_465ce_row17_col1\" class=\"data row17 col1\" >103980141.0747</td>\n",
       "      <td id=\"T_465ce_row17_col2\" class=\"data row17 col2\" >152406498252149408.0000</td>\n",
       "      <td id=\"T_465ce_row17_col3\" class=\"data row17 col3\" >263015449.0566</td>\n",
       "      <td id=\"T_465ce_row17_col4\" class=\"data row17 col4\" >-2995453.0103</td>\n",
       "      <td id=\"T_465ce_row17_col5\" class=\"data row17 col5\" >3.7494</td>\n",
       "      <td id=\"T_465ce_row17_col6\" class=\"data row17 col6\" >317.6813</td>\n",
       "      <td id=\"T_465ce_row17_col7\" class=\"data row17 col7\" >0.0210</td>\n",
       "    </tr>\n",
       "  </tbody>\n",
       "</table>\n"
      ],
      "text/plain": [
       "<pandas.io.formats.style.Styler at 0x76933eba8610>"
      ]
     },
     "metadata": {},
     "output_type": "display_data"
    },
    {
     "data": {
      "text/html": [],
      "text/plain": [
       "<IPython.core.display.HTML object>"
      ]
     },
     "metadata": {},
     "output_type": "display_data"
    }
   ],
   "source": [
    "best_model=compare_models()"
   ]
  },
  {
   "cell_type": "markdown",
   "metadata": {
    "id": "xMdlt66sA09A"
   },
   "source": [
    "## Classification"
   ]
  },
  {
   "cell_type": "code",
   "execution_count": 6,
   "metadata": {
    "id": "veNhU8FO_b1H"
   },
   "outputs": [],
   "source": [
    "df=pd.read_csv(\"pima-indians-diabetes.csv\")"
   ]
  },
  {
   "cell_type": "code",
   "execution_count": 7,
   "metadata": {
    "id": "8pKX672oA7CJ"
   },
   "outputs": [],
   "source": [
    "from pycaret.classification import *"
   ]
  },
  {
   "cell_type": "code",
   "execution_count": 8,
   "metadata": {
    "colab": {
     "base_uri": "https://localhost:8080/",
     "height": 717
    },
    "id": "fOiTysQhBATG",
    "outputId": "5c1fac4c-f63b-4d29-aecb-e569017deea8"
   },
   "outputs": [
    {
     "data": {
      "text/html": [
       "<style type=\"text/css\">\n",
       "#T_4b0c3_row8_col1 {\n",
       "  background-color: lightgreen;\n",
       "}\n",
       "</style>\n",
       "<table id=\"T_4b0c3\">\n",
       "  <thead>\n",
       "    <tr>\n",
       "      <th class=\"blank level0\" >&nbsp;</th>\n",
       "      <th id=\"T_4b0c3_level0_col0\" class=\"col_heading level0 col0\" >Description</th>\n",
       "      <th id=\"T_4b0c3_level0_col1\" class=\"col_heading level0 col1\" >Value</th>\n",
       "    </tr>\n",
       "  </thead>\n",
       "  <tbody>\n",
       "    <tr>\n",
       "      <th id=\"T_4b0c3_level0_row0\" class=\"row_heading level0 row0\" >0</th>\n",
       "      <td id=\"T_4b0c3_row0_col0\" class=\"data row0 col0\" >Session id</td>\n",
       "      <td id=\"T_4b0c3_row0_col1\" class=\"data row0 col1\" >3230</td>\n",
       "    </tr>\n",
       "    <tr>\n",
       "      <th id=\"T_4b0c3_level0_row1\" class=\"row_heading level0 row1\" >1</th>\n",
       "      <td id=\"T_4b0c3_row1_col0\" class=\"data row1 col0\" >Target</td>\n",
       "      <td id=\"T_4b0c3_row1_col1\" class=\"data row1 col1\" >Outcome</td>\n",
       "    </tr>\n",
       "    <tr>\n",
       "      <th id=\"T_4b0c3_level0_row2\" class=\"row_heading level0 row2\" >2</th>\n",
       "      <td id=\"T_4b0c3_row2_col0\" class=\"data row2 col0\" >Target type</td>\n",
       "      <td id=\"T_4b0c3_row2_col1\" class=\"data row2 col1\" >Binary</td>\n",
       "    </tr>\n",
       "    <tr>\n",
       "      <th id=\"T_4b0c3_level0_row3\" class=\"row_heading level0 row3\" >3</th>\n",
       "      <td id=\"T_4b0c3_row3_col0\" class=\"data row3 col0\" >Original data shape</td>\n",
       "      <td id=\"T_4b0c3_row3_col1\" class=\"data row3 col1\" >(768, 9)</td>\n",
       "    </tr>\n",
       "    <tr>\n",
       "      <th id=\"T_4b0c3_level0_row4\" class=\"row_heading level0 row4\" >4</th>\n",
       "      <td id=\"T_4b0c3_row4_col0\" class=\"data row4 col0\" >Transformed data shape</td>\n",
       "      <td id=\"T_4b0c3_row4_col1\" class=\"data row4 col1\" >(768, 9)</td>\n",
       "    </tr>\n",
       "    <tr>\n",
       "      <th id=\"T_4b0c3_level0_row5\" class=\"row_heading level0 row5\" >5</th>\n",
       "      <td id=\"T_4b0c3_row5_col0\" class=\"data row5 col0\" >Transformed train set shape</td>\n",
       "      <td id=\"T_4b0c3_row5_col1\" class=\"data row5 col1\" >(537, 9)</td>\n",
       "    </tr>\n",
       "    <tr>\n",
       "      <th id=\"T_4b0c3_level0_row6\" class=\"row_heading level0 row6\" >6</th>\n",
       "      <td id=\"T_4b0c3_row6_col0\" class=\"data row6 col0\" >Transformed test set shape</td>\n",
       "      <td id=\"T_4b0c3_row6_col1\" class=\"data row6 col1\" >(231, 9)</td>\n",
       "    </tr>\n",
       "    <tr>\n",
       "      <th id=\"T_4b0c3_level0_row7\" class=\"row_heading level0 row7\" >7</th>\n",
       "      <td id=\"T_4b0c3_row7_col0\" class=\"data row7 col0\" >Numeric features</td>\n",
       "      <td id=\"T_4b0c3_row7_col1\" class=\"data row7 col1\" >8</td>\n",
       "    </tr>\n",
       "    <tr>\n",
       "      <th id=\"T_4b0c3_level0_row8\" class=\"row_heading level0 row8\" >8</th>\n",
       "      <td id=\"T_4b0c3_row8_col0\" class=\"data row8 col0\" >Preprocess</td>\n",
       "      <td id=\"T_4b0c3_row8_col1\" class=\"data row8 col1\" >True</td>\n",
       "    </tr>\n",
       "    <tr>\n",
       "      <th id=\"T_4b0c3_level0_row9\" class=\"row_heading level0 row9\" >9</th>\n",
       "      <td id=\"T_4b0c3_row9_col0\" class=\"data row9 col0\" >Imputation type</td>\n",
       "      <td id=\"T_4b0c3_row9_col1\" class=\"data row9 col1\" >simple</td>\n",
       "    </tr>\n",
       "    <tr>\n",
       "      <th id=\"T_4b0c3_level0_row10\" class=\"row_heading level0 row10\" >10</th>\n",
       "      <td id=\"T_4b0c3_row10_col0\" class=\"data row10 col0\" >Numeric imputation</td>\n",
       "      <td id=\"T_4b0c3_row10_col1\" class=\"data row10 col1\" >mean</td>\n",
       "    </tr>\n",
       "    <tr>\n",
       "      <th id=\"T_4b0c3_level0_row11\" class=\"row_heading level0 row11\" >11</th>\n",
       "      <td id=\"T_4b0c3_row11_col0\" class=\"data row11 col0\" >Categorical imputation</td>\n",
       "      <td id=\"T_4b0c3_row11_col1\" class=\"data row11 col1\" >mode</td>\n",
       "    </tr>\n",
       "    <tr>\n",
       "      <th id=\"T_4b0c3_level0_row12\" class=\"row_heading level0 row12\" >12</th>\n",
       "      <td id=\"T_4b0c3_row12_col0\" class=\"data row12 col0\" >Fold Generator</td>\n",
       "      <td id=\"T_4b0c3_row12_col1\" class=\"data row12 col1\" >StratifiedKFold</td>\n",
       "    </tr>\n",
       "    <tr>\n",
       "      <th id=\"T_4b0c3_level0_row13\" class=\"row_heading level0 row13\" >13</th>\n",
       "      <td id=\"T_4b0c3_row13_col0\" class=\"data row13 col0\" >Fold Number</td>\n",
       "      <td id=\"T_4b0c3_row13_col1\" class=\"data row13 col1\" >10</td>\n",
       "    </tr>\n",
       "    <tr>\n",
       "      <th id=\"T_4b0c3_level0_row14\" class=\"row_heading level0 row14\" >14</th>\n",
       "      <td id=\"T_4b0c3_row14_col0\" class=\"data row14 col0\" >CPU Jobs</td>\n",
       "      <td id=\"T_4b0c3_row14_col1\" class=\"data row14 col1\" >-1</td>\n",
       "    </tr>\n",
       "    <tr>\n",
       "      <th id=\"T_4b0c3_level0_row15\" class=\"row_heading level0 row15\" >15</th>\n",
       "      <td id=\"T_4b0c3_row15_col0\" class=\"data row15 col0\" >Use GPU</td>\n",
       "      <td id=\"T_4b0c3_row15_col1\" class=\"data row15 col1\" >False</td>\n",
       "    </tr>\n",
       "    <tr>\n",
       "      <th id=\"T_4b0c3_level0_row16\" class=\"row_heading level0 row16\" >16</th>\n",
       "      <td id=\"T_4b0c3_row16_col0\" class=\"data row16 col0\" >Log Experiment</td>\n",
       "      <td id=\"T_4b0c3_row16_col1\" class=\"data row16 col1\" >False</td>\n",
       "    </tr>\n",
       "    <tr>\n",
       "      <th id=\"T_4b0c3_level0_row17\" class=\"row_heading level0 row17\" >17</th>\n",
       "      <td id=\"T_4b0c3_row17_col0\" class=\"data row17 col0\" >Experiment Name</td>\n",
       "      <td id=\"T_4b0c3_row17_col1\" class=\"data row17 col1\" >clf-default-name</td>\n",
       "    </tr>\n",
       "    <tr>\n",
       "      <th id=\"T_4b0c3_level0_row18\" class=\"row_heading level0 row18\" >18</th>\n",
       "      <td id=\"T_4b0c3_row18_col0\" class=\"data row18 col0\" >USI</td>\n",
       "      <td id=\"T_4b0c3_row18_col1\" class=\"data row18 col1\" >9ac9</td>\n",
       "    </tr>\n",
       "  </tbody>\n",
       "</table>\n"
      ],
      "text/plain": [
       "<pandas.io.formats.style.Styler at 0x76933df0c450>"
      ]
     },
     "metadata": {},
     "output_type": "display_data"
    },
    {
     "data": {
      "text/plain": [
       "<pycaret.classification.oop.ClassificationExperiment at 0x7693946658d0>"
      ]
     },
     "execution_count": 8,
     "metadata": {},
     "output_type": "execute_result"
    }
   ],
   "source": [
    "setup(df, target=\"Outcome\")"
   ]
  },
  {
   "cell_type": "code",
   "execution_count": 9,
   "metadata": {
    "colab": {
     "base_uri": "https://localhost:8080/",
     "height": 652,
     "referenced_widgets": [
      "85531421516940d4968b661c5a332eee",
      "ed106f271424411f80cf1c3b3c53c985",
      "fe859c79a4e24cff9b37e8f4277e9154",
      "0aeb844e0efe4d509d70f89bd3bbb9d9",
      "1c96ce74ef864b2faa5b4147ffb15e88",
      "772972e35a2e49ca95ff75741d77adb5",
      "5df1683cf33a4e76b3a97eafc50279c5",
      "88d70c4a78514ae2b904b22eac7f7a52",
      "6e590e06b03649ffabe60667c3d900bc",
      "9143f048e12947dfae32617c52ed3de8",
      "ee3d1ac7051148c58411ce4cd9966a34"
     ]
    },
    "id": "nWnKNIsABHU8",
    "outputId": "d3b630e5-fbf4-47d1-86ef-caa3d6b49db3"
   },
   "outputs": [
    {
     "data": {
      "text/html": [],
      "text/plain": [
       "<IPython.core.display.HTML object>"
      ]
     },
     "metadata": {},
     "output_type": "display_data"
    },
    {
     "data": {
      "text/html": [
       "<style type=\"text/css\">\n",
       "#T_25da3 th {\n",
       "  text-align: left;\n",
       "}\n",
       "#T_25da3_row0_col0, #T_25da3_row0_col2, #T_25da3_row0_col3, #T_25da3_row0_col5, #T_25da3_row1_col0, #T_25da3_row1_col1, #T_25da3_row1_col2, #T_25da3_row1_col3, #T_25da3_row1_col4, #T_25da3_row1_col5, #T_25da3_row1_col6, #T_25da3_row1_col7, #T_25da3_row2_col0, #T_25da3_row2_col1, #T_25da3_row2_col3, #T_25da3_row2_col4, #T_25da3_row2_col5, #T_25da3_row2_col6, #T_25da3_row2_col7, #T_25da3_row3_col0, #T_25da3_row3_col1, #T_25da3_row3_col2, #T_25da3_row3_col4, #T_25da3_row3_col6, #T_25da3_row3_col7, #T_25da3_row4_col0, #T_25da3_row4_col1, #T_25da3_row4_col2, #T_25da3_row4_col3, #T_25da3_row4_col4, #T_25da3_row4_col5, #T_25da3_row4_col6, #T_25da3_row4_col7, #T_25da3_row5_col0, #T_25da3_row5_col1, #T_25da3_row5_col2, #T_25da3_row5_col3, #T_25da3_row5_col4, #T_25da3_row5_col5, #T_25da3_row5_col6, #T_25da3_row5_col7, #T_25da3_row6_col0, #T_25da3_row6_col1, #T_25da3_row6_col2, #T_25da3_row6_col3, #T_25da3_row6_col4, #T_25da3_row6_col5, #T_25da3_row6_col6, #T_25da3_row6_col7, #T_25da3_row7_col0, #T_25da3_row7_col1, #T_25da3_row7_col2, #T_25da3_row7_col3, #T_25da3_row7_col4, #T_25da3_row7_col5, #T_25da3_row7_col6, #T_25da3_row7_col7, #T_25da3_row8_col0, #T_25da3_row8_col1, #T_25da3_row8_col2, #T_25da3_row8_col3, #T_25da3_row8_col4, #T_25da3_row8_col5, #T_25da3_row8_col6, #T_25da3_row8_col7, #T_25da3_row9_col0, #T_25da3_row9_col1, #T_25da3_row9_col2, #T_25da3_row9_col3, #T_25da3_row9_col4, #T_25da3_row9_col5, #T_25da3_row9_col6, #T_25da3_row9_col7, #T_25da3_row10_col0, #T_25da3_row10_col1, #T_25da3_row10_col2, #T_25da3_row10_col3, #T_25da3_row10_col4, #T_25da3_row10_col5, #T_25da3_row10_col6, #T_25da3_row10_col7, #T_25da3_row11_col0, #T_25da3_row11_col1, #T_25da3_row11_col2, #T_25da3_row11_col3, #T_25da3_row11_col4, #T_25da3_row11_col5, #T_25da3_row11_col6, #T_25da3_row11_col7, #T_25da3_row12_col0, #T_25da3_row12_col1, #T_25da3_row12_col2, #T_25da3_row12_col3, #T_25da3_row12_col4, #T_25da3_row12_col5, #T_25da3_row12_col6, #T_25da3_row12_col7, #T_25da3_row13_col0, #T_25da3_row13_col1, #T_25da3_row13_col2, #T_25da3_row13_col3, #T_25da3_row13_col4, #T_25da3_row13_col5, #T_25da3_row13_col6, #T_25da3_row13_col7 {\n",
       "  text-align: left;\n",
       "}\n",
       "#T_25da3_row0_col1, #T_25da3_row0_col4, #T_25da3_row0_col6, #T_25da3_row0_col7, #T_25da3_row2_col2, #T_25da3_row3_col3, #T_25da3_row3_col5 {\n",
       "  text-align: left;\n",
       "  background-color: yellow;\n",
       "}\n",
       "#T_25da3_row0_col8, #T_25da3_row1_col8, #T_25da3_row2_col8, #T_25da3_row3_col8, #T_25da3_row4_col8, #T_25da3_row5_col8, #T_25da3_row6_col8, #T_25da3_row7_col8, #T_25da3_row8_col8, #T_25da3_row9_col8, #T_25da3_row10_col8, #T_25da3_row11_col8, #T_25da3_row13_col8 {\n",
       "  text-align: left;\n",
       "  background-color: lightgrey;\n",
       "}\n",
       "#T_25da3_row12_col8 {\n",
       "  text-align: left;\n",
       "  background-color: yellow;\n",
       "  background-color: lightgrey;\n",
       "}\n",
       "</style>\n",
       "<table id=\"T_25da3\">\n",
       "  <thead>\n",
       "    <tr>\n",
       "      <th class=\"blank level0\" >&nbsp;</th>\n",
       "      <th id=\"T_25da3_level0_col0\" class=\"col_heading level0 col0\" >Model</th>\n",
       "      <th id=\"T_25da3_level0_col1\" class=\"col_heading level0 col1\" >Accuracy</th>\n",
       "      <th id=\"T_25da3_level0_col2\" class=\"col_heading level0 col2\" >AUC</th>\n",
       "      <th id=\"T_25da3_level0_col3\" class=\"col_heading level0 col3\" >Recall</th>\n",
       "      <th id=\"T_25da3_level0_col4\" class=\"col_heading level0 col4\" >Prec.</th>\n",
       "      <th id=\"T_25da3_level0_col5\" class=\"col_heading level0 col5\" >F1</th>\n",
       "      <th id=\"T_25da3_level0_col6\" class=\"col_heading level0 col6\" >Kappa</th>\n",
       "      <th id=\"T_25da3_level0_col7\" class=\"col_heading level0 col7\" >MCC</th>\n",
       "      <th id=\"T_25da3_level0_col8\" class=\"col_heading level0 col8\" >TT (Sec)</th>\n",
       "    </tr>\n",
       "  </thead>\n",
       "  <tbody>\n",
       "    <tr>\n",
       "      <th id=\"T_25da3_level0_row0\" class=\"row_heading level0 row0\" >ridge</th>\n",
       "      <td id=\"T_25da3_row0_col0\" class=\"data row0 col0\" >Ridge Classifier</td>\n",
       "      <td id=\"T_25da3_row0_col1\" class=\"data row0 col1\" >0.7729</td>\n",
       "      <td id=\"T_25da3_row0_col2\" class=\"data row0 col2\" >0.8142</td>\n",
       "      <td id=\"T_25da3_row0_col3\" class=\"data row0 col3\" >0.5617</td>\n",
       "      <td id=\"T_25da3_row0_col4\" class=\"data row0 col4\" >0.7326</td>\n",
       "      <td id=\"T_25da3_row0_col5\" class=\"data row0 col5\" >0.6310</td>\n",
       "      <td id=\"T_25da3_row0_col6\" class=\"data row0 col6\" >0.4718</td>\n",
       "      <td id=\"T_25da3_row0_col7\" class=\"data row0 col7\" >0.4838</td>\n",
       "      <td id=\"T_25da3_row0_col8\" class=\"data row0 col8\" >0.0070</td>\n",
       "    </tr>\n",
       "    <tr>\n",
       "      <th id=\"T_25da3_level0_row1\" class=\"row_heading level0 row1\" >lr</th>\n",
       "      <td id=\"T_25da3_row1_col0\" class=\"data row1 col0\" >Logistic Regression</td>\n",
       "      <td id=\"T_25da3_row1_col1\" class=\"data row1 col1\" >0.7692</td>\n",
       "      <td id=\"T_25da3_row1_col2\" class=\"data row1 col2\" >0.8121</td>\n",
       "      <td id=\"T_25da3_row1_col3\" class=\"data row1 col3\" >0.5564</td>\n",
       "      <td id=\"T_25da3_row1_col4\" class=\"data row1 col4\" >0.7229</td>\n",
       "      <td id=\"T_25da3_row1_col5\" class=\"data row1 col5\" >0.6247</td>\n",
       "      <td id=\"T_25da3_row1_col6\" class=\"data row1 col6\" >0.4629</td>\n",
       "      <td id=\"T_25da3_row1_col7\" class=\"data row1 col7\" >0.4739</td>\n",
       "      <td id=\"T_25da3_row1_col8\" class=\"data row1 col8\" >0.0100</td>\n",
       "    </tr>\n",
       "    <tr>\n",
       "      <th id=\"T_25da3_level0_row2\" class=\"row_heading level0 row2\" >lda</th>\n",
       "      <td id=\"T_25da3_row2_col0\" class=\"data row2 col0\" >Linear Discriminant Analysis</td>\n",
       "      <td id=\"T_25da3_row2_col1\" class=\"data row2 col1\" >0.7692</td>\n",
       "      <td id=\"T_25da3_row2_col2\" class=\"data row2 col2\" >0.8145</td>\n",
       "      <td id=\"T_25da3_row2_col3\" class=\"data row2 col3\" >0.5617</td>\n",
       "      <td id=\"T_25da3_row2_col4\" class=\"data row2 col4\" >0.7201</td>\n",
       "      <td id=\"T_25da3_row2_col5\" class=\"data row2 col5\" >0.6270</td>\n",
       "      <td id=\"T_25da3_row2_col6\" class=\"data row2 col6\" >0.4643</td>\n",
       "      <td id=\"T_25da3_row2_col7\" class=\"data row2 col7\" >0.4746</td>\n",
       "      <td id=\"T_25da3_row2_col8\" class=\"data row2 col8\" >0.0070</td>\n",
       "    </tr>\n",
       "    <tr>\n",
       "      <th id=\"T_25da3_level0_row3\" class=\"row_heading level0 row3\" >nb</th>\n",
       "      <td id=\"T_25da3_row3_col0\" class=\"data row3 col0\" >Naive Bayes</td>\n",
       "      <td id=\"T_25da3_row3_col1\" class=\"data row3 col1\" >0.7599</td>\n",
       "      <td id=\"T_25da3_row3_col2\" class=\"data row3 col2\" >0.8012</td>\n",
       "      <td id=\"T_25da3_row3_col3\" class=\"data row3 col3\" >0.6053</td>\n",
       "      <td id=\"T_25da3_row3_col4\" class=\"data row3 col4\" >0.6783</td>\n",
       "      <td id=\"T_25da3_row3_col5\" class=\"data row3 col5\" >0.6351</td>\n",
       "      <td id=\"T_25da3_row3_col6\" class=\"data row3 col6\" >0.4580</td>\n",
       "      <td id=\"T_25da3_row3_col7\" class=\"data row3 col7\" >0.4632</td>\n",
       "      <td id=\"T_25da3_row3_col8\" class=\"data row3 col8\" >0.0070</td>\n",
       "    </tr>\n",
       "    <tr>\n",
       "      <th id=\"T_25da3_level0_row4\" class=\"row_heading level0 row4\" >gbc</th>\n",
       "      <td id=\"T_25da3_row4_col0\" class=\"data row4 col0\" >Gradient Boosting Classifier</td>\n",
       "      <td id=\"T_25da3_row4_col1\" class=\"data row4 col1\" >0.7394</td>\n",
       "      <td id=\"T_25da3_row4_col2\" class=\"data row4 col2\" >0.8011</td>\n",
       "      <td id=\"T_25da3_row4_col3\" class=\"data row4 col3\" >0.5558</td>\n",
       "      <td id=\"T_25da3_row4_col4\" class=\"data row4 col4\" >0.6509</td>\n",
       "      <td id=\"T_25da3_row4_col5\" class=\"data row4 col5\" >0.5947</td>\n",
       "      <td id=\"T_25da3_row4_col6\" class=\"data row4 col6\" >0.4055</td>\n",
       "      <td id=\"T_25da3_row4_col7\" class=\"data row4 col7\" >0.4115</td>\n",
       "      <td id=\"T_25da3_row4_col8\" class=\"data row4 col8\" >0.0380</td>\n",
       "    </tr>\n",
       "    <tr>\n",
       "      <th id=\"T_25da3_level0_row5\" class=\"row_heading level0 row5\" >et</th>\n",
       "      <td id=\"T_25da3_row5_col0\" class=\"data row5 col0\" >Extra Trees Classifier</td>\n",
       "      <td id=\"T_25da3_row5_col1\" class=\"data row5 col1\" >0.7375</td>\n",
       "      <td id=\"T_25da3_row5_col2\" class=\"data row5 col2\" >0.7958</td>\n",
       "      <td id=\"T_25da3_row5_col3\" class=\"data row5 col3\" >0.5132</td>\n",
       "      <td id=\"T_25da3_row5_col4\" class=\"data row5 col4\" >0.6747</td>\n",
       "      <td id=\"T_25da3_row5_col5\" class=\"data row5 col5\" >0.5752</td>\n",
       "      <td id=\"T_25da3_row5_col6\" class=\"data row5 col6\" >0.3910</td>\n",
       "      <td id=\"T_25da3_row5_col7\" class=\"data row5 col7\" >0.4037</td>\n",
       "      <td id=\"T_25da3_row5_col8\" class=\"data row5 col8\" >0.0410</td>\n",
       "    </tr>\n",
       "    <tr>\n",
       "      <th id=\"T_25da3_level0_row6\" class=\"row_heading level0 row6\" >rf</th>\n",
       "      <td id=\"T_25da3_row6_col0\" class=\"data row6 col0\" >Random Forest Classifier</td>\n",
       "      <td id=\"T_25da3_row6_col1\" class=\"data row6 col1\" >0.7301</td>\n",
       "      <td id=\"T_25da3_row6_col2\" class=\"data row6 col2\" >0.7944</td>\n",
       "      <td id=\"T_25da3_row6_col3\" class=\"data row6 col3\" >0.5345</td>\n",
       "      <td id=\"T_25da3_row6_col4\" class=\"data row6 col4\" >0.6333</td>\n",
       "      <td id=\"T_25da3_row6_col5\" class=\"data row6 col5\" >0.5760</td>\n",
       "      <td id=\"T_25da3_row6_col6\" class=\"data row6 col6\" >0.3813</td>\n",
       "      <td id=\"T_25da3_row6_col7\" class=\"data row6 col7\" >0.3864</td>\n",
       "      <td id=\"T_25da3_row6_col8\" class=\"data row6 col8\" >0.0530</td>\n",
       "    </tr>\n",
       "    <tr>\n",
       "      <th id=\"T_25da3_level0_row7\" class=\"row_heading level0 row7\" >ada</th>\n",
       "      <td id=\"T_25da3_row7_col0\" class=\"data row7 col0\" >Ada Boost Classifier</td>\n",
       "      <td id=\"T_25da3_row7_col1\" class=\"data row7 col1\" >0.7226</td>\n",
       "      <td id=\"T_25da3_row7_col2\" class=\"data row7 col2\" >0.7552</td>\n",
       "      <td id=\"T_25da3_row7_col3\" class=\"data row7 col3\" >0.5515</td>\n",
       "      <td id=\"T_25da3_row7_col4\" class=\"data row7 col4\" >0.6184</td>\n",
       "      <td id=\"T_25da3_row7_col5\" class=\"data row7 col5\" >0.5778</td>\n",
       "      <td id=\"T_25da3_row7_col6\" class=\"data row7 col6\" >0.3735</td>\n",
       "      <td id=\"T_25da3_row7_col7\" class=\"data row7 col7\" >0.3785</td>\n",
       "      <td id=\"T_25da3_row7_col8\" class=\"data row7 col8\" >0.0260</td>\n",
       "    </tr>\n",
       "    <tr>\n",
       "      <th id=\"T_25da3_level0_row8\" class=\"row_heading level0 row8\" >qda</th>\n",
       "      <td id=\"T_25da3_row8_col0\" class=\"data row8 col0\" >Quadratic Discriminant Analysis</td>\n",
       "      <td id=\"T_25da3_row8_col1\" class=\"data row8 col1\" >0.7189</td>\n",
       "      <td id=\"T_25da3_row8_col2\" class=\"data row8 col2\" >0.7937</td>\n",
       "      <td id=\"T_25da3_row8_col3\" class=\"data row8 col3\" >0.5137</td>\n",
       "      <td id=\"T_25da3_row8_col4\" class=\"data row8 col4\" >0.6217</td>\n",
       "      <td id=\"T_25da3_row8_col5\" class=\"data row8 col5\" >0.5576</td>\n",
       "      <td id=\"T_25da3_row8_col6\" class=\"data row8 col6\" >0.3555</td>\n",
       "      <td id=\"T_25da3_row8_col7\" class=\"data row8 col7\" >0.3622</td>\n",
       "      <td id=\"T_25da3_row8_col8\" class=\"data row8 col8\" >0.0080</td>\n",
       "    </tr>\n",
       "    <tr>\n",
       "      <th id=\"T_25da3_level0_row9\" class=\"row_heading level0 row9\" >lightgbm</th>\n",
       "      <td id=\"T_25da3_row9_col0\" class=\"data row9 col0\" >Light Gradient Boosting Machine</td>\n",
       "      <td id=\"T_25da3_row9_col1\" class=\"data row9 col1\" >0.7151</td>\n",
       "      <td id=\"T_25da3_row9_col2\" class=\"data row9 col2\" >0.7654</td>\n",
       "      <td id=\"T_25da3_row9_col3\" class=\"data row9 col3\" >0.5503</td>\n",
       "      <td id=\"T_25da3_row9_col4\" class=\"data row9 col4\" >0.6064</td>\n",
       "      <td id=\"T_25da3_row9_col5\" class=\"data row9 col5\" >0.5706</td>\n",
       "      <td id=\"T_25da3_row9_col6\" class=\"data row9 col6\" >0.3598</td>\n",
       "      <td id=\"T_25da3_row9_col7\" class=\"data row9 col7\" >0.3648</td>\n",
       "      <td id=\"T_25da3_row9_col8\" class=\"data row9 col8\" >46.1190</td>\n",
       "    </tr>\n",
       "    <tr>\n",
       "      <th id=\"T_25da3_level0_row10\" class=\"row_heading level0 row10\" >knn</th>\n",
       "      <td id=\"T_25da3_row10_col0\" class=\"data row10 col0\" >K Neighbors Classifier</td>\n",
       "      <td id=\"T_25da3_row10_col1\" class=\"data row10 col1\" >0.7117</td>\n",
       "      <td id=\"T_25da3_row10_col2\" class=\"data row10 col2\" >0.7277</td>\n",
       "      <td id=\"T_25da3_row10_col3\" class=\"data row10 col3\" >0.5365</td>\n",
       "      <td id=\"T_25da3_row10_col4\" class=\"data row10 col4\" >0.5981</td>\n",
       "      <td id=\"T_25da3_row10_col5\" class=\"data row10 col5\" >0.5577</td>\n",
       "      <td id=\"T_25da3_row10_col6\" class=\"data row10 col6\" >0.3474</td>\n",
       "      <td id=\"T_25da3_row10_col7\" class=\"data row10 col7\" >0.3539</td>\n",
       "      <td id=\"T_25da3_row10_col8\" class=\"data row10 col8\" >0.0130</td>\n",
       "    </tr>\n",
       "    <tr>\n",
       "      <th id=\"T_25da3_level0_row11\" class=\"row_heading level0 row11\" >dt</th>\n",
       "      <td id=\"T_25da3_row11_col0\" class=\"data row11 col0\" >Decision Tree Classifier</td>\n",
       "      <td id=\"T_25da3_row11_col1\" class=\"data row11 col1\" >0.6943</td>\n",
       "      <td id=\"T_25da3_row11_col2\" class=\"data row11 col2\" >0.6565</td>\n",
       "      <td id=\"T_25da3_row11_col3\" class=\"data row11 col3\" >0.5330</td>\n",
       "      <td id=\"T_25da3_row11_col4\" class=\"data row11 col4\" >0.5680</td>\n",
       "      <td id=\"T_25da3_row11_col5\" class=\"data row11 col5\" >0.5438</td>\n",
       "      <td id=\"T_25da3_row11_col6\" class=\"data row11 col6\" >0.3159</td>\n",
       "      <td id=\"T_25da3_row11_col7\" class=\"data row11 col7\" >0.3209</td>\n",
       "      <td id=\"T_25da3_row11_col8\" class=\"data row11 col8\" >0.0080</td>\n",
       "    </tr>\n",
       "    <tr>\n",
       "      <th id=\"T_25da3_level0_row12\" class=\"row_heading level0 row12\" >dummy</th>\n",
       "      <td id=\"T_25da3_row12_col0\" class=\"data row12 col0\" >Dummy Classifier</td>\n",
       "      <td id=\"T_25da3_row12_col1\" class=\"data row12 col1\" >0.6518</td>\n",
       "      <td id=\"T_25da3_row12_col2\" class=\"data row12 col2\" >0.5000</td>\n",
       "      <td id=\"T_25da3_row12_col3\" class=\"data row12 col3\" >0.0000</td>\n",
       "      <td id=\"T_25da3_row12_col4\" class=\"data row12 col4\" >0.0000</td>\n",
       "      <td id=\"T_25da3_row12_col5\" class=\"data row12 col5\" >0.0000</td>\n",
       "      <td id=\"T_25da3_row12_col6\" class=\"data row12 col6\" >0.0000</td>\n",
       "      <td id=\"T_25da3_row12_col7\" class=\"data row12 col7\" >0.0000</td>\n",
       "      <td id=\"T_25da3_row12_col8\" class=\"data row12 col8\" >0.0050</td>\n",
       "    </tr>\n",
       "    <tr>\n",
       "      <th id=\"T_25da3_level0_row13\" class=\"row_heading level0 row13\" >svm</th>\n",
       "      <td id=\"T_25da3_row13_col0\" class=\"data row13 col0\" >SVM - Linear Kernel</td>\n",
       "      <td id=\"T_25da3_row13_col1\" class=\"data row13 col1\" >0.6075</td>\n",
       "      <td id=\"T_25da3_row13_col2\" class=\"data row13 col2\" >0.6313</td>\n",
       "      <td id=\"T_25da3_row13_col3\" class=\"data row13 col3\" >0.3874</td>\n",
       "      <td id=\"T_25da3_row13_col4\" class=\"data row13 col4\" >0.5237</td>\n",
       "      <td id=\"T_25da3_row13_col5\" class=\"data row13 col5\" >0.3439</td>\n",
       "      <td id=\"T_25da3_row13_col6\" class=\"data row13 col6\" >0.1248</td>\n",
       "      <td id=\"T_25da3_row13_col7\" class=\"data row13 col7\" >0.1556</td>\n",
       "      <td id=\"T_25da3_row13_col8\" class=\"data row13 col8\" >0.0080</td>\n",
       "    </tr>\n",
       "  </tbody>\n",
       "</table>\n"
      ],
      "text/plain": [
       "<pandas.io.formats.style.Styler at 0x76933e077e10>"
      ]
     },
     "metadata": {},
     "output_type": "display_data"
    },
    {
     "data": {
      "text/html": [],
      "text/plain": [
       "<IPython.core.display.HTML object>"
      ]
     },
     "metadata": {},
     "output_type": "display_data"
    },
    {
     "data": {
      "text/html": [
       "<style>#sk-container-id-1 {\n",
       "  /* Definition of color scheme common for light and dark mode */\n",
       "  --sklearn-color-text: black;\n",
       "  --sklearn-color-line: gray;\n",
       "  /* Definition of color scheme for unfitted estimators */\n",
       "  --sklearn-color-unfitted-level-0: #fff5e6;\n",
       "  --sklearn-color-unfitted-level-1: #f6e4d2;\n",
       "  --sklearn-color-unfitted-level-2: #ffe0b3;\n",
       "  --sklearn-color-unfitted-level-3: chocolate;\n",
       "  /* Definition of color scheme for fitted estimators */\n",
       "  --sklearn-color-fitted-level-0: #f0f8ff;\n",
       "  --sklearn-color-fitted-level-1: #d4ebff;\n",
       "  --sklearn-color-fitted-level-2: #b3dbfd;\n",
       "  --sklearn-color-fitted-level-3: cornflowerblue;\n",
       "\n",
       "  /* Specific color for light theme */\n",
       "  --sklearn-color-text-on-default-background: var(--sg-text-color, var(--theme-code-foreground, var(--jp-content-font-color1, black)));\n",
       "  --sklearn-color-background: var(--sg-background-color, var(--theme-background, var(--jp-layout-color0, white)));\n",
       "  --sklearn-color-border-box: var(--sg-text-color, var(--theme-code-foreground, var(--jp-content-font-color1, black)));\n",
       "  --sklearn-color-icon: #696969;\n",
       "\n",
       "  @media (prefers-color-scheme: dark) {\n",
       "    /* Redefinition of color scheme for dark theme */\n",
       "    --sklearn-color-text-on-default-background: var(--sg-text-color, var(--theme-code-foreground, var(--jp-content-font-color1, white)));\n",
       "    --sklearn-color-background: var(--sg-background-color, var(--theme-background, var(--jp-layout-color0, #111)));\n",
       "    --sklearn-color-border-box: var(--sg-text-color, var(--theme-code-foreground, var(--jp-content-font-color1, white)));\n",
       "    --sklearn-color-icon: #878787;\n",
       "  }\n",
       "}\n",
       "\n",
       "#sk-container-id-1 {\n",
       "  color: var(--sklearn-color-text);\n",
       "}\n",
       "\n",
       "#sk-container-id-1 pre {\n",
       "  padding: 0;\n",
       "}\n",
       "\n",
       "#sk-container-id-1 input.sk-hidden--visually {\n",
       "  border: 0;\n",
       "  clip: rect(1px 1px 1px 1px);\n",
       "  clip: rect(1px, 1px, 1px, 1px);\n",
       "  height: 1px;\n",
       "  margin: -1px;\n",
       "  overflow: hidden;\n",
       "  padding: 0;\n",
       "  position: absolute;\n",
       "  width: 1px;\n",
       "}\n",
       "\n",
       "#sk-container-id-1 div.sk-dashed-wrapped {\n",
       "  border: 1px dashed var(--sklearn-color-line);\n",
       "  margin: 0 0.4em 0.5em 0.4em;\n",
       "  box-sizing: border-box;\n",
       "  padding-bottom: 0.4em;\n",
       "  background-color: var(--sklearn-color-background);\n",
       "}\n",
       "\n",
       "#sk-container-id-1 div.sk-container {\n",
       "  /* jupyter's `normalize.less` sets `[hidden] { display: none; }`\n",
       "     but bootstrap.min.css set `[hidden] { display: none !important; }`\n",
       "     so we also need the `!important` here to be able to override the\n",
       "     default hidden behavior on the sphinx rendered scikit-learn.org.\n",
       "     See: https://github.com/scikit-learn/scikit-learn/issues/21755 */\n",
       "  display: inline-block !important;\n",
       "  position: relative;\n",
       "}\n",
       "\n",
       "#sk-container-id-1 div.sk-text-repr-fallback {\n",
       "  display: none;\n",
       "}\n",
       "\n",
       "div.sk-parallel-item,\n",
       "div.sk-serial,\n",
       "div.sk-item {\n",
       "  /* draw centered vertical line to link estimators */\n",
       "  background-image: linear-gradient(var(--sklearn-color-text-on-default-background), var(--sklearn-color-text-on-default-background));\n",
       "  background-size: 2px 100%;\n",
       "  background-repeat: no-repeat;\n",
       "  background-position: center center;\n",
       "}\n",
       "\n",
       "/* Parallel-specific style estimator block */\n",
       "\n",
       "#sk-container-id-1 div.sk-parallel-item::after {\n",
       "  content: \"\";\n",
       "  width: 100%;\n",
       "  border-bottom: 2px solid var(--sklearn-color-text-on-default-background);\n",
       "  flex-grow: 1;\n",
       "}\n",
       "\n",
       "#sk-container-id-1 div.sk-parallel {\n",
       "  display: flex;\n",
       "  align-items: stretch;\n",
       "  justify-content: center;\n",
       "  background-color: var(--sklearn-color-background);\n",
       "  position: relative;\n",
       "}\n",
       "\n",
       "#sk-container-id-1 div.sk-parallel-item {\n",
       "  display: flex;\n",
       "  flex-direction: column;\n",
       "}\n",
       "\n",
       "#sk-container-id-1 div.sk-parallel-item:first-child::after {\n",
       "  align-self: flex-end;\n",
       "  width: 50%;\n",
       "}\n",
       "\n",
       "#sk-container-id-1 div.sk-parallel-item:last-child::after {\n",
       "  align-self: flex-start;\n",
       "  width: 50%;\n",
       "}\n",
       "\n",
       "#sk-container-id-1 div.sk-parallel-item:only-child::after {\n",
       "  width: 0;\n",
       "}\n",
       "\n",
       "/* Serial-specific style estimator block */\n",
       "\n",
       "#sk-container-id-1 div.sk-serial {\n",
       "  display: flex;\n",
       "  flex-direction: column;\n",
       "  align-items: center;\n",
       "  background-color: var(--sklearn-color-background);\n",
       "  padding-right: 1em;\n",
       "  padding-left: 1em;\n",
       "}\n",
       "\n",
       "\n",
       "/* Toggleable style: style used for estimator/Pipeline/ColumnTransformer box that is\n",
       "clickable and can be expanded/collapsed.\n",
       "- Pipeline and ColumnTransformer use this feature and define the default style\n",
       "- Estimators will overwrite some part of the style using the `sk-estimator` class\n",
       "*/\n",
       "\n",
       "/* Pipeline and ColumnTransformer style (default) */\n",
       "\n",
       "#sk-container-id-1 div.sk-toggleable {\n",
       "  /* Default theme specific background. It is overwritten whether we have a\n",
       "  specific estimator or a Pipeline/ColumnTransformer */\n",
       "  background-color: var(--sklearn-color-background);\n",
       "}\n",
       "\n",
       "/* Toggleable label */\n",
       "#sk-container-id-1 label.sk-toggleable__label {\n",
       "  cursor: pointer;\n",
       "  display: block;\n",
       "  width: 100%;\n",
       "  margin-bottom: 0;\n",
       "  padding: 0.5em;\n",
       "  box-sizing: border-box;\n",
       "  text-align: center;\n",
       "}\n",
       "\n",
       "#sk-container-id-1 label.sk-toggleable__label-arrow:before {\n",
       "  /* Arrow on the left of the label */\n",
       "  content: \"▸\";\n",
       "  float: left;\n",
       "  margin-right: 0.25em;\n",
       "  color: var(--sklearn-color-icon);\n",
       "}\n",
       "\n",
       "#sk-container-id-1 label.sk-toggleable__label-arrow:hover:before {\n",
       "  color: var(--sklearn-color-text);\n",
       "}\n",
       "\n",
       "/* Toggleable content - dropdown */\n",
       "\n",
       "#sk-container-id-1 div.sk-toggleable__content {\n",
       "  max-height: 0;\n",
       "  max-width: 0;\n",
       "  overflow: hidden;\n",
       "  text-align: left;\n",
       "  /* unfitted */\n",
       "  background-color: var(--sklearn-color-unfitted-level-0);\n",
       "}\n",
       "\n",
       "#sk-container-id-1 div.sk-toggleable__content.fitted {\n",
       "  /* fitted */\n",
       "  background-color: var(--sklearn-color-fitted-level-0);\n",
       "}\n",
       "\n",
       "#sk-container-id-1 div.sk-toggleable__content pre {\n",
       "  margin: 0.2em;\n",
       "  border-radius: 0.25em;\n",
       "  color: var(--sklearn-color-text);\n",
       "  /* unfitted */\n",
       "  background-color: var(--sklearn-color-unfitted-level-0);\n",
       "}\n",
       "\n",
       "#sk-container-id-1 div.sk-toggleable__content.fitted pre {\n",
       "  /* unfitted */\n",
       "  background-color: var(--sklearn-color-fitted-level-0);\n",
       "}\n",
       "\n",
       "#sk-container-id-1 input.sk-toggleable__control:checked~div.sk-toggleable__content {\n",
       "  /* Expand drop-down */\n",
       "  max-height: 200px;\n",
       "  max-width: 100%;\n",
       "  overflow: auto;\n",
       "}\n",
       "\n",
       "#sk-container-id-1 input.sk-toggleable__control:checked~label.sk-toggleable__label-arrow:before {\n",
       "  content: \"▾\";\n",
       "}\n",
       "\n",
       "/* Pipeline/ColumnTransformer-specific style */\n",
       "\n",
       "#sk-container-id-1 div.sk-label input.sk-toggleable__control:checked~label.sk-toggleable__label {\n",
       "  color: var(--sklearn-color-text);\n",
       "  background-color: var(--sklearn-color-unfitted-level-2);\n",
       "}\n",
       "\n",
       "#sk-container-id-1 div.sk-label.fitted input.sk-toggleable__control:checked~label.sk-toggleable__label {\n",
       "  background-color: var(--sklearn-color-fitted-level-2);\n",
       "}\n",
       "\n",
       "/* Estimator-specific style */\n",
       "\n",
       "/* Colorize estimator box */\n",
       "#sk-container-id-1 div.sk-estimator input.sk-toggleable__control:checked~label.sk-toggleable__label {\n",
       "  /* unfitted */\n",
       "  background-color: var(--sklearn-color-unfitted-level-2);\n",
       "}\n",
       "\n",
       "#sk-container-id-1 div.sk-estimator.fitted input.sk-toggleable__control:checked~label.sk-toggleable__label {\n",
       "  /* fitted */\n",
       "  background-color: var(--sklearn-color-fitted-level-2);\n",
       "}\n",
       "\n",
       "#sk-container-id-1 div.sk-label label.sk-toggleable__label,\n",
       "#sk-container-id-1 div.sk-label label {\n",
       "  /* The background is the default theme color */\n",
       "  color: var(--sklearn-color-text-on-default-background);\n",
       "}\n",
       "\n",
       "/* On hover, darken the color of the background */\n",
       "#sk-container-id-1 div.sk-label:hover label.sk-toggleable__label {\n",
       "  color: var(--sklearn-color-text);\n",
       "  background-color: var(--sklearn-color-unfitted-level-2);\n",
       "}\n",
       "\n",
       "/* Label box, darken color on hover, fitted */\n",
       "#sk-container-id-1 div.sk-label.fitted:hover label.sk-toggleable__label.fitted {\n",
       "  color: var(--sklearn-color-text);\n",
       "  background-color: var(--sklearn-color-fitted-level-2);\n",
       "}\n",
       "\n",
       "/* Estimator label */\n",
       "\n",
       "#sk-container-id-1 div.sk-label label {\n",
       "  font-family: monospace;\n",
       "  font-weight: bold;\n",
       "  display: inline-block;\n",
       "  line-height: 1.2em;\n",
       "}\n",
       "\n",
       "#sk-container-id-1 div.sk-label-container {\n",
       "  text-align: center;\n",
       "}\n",
       "\n",
       "/* Estimator-specific */\n",
       "#sk-container-id-1 div.sk-estimator {\n",
       "  font-family: monospace;\n",
       "  border: 1px dotted var(--sklearn-color-border-box);\n",
       "  border-radius: 0.25em;\n",
       "  box-sizing: border-box;\n",
       "  margin-bottom: 0.5em;\n",
       "  /* unfitted */\n",
       "  background-color: var(--sklearn-color-unfitted-level-0);\n",
       "}\n",
       "\n",
       "#sk-container-id-1 div.sk-estimator.fitted {\n",
       "  /* fitted */\n",
       "  background-color: var(--sklearn-color-fitted-level-0);\n",
       "}\n",
       "\n",
       "/* on hover */\n",
       "#sk-container-id-1 div.sk-estimator:hover {\n",
       "  /* unfitted */\n",
       "  background-color: var(--sklearn-color-unfitted-level-2);\n",
       "}\n",
       "\n",
       "#sk-container-id-1 div.sk-estimator.fitted:hover {\n",
       "  /* fitted */\n",
       "  background-color: var(--sklearn-color-fitted-level-2);\n",
       "}\n",
       "\n",
       "/* Specification for estimator info (e.g. \"i\" and \"?\") */\n",
       "\n",
       "/* Common style for \"i\" and \"?\" */\n",
       "\n",
       ".sk-estimator-doc-link,\n",
       "a:link.sk-estimator-doc-link,\n",
       "a:visited.sk-estimator-doc-link {\n",
       "  float: right;\n",
       "  font-size: smaller;\n",
       "  line-height: 1em;\n",
       "  font-family: monospace;\n",
       "  background-color: var(--sklearn-color-background);\n",
       "  border-radius: 1em;\n",
       "  height: 1em;\n",
       "  width: 1em;\n",
       "  text-decoration: none !important;\n",
       "  margin-left: 1ex;\n",
       "  /* unfitted */\n",
       "  border: var(--sklearn-color-unfitted-level-1) 1pt solid;\n",
       "  color: var(--sklearn-color-unfitted-level-1);\n",
       "}\n",
       "\n",
       ".sk-estimator-doc-link.fitted,\n",
       "a:link.sk-estimator-doc-link.fitted,\n",
       "a:visited.sk-estimator-doc-link.fitted {\n",
       "  /* fitted */\n",
       "  border: var(--sklearn-color-fitted-level-1) 1pt solid;\n",
       "  color: var(--sklearn-color-fitted-level-1);\n",
       "}\n",
       "\n",
       "/* On hover */\n",
       "div.sk-estimator:hover .sk-estimator-doc-link:hover,\n",
       ".sk-estimator-doc-link:hover,\n",
       "div.sk-label-container:hover .sk-estimator-doc-link:hover,\n",
       ".sk-estimator-doc-link:hover {\n",
       "  /* unfitted */\n",
       "  background-color: var(--sklearn-color-unfitted-level-3);\n",
       "  color: var(--sklearn-color-background);\n",
       "  text-decoration: none;\n",
       "}\n",
       "\n",
       "div.sk-estimator.fitted:hover .sk-estimator-doc-link.fitted:hover,\n",
       ".sk-estimator-doc-link.fitted:hover,\n",
       "div.sk-label-container:hover .sk-estimator-doc-link.fitted:hover,\n",
       ".sk-estimator-doc-link.fitted:hover {\n",
       "  /* fitted */\n",
       "  background-color: var(--sklearn-color-fitted-level-3);\n",
       "  color: var(--sklearn-color-background);\n",
       "  text-decoration: none;\n",
       "}\n",
       "\n",
       "/* Span, style for the box shown on hovering the info icon */\n",
       ".sk-estimator-doc-link span {\n",
       "  display: none;\n",
       "  z-index: 9999;\n",
       "  position: relative;\n",
       "  font-weight: normal;\n",
       "  right: .2ex;\n",
       "  padding: .5ex;\n",
       "  margin: .5ex;\n",
       "  width: min-content;\n",
       "  min-width: 20ex;\n",
       "  max-width: 50ex;\n",
       "  color: var(--sklearn-color-text);\n",
       "  box-shadow: 2pt 2pt 4pt #999;\n",
       "  /* unfitted */\n",
       "  background: var(--sklearn-color-unfitted-level-0);\n",
       "  border: .5pt solid var(--sklearn-color-unfitted-level-3);\n",
       "}\n",
       "\n",
       ".sk-estimator-doc-link.fitted span {\n",
       "  /* fitted */\n",
       "  background: var(--sklearn-color-fitted-level-0);\n",
       "  border: var(--sklearn-color-fitted-level-3);\n",
       "}\n",
       "\n",
       ".sk-estimator-doc-link:hover span {\n",
       "  display: block;\n",
       "}\n",
       "\n",
       "/* \"?\"-specific style due to the `<a>` HTML tag */\n",
       "\n",
       "#sk-container-id-1 a.estimator_doc_link {\n",
       "  float: right;\n",
       "  font-size: 1rem;\n",
       "  line-height: 1em;\n",
       "  font-family: monospace;\n",
       "  background-color: var(--sklearn-color-background);\n",
       "  border-radius: 1rem;\n",
       "  height: 1rem;\n",
       "  width: 1rem;\n",
       "  text-decoration: none;\n",
       "  /* unfitted */\n",
       "  color: var(--sklearn-color-unfitted-level-1);\n",
       "  border: var(--sklearn-color-unfitted-level-1) 1pt solid;\n",
       "}\n",
       "\n",
       "#sk-container-id-1 a.estimator_doc_link.fitted {\n",
       "  /* fitted */\n",
       "  border: var(--sklearn-color-fitted-level-1) 1pt solid;\n",
       "  color: var(--sklearn-color-fitted-level-1);\n",
       "}\n",
       "\n",
       "/* On hover */\n",
       "#sk-container-id-1 a.estimator_doc_link:hover {\n",
       "  /* unfitted */\n",
       "  background-color: var(--sklearn-color-unfitted-level-3);\n",
       "  color: var(--sklearn-color-background);\n",
       "  text-decoration: none;\n",
       "}\n",
       "\n",
       "#sk-container-id-1 a.estimator_doc_link.fitted:hover {\n",
       "  /* fitted */\n",
       "  background-color: var(--sklearn-color-fitted-level-3);\n",
       "}\n",
       "</style><div id=\"sk-container-id-1\" class=\"sk-top-container\"><div class=\"sk-text-repr-fallback\"><pre>RidgeClassifier(alpha=1.0, class_weight=None, copy_X=True, fit_intercept=True,\n",
       "                max_iter=None, positive=False, random_state=3230, solver=&#x27;auto&#x27;,\n",
       "                tol=0.0001)</pre><b>In a Jupyter environment, please rerun this cell to show the HTML representation or trust the notebook. <br />On GitHub, the HTML representation is unable to render, please try loading this page with nbviewer.org.</b></div><div class=\"sk-container\" hidden><div class=\"sk-item\"><div class=\"sk-estimator fitted sk-toggleable\"><input class=\"sk-toggleable__control sk-hidden--visually\" id=\"sk-estimator-id-1\" type=\"checkbox\" checked><label for=\"sk-estimator-id-1\" class=\"sk-toggleable__label fitted sk-toggleable__label-arrow fitted\">&nbsp;&nbsp;RidgeClassifier<a class=\"sk-estimator-doc-link fitted\" rel=\"noreferrer\" target=\"_blank\" href=\"https://scikit-learn.org/1.4/modules/generated/sklearn.linear_model.RidgeClassifier.html\">?<span>Documentation for RidgeClassifier</span></a><span class=\"sk-estimator-doc-link fitted\">i<span>Fitted</span></span></label><div class=\"sk-toggleable__content fitted\"><pre>RidgeClassifier(alpha=1.0, class_weight=None, copy_X=True, fit_intercept=True,\n",
       "                max_iter=None, positive=False, random_state=3230, solver=&#x27;auto&#x27;,\n",
       "                tol=0.0001)</pre></div> </div></div></div></div>"
      ],
      "text/plain": [
       "RidgeClassifier(alpha=1.0, class_weight=None, copy_X=True, fit_intercept=True,\n",
       "                max_iter=None, positive=False, random_state=3230, solver='auto',\n",
       "                tol=0.0001)"
      ]
     },
     "execution_count": 9,
     "metadata": {},
     "output_type": "execute_result"
    }
   ],
   "source": [
    "compare_models()"
   ]
  },
  {
   "cell_type": "code",
   "execution_count": 10,
   "metadata": {
    "colab": {
     "base_uri": "https://localhost:8080/",
     "height": 457,
     "referenced_widgets": [
      "d90b59e8a23c485d8ca9eeb7a27c67e0",
      "3bc59cce22644334aa696f445f2fca7f",
      "bd759ce00c7945979f0a951a99b34e84",
      "4002f6ec166e4ba680f3a60dcfbc90b9",
      "0be062467ca0419cb8bf735f2e6c90be",
      "653eeefa4d6b49c683195b9f246681ba",
      "0f9b9e7afb24457a8b59664e6c3948af",
      "51e6ddd17c4d40ca98ec199150f23d0e",
      "8ad9ad6e4a8e4b488935d8db7cae4b52",
      "1634e98194ab48db991dd9f2057c5357",
      "917bc069ffb546a289ce38923af62210"
     ]
    },
    "id": "IIuP_FjeBKdt",
    "outputId": "d84dd5d0-527f-4ae9-85f1-6ee5c18b73c6"
   },
   "outputs": [
    {
     "data": {
      "text/html": [],
      "text/plain": [
       "<IPython.core.display.HTML object>"
      ]
     },
     "metadata": {},
     "output_type": "display_data"
    },
    {
     "data": {
      "text/html": [
       "<style type=\"text/css\">\n",
       "#T_3be0c_row10_col0, #T_3be0c_row10_col1, #T_3be0c_row10_col2, #T_3be0c_row10_col3, #T_3be0c_row10_col4, #T_3be0c_row10_col5, #T_3be0c_row10_col6 {\n",
       "  background: yellow;\n",
       "}\n",
       "</style>\n",
       "<table id=\"T_3be0c\">\n",
       "  <thead>\n",
       "    <tr>\n",
       "      <th class=\"blank level0\" >&nbsp;</th>\n",
       "      <th id=\"T_3be0c_level0_col0\" class=\"col_heading level0 col0\" >Accuracy</th>\n",
       "      <th id=\"T_3be0c_level0_col1\" class=\"col_heading level0 col1\" >AUC</th>\n",
       "      <th id=\"T_3be0c_level0_col2\" class=\"col_heading level0 col2\" >Recall</th>\n",
       "      <th id=\"T_3be0c_level0_col3\" class=\"col_heading level0 col3\" >Prec.</th>\n",
       "      <th id=\"T_3be0c_level0_col4\" class=\"col_heading level0 col4\" >F1</th>\n",
       "      <th id=\"T_3be0c_level0_col5\" class=\"col_heading level0 col5\" >Kappa</th>\n",
       "      <th id=\"T_3be0c_level0_col6\" class=\"col_heading level0 col6\" >MCC</th>\n",
       "    </tr>\n",
       "    <tr>\n",
       "      <th class=\"index_name level0\" >Fold</th>\n",
       "      <th class=\"blank col0\" >&nbsp;</th>\n",
       "      <th class=\"blank col1\" >&nbsp;</th>\n",
       "      <th class=\"blank col2\" >&nbsp;</th>\n",
       "      <th class=\"blank col3\" >&nbsp;</th>\n",
       "      <th class=\"blank col4\" >&nbsp;</th>\n",
       "      <th class=\"blank col5\" >&nbsp;</th>\n",
       "      <th class=\"blank col6\" >&nbsp;</th>\n",
       "    </tr>\n",
       "  </thead>\n",
       "  <tbody>\n",
       "    <tr>\n",
       "      <th id=\"T_3be0c_level0_row0\" class=\"row_heading level0 row0\" >0</th>\n",
       "      <td id=\"T_3be0c_row0_col0\" class=\"data row0 col0\" >0.7963</td>\n",
       "      <td id=\"T_3be0c_row0_col1\" class=\"data row0 col1\" >0.8617</td>\n",
       "      <td id=\"T_3be0c_row0_col2\" class=\"data row0 col2\" >0.7368</td>\n",
       "      <td id=\"T_3be0c_row0_col3\" class=\"data row0 col3\" >0.7000</td>\n",
       "      <td id=\"T_3be0c_row0_col4\" class=\"data row0 col4\" >0.7179</td>\n",
       "      <td id=\"T_3be0c_row0_col5\" class=\"data row0 col5\" >0.5587</td>\n",
       "      <td id=\"T_3be0c_row0_col6\" class=\"data row0 col6\" >0.5591</td>\n",
       "    </tr>\n",
       "    <tr>\n",
       "      <th id=\"T_3be0c_level0_row1\" class=\"row_heading level0 row1\" >1</th>\n",
       "      <td id=\"T_3be0c_row1_col0\" class=\"data row1 col0\" >0.7593</td>\n",
       "      <td id=\"T_3be0c_row1_col1\" class=\"data row1 col1\" >0.8090</td>\n",
       "      <td id=\"T_3be0c_row1_col2\" class=\"data row1 col2\" >0.4737</td>\n",
       "      <td id=\"T_3be0c_row1_col3\" class=\"data row1 col3\" >0.7500</td>\n",
       "      <td id=\"T_3be0c_row1_col4\" class=\"data row1 col4\" >0.5806</td>\n",
       "      <td id=\"T_3be0c_row1_col5\" class=\"data row1 col5\" >0.4236</td>\n",
       "      <td id=\"T_3be0c_row1_col6\" class=\"data row1 col6\" >0.4456</td>\n",
       "    </tr>\n",
       "    <tr>\n",
       "      <th id=\"T_3be0c_level0_row2\" class=\"row_heading level0 row2\" >2</th>\n",
       "      <td id=\"T_3be0c_row2_col0\" class=\"data row2 col0\" >0.7407</td>\n",
       "      <td id=\"T_3be0c_row2_col1\" class=\"data row2 col1\" >0.7850</td>\n",
       "      <td id=\"T_3be0c_row2_col2\" class=\"data row2 col2\" >0.4737</td>\n",
       "      <td id=\"T_3be0c_row2_col3\" class=\"data row2 col3\" >0.6923</td>\n",
       "      <td id=\"T_3be0c_row2_col4\" class=\"data row2 col4\" >0.5625</td>\n",
       "      <td id=\"T_3be0c_row2_col5\" class=\"data row2 col5\" >0.3874</td>\n",
       "      <td id=\"T_3be0c_row2_col6\" class=\"data row2 col6\" >0.4014</td>\n",
       "    </tr>\n",
       "    <tr>\n",
       "      <th id=\"T_3be0c_level0_row3\" class=\"row_heading level0 row3\" >3</th>\n",
       "      <td id=\"T_3be0c_row3_col0\" class=\"data row3 col0\" >0.7963</td>\n",
       "      <td id=\"T_3be0c_row3_col1\" class=\"data row3 col1\" >0.8211</td>\n",
       "      <td id=\"T_3be0c_row3_col2\" class=\"data row3 col2\" >0.5263</td>\n",
       "      <td id=\"T_3be0c_row3_col3\" class=\"data row3 col3\" >0.8333</td>\n",
       "      <td id=\"T_3be0c_row3_col4\" class=\"data row3 col4\" >0.6452</td>\n",
       "      <td id=\"T_3be0c_row3_col5\" class=\"data row3 col5\" >0.5123</td>\n",
       "      <td id=\"T_3be0c_row3_col6\" class=\"data row3 col6\" >0.5389</td>\n",
       "    </tr>\n",
       "    <tr>\n",
       "      <th id=\"T_3be0c_level0_row4\" class=\"row_heading level0 row4\" >4</th>\n",
       "      <td id=\"T_3be0c_row4_col0\" class=\"data row4 col0\" >0.7593</td>\n",
       "      <td id=\"T_3be0c_row4_col1\" class=\"data row4 col1\" >0.7925</td>\n",
       "      <td id=\"T_3be0c_row4_col2\" class=\"data row4 col2\" >0.5789</td>\n",
       "      <td id=\"T_3be0c_row4_col3\" class=\"data row4 col3\" >0.6875</td>\n",
       "      <td id=\"T_3be0c_row4_col4\" class=\"data row4 col4\" >0.6286</td>\n",
       "      <td id=\"T_3be0c_row4_col5\" class=\"data row4 col5\" >0.4524</td>\n",
       "      <td id=\"T_3be0c_row4_col6\" class=\"data row4 col6\" >0.4561</td>\n",
       "    </tr>\n",
       "    <tr>\n",
       "      <th id=\"T_3be0c_level0_row5\" class=\"row_heading level0 row5\" >5</th>\n",
       "      <td id=\"T_3be0c_row5_col0\" class=\"data row5 col0\" >0.7222</td>\n",
       "      <td id=\"T_3be0c_row5_col1\" class=\"data row5 col1\" >0.7579</td>\n",
       "      <td id=\"T_3be0c_row5_col2\" class=\"data row5 col2\" >0.5263</td>\n",
       "      <td id=\"T_3be0c_row5_col3\" class=\"data row5 col3\" >0.6250</td>\n",
       "      <td id=\"T_3be0c_row5_col4\" class=\"data row5 col4\" >0.5714</td>\n",
       "      <td id=\"T_3be0c_row5_col5\" class=\"data row5 col5\" >0.3682</td>\n",
       "      <td id=\"T_3be0c_row5_col6\" class=\"data row5 col6\" >0.3711</td>\n",
       "    </tr>\n",
       "    <tr>\n",
       "      <th id=\"T_3be0c_level0_row6\" class=\"row_heading level0 row6\" >6</th>\n",
       "      <td id=\"T_3be0c_row6_col0\" class=\"data row6 col0\" >0.7593</td>\n",
       "      <td id=\"T_3be0c_row6_col1\" class=\"data row6 col1\" >0.7669</td>\n",
       "      <td id=\"T_3be0c_row6_col2\" class=\"data row6 col2\" >0.5263</td>\n",
       "      <td id=\"T_3be0c_row6_col3\" class=\"data row6 col3\" >0.7143</td>\n",
       "      <td id=\"T_3be0c_row6_col4\" class=\"data row6 col4\" >0.6061</td>\n",
       "      <td id=\"T_3be0c_row6_col5\" class=\"data row6 col5\" >0.4384</td>\n",
       "      <td id=\"T_3be0c_row6_col6\" class=\"data row6 col6\" >0.4490</td>\n",
       "    </tr>\n",
       "    <tr>\n",
       "      <th id=\"T_3be0c_level0_row7\" class=\"row_heading level0 row7\" >7</th>\n",
       "      <td id=\"T_3be0c_row7_col0\" class=\"data row7 col0\" >0.8113</td>\n",
       "      <td id=\"T_3be0c_row7_col1\" class=\"data row7 col1\" >0.8683</td>\n",
       "      <td id=\"T_3be0c_row7_col2\" class=\"data row7 col2\" >0.6667</td>\n",
       "      <td id=\"T_3be0c_row7_col3\" class=\"data row7 col3\" >0.7500</td>\n",
       "      <td id=\"T_3be0c_row7_col4\" class=\"data row7 col4\" >0.7059</td>\n",
       "      <td id=\"T_3be0c_row7_col5\" class=\"data row7 col5\" >0.5677</td>\n",
       "      <td id=\"T_3be0c_row7_col6\" class=\"data row7 col6\" >0.5698</td>\n",
       "    </tr>\n",
       "    <tr>\n",
       "      <th id=\"T_3be0c_level0_row8\" class=\"row_heading level0 row8\" >8</th>\n",
       "      <td id=\"T_3be0c_row8_col0\" class=\"data row8 col0\" >0.8113</td>\n",
       "      <td id=\"T_3be0c_row8_col1\" class=\"data row8 col1\" >0.8429</td>\n",
       "      <td id=\"T_3be0c_row8_col2\" class=\"data row8 col2\" >0.5556</td>\n",
       "      <td id=\"T_3be0c_row8_col3\" class=\"data row8 col3\" >0.8333</td>\n",
       "      <td id=\"T_3be0c_row8_col4\" class=\"data row8 col4\" >0.6667</td>\n",
       "      <td id=\"T_3be0c_row8_col5\" class=\"data row8 col5\" >0.5423</td>\n",
       "      <td id=\"T_3be0c_row8_col6\" class=\"data row8 col6\" >0.5640</td>\n",
       "    </tr>\n",
       "    <tr>\n",
       "      <th id=\"T_3be0c_level0_row9\" class=\"row_heading level0 row9\" >9</th>\n",
       "      <td id=\"T_3be0c_row9_col0\" class=\"data row9 col0\" >0.7358</td>\n",
       "      <td id=\"T_3be0c_row9_col1\" class=\"data row9 col1\" >0.8159</td>\n",
       "      <td id=\"T_3be0c_row9_col2\" class=\"data row9 col2\" >0.5000</td>\n",
       "      <td id=\"T_3be0c_row9_col3\" class=\"data row9 col3\" >0.6429</td>\n",
       "      <td id=\"T_3be0c_row9_col4\" class=\"data row9 col4\" >0.5625</td>\n",
       "      <td id=\"T_3be0c_row9_col5\" class=\"data row9 col5\" >0.3775</td>\n",
       "      <td id=\"T_3be0c_row9_col6\" class=\"data row9 col6\" >0.3836</td>\n",
       "    </tr>\n",
       "    <tr>\n",
       "      <th id=\"T_3be0c_level0_row10\" class=\"row_heading level0 row10\" >Mean</th>\n",
       "      <td id=\"T_3be0c_row10_col0\" class=\"data row10 col0\" >0.7692</td>\n",
       "      <td id=\"T_3be0c_row10_col1\" class=\"data row10 col1\" >0.8121</td>\n",
       "      <td id=\"T_3be0c_row10_col2\" class=\"data row10 col2\" >0.5564</td>\n",
       "      <td id=\"T_3be0c_row10_col3\" class=\"data row10 col3\" >0.7229</td>\n",
       "      <td id=\"T_3be0c_row10_col4\" class=\"data row10 col4\" >0.6247</td>\n",
       "      <td id=\"T_3be0c_row10_col5\" class=\"data row10 col5\" >0.4629</td>\n",
       "      <td id=\"T_3be0c_row10_col6\" class=\"data row10 col6\" >0.4739</td>\n",
       "    </tr>\n",
       "    <tr>\n",
       "      <th id=\"T_3be0c_level0_row11\" class=\"row_heading level0 row11\" >Std</th>\n",
       "      <td id=\"T_3be0c_row11_col0\" class=\"data row11 col0\" >0.0307</td>\n",
       "      <td id=\"T_3be0c_row11_col1\" class=\"data row11 col1\" >0.0357</td>\n",
       "      <td id=\"T_3be0c_row11_col2\" class=\"data row11 col2\" >0.0805</td>\n",
       "      <td id=\"T_3be0c_row11_col3\" class=\"data row11 col3\" >0.0668</td>\n",
       "      <td id=\"T_3be0c_row11_col4\" class=\"data row11 col4\" >0.0551</td>\n",
       "      <td id=\"T_3be0c_row11_col5\" class=\"data row11 col5\" >0.0729</td>\n",
       "      <td id=\"T_3be0c_row11_col6\" class=\"data row11 col6\" >0.0738</td>\n",
       "    </tr>\n",
       "  </tbody>\n",
       "</table>\n"
      ],
      "text/plain": [
       "<pandas.io.formats.style.Styler at 0x76933ebf67d0>"
      ]
     },
     "metadata": {},
     "output_type": "display_data"
    },
    {
     "data": {
      "text/html": [],
      "text/plain": [
       "<IPython.core.display.HTML object>"
      ]
     },
     "metadata": {},
     "output_type": "display_data"
    }
   ],
   "source": [
    "best_model=create_model(\"lr\")"
   ]
  },
  {
   "cell_type": "code",
   "execution_count": 11,
   "metadata": {
    "colab": {
     "base_uri": "https://localhost:8080/",
     "height": 485
    },
    "id": "MaXvAnlZBeff",
    "outputId": "53c58076-57be-4998-824d-739dfaf91c50"
   },
   "outputs": [
    {
     "data": {
      "text/html": [],
      "text/plain": [
       "<IPython.core.display.HTML object>"
      ]
     },
     "metadata": {},
     "output_type": "display_data"
    },
    {
     "data": {
      "image/png": "[encoded data removed]",
      "text/plain": [
       "<Figure size 800x500 with 1 Axes>"
      ]
     },
     "metadata": {},
     "output_type": "display_data"
    }
   ],
   "source": [
    "plot_model(best_model, plot=\"feature\")"
   ]
  },
  {
   "cell_type": "markdown",
   "metadata": {
    "id": "iT3b4tjNB6FM"
   },
   "source": [
    "## Clustering"
   ]
  },
  {
   "cell_type": "code",
   "execution_count": 14,
   "metadata": {
    "id": "JoXfGOPsBlAC"
   },
   "outputs": [],
   "source": [
    "df=pd.read_excel(\"cars.xls\")"
   ]
  },
  {
   "cell_type": "code",
   "execution_count": 15,
   "metadata": {
    "id": "QHO98ReHCBRA"
   },
   "outputs": [],
   "source": [
    "from pycaret.clustering import *"
   ]
  },
  {
   "cell_type": "code",
   "execution_count": 16,
   "metadata": {
    "colab": {
     "base_uri": "https://localhost:8080/",
     "height": 623
    },
    "id": "53DmQZ6mCEvm",
    "outputId": "e3c6b592-e9bf-4596-bbbf-eb470079df95"
   },
   "outputs": [
    {
     "data": {
      "text/html": [
       "<style type=\"text/css\">\n",
       "#T_7fb12_row5_col1 {\n",
       "  background-color: lightgreen;\n",
       "}\n",
       "</style>\n",
       "<table id=\"T_7fb12\">\n",
       "  <thead>\n",
       "    <tr>\n",
       "      <th class=\"blank level0\" >&nbsp;</th>\n",
       "      <th id=\"T_7fb12_level0_col0\" class=\"col_heading level0 col0\" >Description</th>\n",
       "      <th id=\"T_7fb12_level0_col1\" class=\"col_heading level0 col1\" >Value</th>\n",
       "    </tr>\n",
       "  </thead>\n",
       "  <tbody>\n",
       "    <tr>\n",
       "      <th id=\"T_7fb12_level0_row0\" class=\"row_heading level0 row0\" >0</th>\n",
       "      <td id=\"T_7fb12_row0_col0\" class=\"data row0 col0\" >Session id</td>\n",
       "      <td id=\"T_7fb12_row0_col1\" class=\"data row0 col1\" >6637</td>\n",
       "    </tr>\n",
       "    <tr>\n",
       "      <th id=\"T_7fb12_level0_row1\" class=\"row_heading level0 row1\" >1</th>\n",
       "      <td id=\"T_7fb12_row1_col0\" class=\"data row1 col0\" >Original data shape</td>\n",
       "      <td id=\"T_7fb12_row1_col1\" class=\"data row1 col1\" >(804, 12)</td>\n",
       "    </tr>\n",
       "    <tr>\n",
       "      <th id=\"T_7fb12_level0_row2\" class=\"row_heading level0 row2\" >2</th>\n",
       "      <td id=\"T_7fb12_row2_col0\" class=\"data row2 col0\" >Transformed data shape</td>\n",
       "      <td id=\"T_7fb12_row2_col1\" class=\"data row2 col1\" >(804, 98)</td>\n",
       "    </tr>\n",
       "    <tr>\n",
       "      <th id=\"T_7fb12_level0_row3\" class=\"row_heading level0 row3\" >3</th>\n",
       "      <td id=\"T_7fb12_row3_col0\" class=\"data row3 col0\" >Numeric features</td>\n",
       "      <td id=\"T_7fb12_row3_col1\" class=\"data row3 col1\" >8</td>\n",
       "    </tr>\n",
       "    <tr>\n",
       "      <th id=\"T_7fb12_level0_row4\" class=\"row_heading level0 row4\" >4</th>\n",
       "      <td id=\"T_7fb12_row4_col0\" class=\"data row4 col0\" >Categorical features</td>\n",
       "      <td id=\"T_7fb12_row4_col1\" class=\"data row4 col1\" >4</td>\n",
       "    </tr>\n",
       "    <tr>\n",
       "      <th id=\"T_7fb12_level0_row5\" class=\"row_heading level0 row5\" >5</th>\n",
       "      <td id=\"T_7fb12_row5_col0\" class=\"data row5 col0\" >Preprocess</td>\n",
       "      <td id=\"T_7fb12_row5_col1\" class=\"data row5 col1\" >True</td>\n",
       "    </tr>\n",
       "    <tr>\n",
       "      <th id=\"T_7fb12_level0_row6\" class=\"row_heading level0 row6\" >6</th>\n",
       "      <td id=\"T_7fb12_row6_col0\" class=\"data row6 col0\" >Imputation type</td>\n",
       "      <td id=\"T_7fb12_row6_col1\" class=\"data row6 col1\" >simple</td>\n",
       "    </tr>\n",
       "    <tr>\n",
       "      <th id=\"T_7fb12_level0_row7\" class=\"row_heading level0 row7\" >7</th>\n",
       "      <td id=\"T_7fb12_row7_col0\" class=\"data row7 col0\" >Numeric imputation</td>\n",
       "      <td id=\"T_7fb12_row7_col1\" class=\"data row7 col1\" >mean</td>\n",
       "    </tr>\n",
       "    <tr>\n",
       "      <th id=\"T_7fb12_level0_row8\" class=\"row_heading level0 row8\" >8</th>\n",
       "      <td id=\"T_7fb12_row8_col0\" class=\"data row8 col0\" >Categorical imputation</td>\n",
       "      <td id=\"T_7fb12_row8_col1\" class=\"data row8 col1\" >mode</td>\n",
       "    </tr>\n",
       "    <tr>\n",
       "      <th id=\"T_7fb12_level0_row9\" class=\"row_heading level0 row9\" >9</th>\n",
       "      <td id=\"T_7fb12_row9_col0\" class=\"data row9 col0\" >Maximum one-hot encoding</td>\n",
       "      <td id=\"T_7fb12_row9_col1\" class=\"data row9 col1\" >-1</td>\n",
       "    </tr>\n",
       "    <tr>\n",
       "      <th id=\"T_7fb12_level0_row10\" class=\"row_heading level0 row10\" >10</th>\n",
       "      <td id=\"T_7fb12_row10_col0\" class=\"data row10 col0\" >Encoding method</td>\n",
       "      <td id=\"T_7fb12_row10_col1\" class=\"data row10 col1\" >None</td>\n",
       "    </tr>\n",
       "    <tr>\n",
       "      <th id=\"T_7fb12_level0_row11\" class=\"row_heading level0 row11\" >11</th>\n",
       "      <td id=\"T_7fb12_row11_col0\" class=\"data row11 col0\" >CPU Jobs</td>\n",
       "      <td id=\"T_7fb12_row11_col1\" class=\"data row11 col1\" >-1</td>\n",
       "    </tr>\n",
       "    <tr>\n",
       "      <th id=\"T_7fb12_level0_row12\" class=\"row_heading level0 row12\" >12</th>\n",
       "      <td id=\"T_7fb12_row12_col0\" class=\"data row12 col0\" >Use GPU</td>\n",
       "      <td id=\"T_7fb12_row12_col1\" class=\"data row12 col1\" >False</td>\n",
       "    </tr>\n",
       "    <tr>\n",
       "      <th id=\"T_7fb12_level0_row13\" class=\"row_heading level0 row13\" >13</th>\n",
       "      <td id=\"T_7fb12_row13_col0\" class=\"data row13 col0\" >Log Experiment</td>\n",
       "      <td id=\"T_7fb12_row13_col1\" class=\"data row13 col1\" >False</td>\n",
       "    </tr>\n",
       "    <tr>\n",
       "      <th id=\"T_7fb12_level0_row14\" class=\"row_heading level0 row14\" >14</th>\n",
       "      <td id=\"T_7fb12_row14_col0\" class=\"data row14 col0\" >Experiment Name</td>\n",
       "      <td id=\"T_7fb12_row14_col1\" class=\"data row14 col1\" >cluster-default-name</td>\n",
       "    </tr>\n",
       "    <tr>\n",
       "      <th id=\"T_7fb12_level0_row15\" class=\"row_heading level0 row15\" >15</th>\n",
       "      <td id=\"T_7fb12_row15_col0\" class=\"data row15 col0\" >USI</td>\n",
       "      <td id=\"T_7fb12_row15_col1\" class=\"data row15 col1\" >ace5</td>\n",
       "    </tr>\n",
       "  </tbody>\n",
       "</table>\n"
      ],
      "text/plain": [
       "<pandas.io.formats.style.Styler at 0x76933e1b8e50>"
      ]
     },
     "metadata": {},
     "output_type": "display_data"
    },
    {
     "data": {
      "text/plain": [
       "<pycaret.clustering.oop.ClusteringExperiment at 0x7693777f5e10>"
      ]
     },
     "execution_count": 16,
     "metadata": {},
     "output_type": "execute_result"
    }
   ],
   "source": [
    "setup(df)"
   ]
  },
  {
   "cell_type": "code",
   "execution_count": 17,
   "metadata": {
    "colab": {
     "base_uri": "https://localhost:8080/",
     "height": 81,
     "referenced_widgets": [
      "c96a94cdf48a49a1a09e41bbdda90c41",
      "c860f70c96c74e3fa950ce5bc9575684",
      "cee54b48527d472aa3caa6ff7e8def7a",
      "678968a79b98475bbe8db6ee46db78e2",
      "a89848aac53e4507a0bc969ad36d8c7e",
      "8a3f5c6cb2be402784259b1a7c215c0c",
      "70ef82c76ba5479ca047d47286aed1e1",
      "ef3c6adf40b6478da2bb7fdf1a46dbfb",
      "f261b1e848da489395a9f4d0dcaa1028",
      "ba7d5662959e441e8d68867cc7312bc8",
      "a26f107542a34b7695f6f48155a08a8f"
     ]
    },
    "id": "D9fw2xtXCGJc",
    "outputId": "0447d6d5-78a8-4353-f61d-ccb0318ba7aa"
   },
   "outputs": [
    {
     "data": {
      "text/html": [],
      "text/plain": [
       "<IPython.core.display.HTML object>"
      ]
     },
     "metadata": {},
     "output_type": "display_data"
    },
    {
     "data": {
      "text/html": [
       "<style type=\"text/css\">\n",
       "</style>\n",
       "<table id=\"T_83f18\">\n",
       "  <thead>\n",
       "    <tr>\n",
       "      <th class=\"blank level0\" >&nbsp;</th>\n",
       "      <th id=\"T_83f18_level0_col0\" class=\"col_heading level0 col0\" >Silhouette</th>\n",
       "      <th id=\"T_83f18_level0_col1\" class=\"col_heading level0 col1\" >Calinski-Harabasz</th>\n",
       "      <th id=\"T_83f18_level0_col2\" class=\"col_heading level0 col2\" >Davies-Bouldin</th>\n",
       "      <th id=\"T_83f18_level0_col3\" class=\"col_heading level0 col3\" >Homogeneity</th>\n",
       "      <th id=\"T_83f18_level0_col4\" class=\"col_heading level0 col4\" >Rand Index</th>\n",
       "      <th id=\"T_83f18_level0_col5\" class=\"col_heading level0 col5\" >Completeness</th>\n",
       "    </tr>\n",
       "  </thead>\n",
       "  <tbody>\n",
       "    <tr>\n",
       "      <th id=\"T_83f18_level0_row0\" class=\"row_heading level0 row0\" >0</th>\n",
       "      <td id=\"T_83f18_row0_col0\" class=\"data row0 col0\" >0.4141</td>\n",
       "      <td id=\"T_83f18_row0_col1\" class=\"data row0 col1\" >601.0366</td>\n",
       "      <td id=\"T_83f18_row0_col2\" class=\"data row0 col2\" >0.8789</td>\n",
       "      <td id=\"T_83f18_row0_col3\" class=\"data row0 col3\" >0</td>\n",
       "      <td id=\"T_83f18_row0_col4\" class=\"data row0 col4\" >0</td>\n",
       "      <td id=\"T_83f18_row0_col5\" class=\"data row0 col5\" >0</td>\n",
       "    </tr>\n",
       "  </tbody>\n",
       "</table>\n"
      ],
      "text/plain": [
       "<pandas.io.formats.style.Styler at 0x769377719b10>"
      ]
     },
     "metadata": {},
     "output_type": "display_data"
    },
    {
     "data": {
      "text/html": [],
      "text/plain": [
       "<IPython.core.display.HTML object>"
      ]
     },
     "metadata": {},
     "output_type": "display_data"
    }
   ],
   "source": [
    "kmeans=create_model(\"kmeans\", 4)"
   ]
  },
  {
   "cell_type": "code",
   "execution_count": 18,
   "metadata": {
    "colab": {
     "base_uri": "https://localhost:8080/",
     "height": 617
    },
    "id": "m_Fua5e5CPqn",
    "outputId": "9dd5820c-7465-4374-8ae0-bb56a3e278c1"
   },
   "outputs": [
    {
     "data": {
      "text/html": [],
      "text/plain": [
       "<IPython.core.display.HTML object>"
      ]
     },
     "metadata": {},
     "output_type": "display_data"
    },
    {
     "data": {
      "application/vnd.plotly.v1+json": {
       "config": {
        "plotlyServerURL": "https://plot.ly"
       },
       "data": [
        {
         "customdata": [
          [
           51154.047
          ],
          [
           40856.39
          ],
          [
           41378.047
          ],
          [
           42820.33
          ],
          [
           38445.9
          ],
          [
           38600.24
          ],
          [
           39307.008
          ],
          [
           40335.74
          ],
          [
           39801.55
          ],
          [
           34819.297
          ],
          [
           31431.13
          ],
          [
           30957.08
          ],
          [
           33417.965
          ],
          [
           35622.14
          ],
          [
           43374.05
          ],
          [
           42677.6
          ],
          [
           44300.64
          ],
          [
           43892.47
          ],
          [
           44084.914
          ],
          [
           44130.617
          ],
          [
           46747.67
          ],
          [
           49248.16
          ],
          [
           37383.504
          ],
          [
           39365.883
          ],
          [
           39092.19
          ],
          [
           38990.605
          ],
          [
           39713.668
          ],
          [
           39875.855
          ],
          [
           41371.38
          ],
          [
           42773.027
          ],
          [
           41419.04
          ],
          [
           44749.688
          ],
          [
           37088.562
          ],
          [
           35651.68
          ],
          [
           32197.34
          ],
          [
           55639.086
          ],
          [
           57154.445
          ],
          [
           60567.55
          ],
          [
           63913.117
          ],
          [
           65281.48
          ],
          [
           66374.305
          ],
          [
           69133.734
          ],
          [
           68566.19
          ],
          [
           70755.47
          ],
          [
           32053.098
          ],
          [
           35033.215
          ],
          [
           32746.13
          ],
          [
           41671.582
          ],
          [
           42377.957
          ],
          [
           44205.875
          ],
          [
           45061.953
          ],
          [
           48365.98
          ],
          [
           48310.33
          ],
          [
           33183.332
          ],
          [
           33005.78
          ],
          [
           30800.658
          ],
          [
           38297.46
          ],
          [
           38795.38
          ],
          [
           40966.605
          ],
          [
           42741.523
          ],
          [
           38324.81
          ],
          [
           35165.758
          ],
          [
           35129.34
          ],
          [
           35715.77
          ],
          [
           47065.21
          ],
          [
           38167.17
          ],
          [
           46732.605
          ],
          [
           32422.762
          ],
          [
           32219.59
          ]
         ],
         "hovertemplate": "Cluster=Cluster 0<br>PCA1=%{x}<br>PCA2=%{y}<br>Feature=%{customdata[0]}<extra></extra>",
         "legendgroup": "Cluster 0",
         "marker": {
          "color": "#636efa",
          "opacity": 0.5,
          "symbol": "circle"
         },
         "mode": "markers",
         "name": "Cluster 0",
         "orientation": "v",
         "showlegend": true,
         "textposition": "top center",
         "type": "scatter",
         "x": [
          33877.49074686868,
          20739.83724866201,
          22722.76291260331,
          24927.418885530347,
          16582.6736459116,
          17214.809724868377,
          18234.61017170848,
          19623.671046835025,
          19324.117138596113,
          15190.452593986774,
          12374.261273158318,
          12048.757886461315,
          15665.735513720692,
          16560.98592564783,
          19167.60444543296,
          18873.455801582008,
          20507.713920587565,
          20242.09511058352,
          21063.792067172075,
          21115.401588468296,
          25509.168678278194,
          30641.041189584772,
          16396.616157051205,
          19701.095407898836,
          19729.45647317895,
          20050.13167807348,
          20876.737656958867,
          21640.727388677322,
          18928.134654388487,
          21996.456659119638,
          20743.202324603088,
          24645.361960887458,
          20028.21531030299,
          16520.393659991605,
          15380.119838004863,
          28684.369139051523,
          30932.444609896844,
          36102.68050291358,
          40866.283662533664,
          42992.589515132706,
          45170.069509334055,
          49102.532515695435,
          49034.231028239345,
          52971.21456979294,
          14836.031614678943,
          18766.781882117215,
          14605.99049253243,
          19029.218038082017,
          20334.801449613915,
          23176.426599754115,
          24394.518941342572,
          31103.02973258059,
          31633.445545766383,
          14423.469725200983,
          15335.382462305035,
          12732.501312715272,
          17050.354382545058,
          18409.43792096462,
          22539.860355260193,
          25699.079630115586,
          18564.16107036,
          15136.630659664555,
          15572.34435879685,
          17891.650355624944,
          29033.44854655638,
          18072.776364241625,
          29233.11285705246,
          13897.239518787403,
          13152.786703181482
         ],
         "xaxis": "x",
         "y": [
          -7198.621805988237,
          -448.0139815966691,
          -4703.796757472625,
          -6732.476926833419,
          4346.291320375236,
          2952.1056208142913,
          2137.894828175834,
          1235.8969051966408,
          451.3411479951315,
          -2885.7252130970082,
          -5139.916417753669,
          -5658.872759695386,
          -8690.399705881158,
          -4440.75494578858,
          12114.834459197917,
          10805.58770414531,
          11038.089675043942,
          10547.73171950629,
          8709.834737259167,
          8699.773258479838,
          3850.0526528913065,
          -3557.8681169287174,
          1568.811362188162,
          -2034.2714230252002,
          -2976.4532705103347,
          -4247.569360617087,
          -4436.754267224767,
          -6198.058745967924,
          6548.6014839083855,
          1826.723211360244,
          1305.6915089716458,
          153.32933893562546,
          -10144.688457862865,
          -4227.565193758627,
          -11668.101958360354,
          22288.403673414217,
          20359.804262166854,
          15698.641460581108,
          12033.81562254522,
          10006.195964668173,
          6962.8283164143795,
          3929.871369709792,
          2353.7278628178724,
          -2479.871412880955,
          -10503.841328701183,
          -12839.933113385869,
          -7648.009371776212,
          7189.32684510692,
          5524.858884020906,
          2812.6679648195704,
          1877.3895071931256,
          -7695.689861732023,
          -9445.929912987074,
          -5735.296112361184,
          -9001.017382591877,
          -8180.504545301516,
          2491.5790530676463,
          14.73120820705363,
          -5450.142466096655,
          -9271.996381315856,
          -1920.000408212079,
          -1639.794719607898,
          -3048.395386921113,
          -8100.474508240733,
          -5624.708466881786,
          -954.3014855930697,
          -7260.482460074657,
          -6556.056774536499,
          -4981.265100721265
         ],
         "yaxis": "y"
        },
        {
         "customdata": [
          [
           19646.717
          ],
          [
           15554.283
          ],
          [
           12706.911
          ],
          [
           12487.055
          ],
          [
           16106.827
          ],
          [
           16033.931
          ],
          [
           15832.519
          ],
          [
           16508.59
          ],
          [
           15951.812
          ],
          [
           16391.926
          ],
          [
           12678.854
          ],
          [
           17154.576
          ],
          [
           14185.021
          ],
          [
           13699.036
          ],
          [
           13310.06
          ],
          [
           13530.068
          ],
          [
           13019.071
          ],
          [
           16805.057
          ],
          [
           20173.906
          ],
          [
           18701.223
          ],
          [
           22894.44
          ],
          [
           16644.088
          ],
          [
           12897.93
          ],
          [
           12570.137
          ],
          [
           12243.061
          ],
          [
           11671.858
          ],
          [
           11464.629
          ],
          [
           10546.783
          ],
          [
           16078.665
          ],
          [
           17325.27
          ],
          [
           13540.042
          ],
          [
           14077.969
          ],
          [
           12981.952
          ],
          [
           11961.62
          ],
          [
           13436
          ],
          [
           22064.293
          ],
          [
           14220.014
          ],
          [
           12379.127
          ],
          [
           11581.905
          ],
          [
           16551.219
          ],
          [
           12810.91
          ],
          [
           13135.905
          ],
          [
           13106.9
          ],
          [
           12845.174
          ],
          [
           13161.942
          ],
          [
           19423.164
          ],
          [
           12684.986
          ],
          [
           12553.071
          ],
          [
           15163.17
          ],
          [
           14897.041
          ],
          [
           14508.75
          ],
          [
           14418.165
          ],
          [
           14191.882
          ],
          [
           14401.907
          ],
          [
           14175.879
          ],
          [
           12828.031
          ],
          [
           15979.015
          ],
          [
           12830.099
          ],
          [
           13994.906
          ],
          [
           13830.249
          ],
          [
           16256.236
          ],
          [
           15724.252
          ],
          [
           15967.245
          ],
          [
           16041.686
          ],
          [
           15756.146
          ],
          [
           13159.821
          ],
          [
           12495.971
          ],
          [
           12878.047
          ],
          [
           12832.462
          ],
          [
           12464.073
          ],
          [
           12741.19
          ],
          [
           12209.56
          ],
          [
           11903.098
          ],
          [
           17294.182
          ],
          [
           17789.348
          ],
          [
           17839.8
          ],
          [
           18912.982
          ],
          [
           18527.209
          ],
          [
           12258.857
          ],
          [
           12465.509
          ],
          [
           18083.396
          ],
          [
           14593.8545
          ],
          [
           13688.945
          ],
          [
           19409.752
          ],
          [
           19075.68
          ],
          [
           19956.758
          ],
          [
           19448.227
          ],
          [
           16853.107
          ],
          [
           16516.955
          ],
          [
           13744.85
          ],
          [
           13545.031
          ],
          [
           14304.741
          ],
          [
           13585.637
          ],
          [
           20294.576
          ],
          [
           22120.758
          ],
          [
           15792.831
          ],
          [
           20221.809
          ],
          [
           21020.836
          ],
          [
           20382.15
          ],
          [
           21525.34
          ],
          [
           20047.951
          ],
          [
           20619.113
          ],
          [
           22470.36
          ],
          [
           22113.629
          ],
          [
           17586.928
          ],
          [
           18876.871
          ],
          [
           20017.969
          ],
          [
           20839.15
          ],
          [
           20676.166
          ],
          [
           15595.884
          ],
          [
           15253.868
          ],
          [
           15503.509
          ],
          [
           15797.195
          ],
          [
           16345.943
          ],
          [
           16357.992
          ],
          [
           17515.398
          ],
          [
           15594.807
          ],
          [
           15059.134
          ],
          [
           16216.98
          ],
          [
           17023.938
          ],
          [
           22525.27
          ],
          [
           21982.648
          ],
          [
           19204.809
          ],
          [
           18158.084
          ],
          [
           19338.377
          ],
          [
           19689.74
          ],
          [
           19116.13
          ],
          [
           20109.904
          ],
          [
           20830.994
          ],
          [
           18529.342
          ],
          [
           19294.787
          ],
          [
           17768.059
          ],
          [
           18063.006
          ],
          [
           14703.137
          ],
          [
           18566.07
          ],
          [
           17844.73
          ],
          [
           19751.041
          ],
          [
           20127.045
          ],
          [
           18548.979
          ],
          [
           18042.22
          ],
          [
           18620.871
          ],
          [
           21200.69
          ],
          [
           21403.756
          ],
          [
           21765.066
          ],
          [
           22189.115
          ],
          [
           22231.562
          ],
          [
           18856.02
          ],
          [
           15680.864
          ],
          [
           15664.625
          ],
          [
           15623.92
          ],
          [
           17095.035
          ],
          [
           17162.873
          ],
          [
           16391.172
          ],
          [
           15233.16
          ],
          [
           15138.4
          ],
          [
           15623.2
          ],
          [
           16300.465
          ],
          [
           16993.781
          ],
          [
           16472.898
          ],
          [
           17158.922
          ],
          [
           15788.1045
          ],
          [
           18311.756
          ],
          [
           15118.894
          ],
          [
           14914.201
          ],
          [
           16143.957
          ],
          [
           16543.98
          ],
          [
           16825.191
          ],
          [
           16744.03
          ],
          [
           16723.994
          ],
          [
           17801.23
          ],
          [
           16997.693
          ],
          [
           16283.959
          ],
          [
           15457.171
          ],
          [
           11539.049
          ],
          [
           16569.14
          ],
          [
           14963.046
          ],
          [
           17553.754
          ],
          [
           17663.225
          ],
          [
           16646.771
          ],
          [
           16752.514
          ],
          [
           16507.07
          ],
          [
           16027.286
          ],
          [
           16860.094
          ],
          [
           16267.095
          ],
          [
           16456.975
          ],
          [
           17173.941
          ],
          [
           17986.225
          ],
          [
           13961.111
          ],
          [
           13034.068
          ],
          [
           18004.871
          ],
          [
           13162.853
          ],
          [
           16713.984
          ],
          [
           16341.804
          ],
          [
           16536.744
          ],
          [
           16403.254
          ],
          [
           17312.906
          ],
          [
           16860.871
          ],
          [
           17316.096
          ],
          [
           17119.457
          ],
          [
           16803.123
          ],
          [
           16988.303
          ],
          [
           17115.121
          ],
          [
           16295.212
          ],
          [
           11574.174
          ],
          [
           13141.048
          ],
          [
           11699.034
          ],
          [
           13998.129
          ],
          [
           14568.002
          ],
          [
           13122.905
          ],
          [
           13494.289
          ],
          [
           12036.217
          ],
          [
           12162.14
          ],
          [
           12333.604
          ],
          [
           21831.822
          ],
          [
           21698.016
          ],
          [
           12293.06
          ],
          [
           12099.015
          ],
          [
           22435.203
          ],
          [
           12119.09
          ],
          [
           22661.049
          ],
          [
           11679.924
          ],
          [
           13216.912
          ],
          [
           12412.521
          ],
          [
           19641.742
          ],
          [
           19191.99
          ],
          [
           19425.848
          ],
          [
           21878.12
          ],
          [
           21536.742
          ],
          [
           11539.049
          ],
          [
           13032.868
          ],
          [
           10777.053
          ],
          [
           11045.108
          ],
          [
           11137.046
          ],
          [
           10386.04
          ],
          [
           11096.857
          ],
          [
           11017.169
          ],
          [
           11472.022
          ],
          [
           12257.164
          ],
          [
           15277.067
          ],
          [
           14702.798
          ],
          [
           15033.15
          ],
          [
           13991.04
          ],
          [
           14771.004
          ],
          [
           13719.238
          ],
          [
           13869.155
          ],
          [
           13518.235
          ],
          [
           13825.154
          ],
          [
           13811.155
          ],
          [
           14077.969
          ],
          [
           14411.858
          ],
          [
           13600.034
          ],
          [
           19981.127
          ],
          [
           21562.047
          ],
          [
           20952.219
          ],
          [
           21575.457
          ],
          [
           20406.1
          ],
          [
           21183.123
          ],
          [
           21460.014
          ],
          [
           21273.062
          ],
          [
           11504.824
          ],
          [
           11521.526
          ],
          [
           17968.838
          ],
          [
           17808.2
          ],
          [
           18543.428
          ],
          [
           19105.13
          ],
          [
           19344.166
          ],
          [
           19774.25
          ],
          [
           19924.158
          ],
          [
           15295.019
          ],
          [
           14862.094
          ],
          [
           15048.042
          ],
          [
           15230.003
          ],
          [
           15709.053
          ],
          [
           16339.17
          ],
          [
           16175.958
          ],
          [
           15731.133
          ],
          [
           21058.139
          ],
          [
           9928.188
          ],
          [
           19556.898
          ],
          [
           10563.066
          ],
          [
           21646.117
          ],
          [
           12284.288
          ],
          [
           12594.183
          ],
          [
           17645.744
          ],
          [
           17394.021
          ],
          [
           17772.969
          ],
          [
           17750.885
          ],
          [
           18348.898
          ],
          [
           19027.863
          ],
          [
           17944.857
          ],
          [
           18145.127
          ],
          [
           12105.981
          ],
          [
           11873.534
          ],
          [
           20902.104
          ],
          [
           20986.016
          ],
          [
           21683.031
          ],
          [
           21341.258
          ],
          [
           21799.172
          ],
          [
           22625.074
          ],
          [
           22230.027
          ],
          [
           12965.224
          ],
          [
           11413.53
          ],
          [
           22244.877
          ],
          [
           20627.662
          ],
          [
           11215.019
          ],
          [
           12327.642
          ],
          [
           12274.958
          ],
          [
           9665.849
          ],
          [
           9563.789
          ],
          [
           9654.061
          ],
          [
           13678.863
          ],
          [
           12507.485
          ],
          [
           9220.83
          ],
          [
           9789.038
          ],
          [
           9506.048
          ],
          [
           9720.979
          ],
          [
           10287.978
          ],
          [
           19540.244
          ],
          [
           15086.899
          ],
          [
           12630.775
          ],
          [
           14398.923
          ],
          [
           13594.086
          ],
          [
           9482.22
          ],
          [
           8638.931
          ],
          [
           9041.906
          ],
          [
           8870.947
          ],
          [
           14869.282
          ],
          [
           11149.618
          ],
          [
           10788.971
          ],
          [
           11203.146
          ],
          [
           12207.873
          ],
          [
           13471.005
          ],
          [
           12573.9
          ],
          [
           11726.003
          ],
          [
           15622.121
          ],
          [
           11539.846
          ],
          [
           12045.921
          ],
          [
           12383.402
          ],
          [
           13230.919
          ],
          [
           11080.517
          ],
          [
           11328.959
          ],
          [
           15568.975
          ],
          [
           15977.911
          ],
          [
           8768.999
          ],
          [
           12469.527
          ],
          [
           12733.858
          ],
          [
           12230.1
          ],
          [
           14546.885
          ],
          [
           12319.696
          ],
          [
           12549.893
          ],
          [
           13688
          ],
          [
           13308.834
          ],
          [
           10921.945
          ],
          [
           11247.862
          ],
          [
           11391.214
          ],
          [
           14145.881
          ],
          [
           12425.39
          ],
          [
           12944.938
          ],
          [
           12234.888
          ],
          [
           11343.054
          ],
          [
           11031.13
          ],
          [
           9954.054
          ],
          [
           10491.075
          ],
          [
           10144.952
          ],
          [
           15505.294
          ],
          [
           15297.836
          ],
          [
           12846.062
          ],
          [
           14396.2705
          ],
          [
           11179.953
          ],
          [
           11394.887
          ],
          [
           15174.347
          ],
          [
           14255.748
          ],
          [
           13762.901
          ],
          [
           15589.78
          ],
          [
           14909.051
          ],
          [
           9919.048
          ],
          [
           10921.945
          ],
          [
           10872.014
          ],
          [
           14275.128
          ],
          [
           10770.106
          ],
          [
           10805.13
          ],
          [
           11615.021
          ],
          [
           14853.199
          ],
          [
           11115.014
          ],
          [
           11013.871
          ],
          [
           15730.046
          ],
          [
           15802.653
          ],
          [
           11070.061
          ],
          [
           11169.918
          ],
          [
           13446.214
          ]
         ],
         "hovertemplate": "Cluster=Cluster 1<br>PCA1=%{x}<br>PCA2=%{y}<br>Feature=%{customdata[0]}<extra></extra>",
         "legendgroup": "Cluster 1",
         "marker": {
          "color": "#EF553B",
          "opacity": 0.5,
          "symbol": "circle"
         },
         "mode": "markers",
         "name": "Cluster 1",
         "orientation": "v",
         "showlegend": true,
         "textposition": "top center",
         "type": "scatter",
         "x": [
          -2022.5288355329612,
          -9801.094928241371,
          -10637.916300062523,
          -11156.04917985163,
          -4845.658947140077,
          -4572.123948601441,
          -8849.919163141998,
          -7015.417027413812,
          -7099.671891530634,
          -4138.724679415686,
          -11035.203906260098,
          -4523.225605635018,
          -6957.034368009506,
          -9162.960391599629,
          -9626.679346129855,
          -9770.997242032474,
          -10476.372184707878,
          -4194.4395545640145,
          -1548.0875121475203,
          -4150.020171807303,
          -584.2408660013599,
          -5267.357252252996,
          -9078.412690798144,
          -9159.06817229151,
          -10277.758680149056,
          -11046.573265058478,
          -12417.90890889928,
          -16304.407051580323,
          -5929.566868311036,
          -3827.73842632647,
          -6601.37746275721,
          -6124.097225193242,
          -8076.506716781577,
          -11303.75052251817,
          -7716.6855291800175,
          -1725.756990679592,
          -7783.617238534498,
          -12121.912522322125,
          -14589.635044756324,
          -4445.542048650318,
          -7968.086545338143,
          -8404.973720532895,
          -8468.83086481077,
          -8867.45737124735,
          -8172.617999528867,
          -3646.0443017544594,
          -11414.762201254904,
          -12481.837312675418,
          -5004.040905498272,
          -5591.868723667463,
          -6183.182189499755,
          -6558.700092704552,
          -7207.977961629104,
          -7119.305873941684,
          -7365.425649178783,
          -7830.634140267473,
          -5767.202744898899,
          -7429.586419439915,
          -6146.9919631140665,
          -6406.406781402955,
          -5715.973296656976,
          -6651.470145195958,
          -6934.469395327383,
          -7566.390597270969,
          -8323.508701224348,
          -8683.457951663577,
          -10417.691636806592,
          -7829.170085119086,
          -8316.761766395919,
          -9072.008646441254,
          -12932.327028080696,
          -10655.002958506839,
          -10686.41151843083,
          -6879.554333395175,
          -5648.45203398993,
          -5113.498467429628,
          -2839.151126232932,
          -2682.2203601550327,
          -10040.752396591388,
          -9721.439694420138,
          -6148.165157639386,
          -6064.242593885153,
          -7821.8124563912115,
          -1501.5729977968128,
          -1627.7375768075347,
          -3290.5873921382295,
          -4312.640818790219,
          -3657.93462145151,
          -4867.214043407654,
          -8450.565274880393,
          -9814.877021299477,
          -7084.107743422151,
          -12402.209358106977,
          -5479.15791679066,
          -1945.95774115973,
          -12193.809362905127,
          -3101.5936537168013,
          -2129.6184727507357,
          -2636.037583431348,
          -1482.3969455725526,
          -2769.340834175994,
          -2037.2509709049025,
          176.9678849773053,
          41.13257282204055,
          -9690.49315547491,
          -4693.677902216416,
          -2180.142694024676,
          -1217.7962734728437,
          -54.411699316905796,
          -4963.037224262783,
          -6117.260612313292,
          -9845.38815701503,
          -7447.189071716825,
          -6681.7904837233245,
          -5891.9734527648125,
          -3235.375592807792,
          -6271.702525063943,
          -6851.802698655392,
          -9896.232018852892,
          -7466.178108564838,
          1219.5522068398984,
          401.89961907705674,
          -4146.484842457184,
          -5737.309622137234,
          -4494.909521269697,
          -3878.3004007755976,
          -4158.750620688056,
          -2144.6913336386806,
          -353.65707003499705,
          -5930.647656844939,
          -1847.878384542048,
          -6116.845452209903,
          -5578.587779352498,
          -7410.595501093525,
          -4199.951944593657,
          -3726.8513137067944,
          -1725.227977953332,
          -701.8091094476574,
          -2979.3277046267663,
          -3725.028043916414,
          -4393.337442125646,
          -3760.6425921321834,
          -2282.873151359599,
          -1502.1139977266114,
          -1054.6027196625644,
          173.00224975251416,
          -3183.7607588369992,
          -7320.094299269279,
          -7281.57141552227,
          -5879.794761287432,
          -3671.4185112528394,
          -4279.9288220367325,
          -5162.840578155776,
          -9843.208456449704,
          -9909.728847286537,
          -7859.648913877006,
          -6650.243133847821,
          -5330.876745908824,
          -5203.739039192403,
          -4471.254693128831,
          -7007.5881515851315,
          -2110.2513298225454,
          -7860.039113768514,
          -10582.871891632194,
          -7064.951257172383,
          -6064.068099270649,
          -5439.296194759047,
          -4995.903302910489,
          -4348.468267130081,
          -3214.586596839621,
          -6031.874174669094,
          -6925.565110903765,
          -8798.271951160346,
          -10673.503282250833,
          -6421.127000914222,
          -9759.776598190196,
          -3150.8529325427885,
          -3378.559190455183,
          -4553.728419081736,
          -3945.6386598823115,
          -3823.8313047891597,
          -6013.352682460857,
          -5208.746919501409,
          -5327.648969266597,
          -4748.283029887504,
          -3596.954218018685,
          -2433.767136693135,
          -6922.965158050339,
          -9196.943358350194,
          -2825.3917955374295,
          -9255.450975479795,
          -6459.628968236287,
          -6514.40256952077,
          -5954.485658627337,
          -5734.86917071411,
          -4326.27310676971,
          -4264.362414565513,
          -3740.4090304993447,
          -3506.948867857533,
          -6230.314812087144,
          -5745.68486002303,
          -5483.84996903402,
          -7466.158949421351,
          -9798.65075678176,
          -7794.608474132812,
          -9135.116956511523,
          -6458.8059543893205,
          -5999.738989591063,
          -7557.547776563299,
          -7332.8561287504135,
          -8827.355875047519,
          -9319.56522829605,
          -9191.195084636216,
          -1365.4727980514879,
          -1468.3618142175308,
          -7718.125242483513,
          -9694.579188397518,
          251.7948231555029,
          -9697.245989760284,
          1161.9317415194475,
          -10292.752065416964,
          -9053.321733306837,
          -10005.496747841158,
          -5278.649240070813,
          -5023.165357969642,
          -4371.494248735646,
          -579.24595297058,
          -5334.229754176388,
          -15393.337216143724,
          -11154.283710443711,
          -12589.759667973856,
          -11270.836365802428,
          -10518.874417153376,
          -11148.014838589377,
          -9871.079738062044,
          -9871.9548525848,
          -9312.942443145876,
          -9140.819575691681,
          -4830.058434421083,
          -5599.227989179593,
          -5860.045380984631,
          -7346.9641768250685,
          -7001.737895037667,
          -8441.979775085867,
          -8524.48290350143,
          -9377.70034014853,
          -9103.72588857487,
          -9181.434587129988,
          -9104.658785384683,
          -8851.38008509716,
          -9698.944902845635,
          -2723.5701607299634,
          -1047.881478461138,
          -474.51893994487705,
          122.85415483145924,
          -1769.8628177803541,
          -649.9826414554026,
          227.18313778327374,
          228.3299023171817,
          -13831.972270258493,
          -14146.642848563106,
          -7929.974166790609,
          -7517.881018217226,
          -4631.984360654328,
          -3453.3051526167715,
          -3149.238947166189,
          -2612.106776262515,
          -1334.6552744597593,
          -8122.511544168394,
          -7478.788675637626,
          -6965.3569759248585,
          -6669.125583807534,
          -6106.641109009953,
          -4742.534644738301,
          -4662.104273185973,
          -5526.79962529789,
          -1749.4091060470166,
          -13960.203791361284,
          -3419.7647988011254,
          -14244.723491623909,
          373.2561874888022,
          -10151.275052897972,
          -10364.16924606809,
          -6055.715321027917,
          -5539.494734306819,
          -5048.9132766786,
          -5066.0151761351235,
          -4120.257632435096,
          -2821.1922272836996,
          -3144.181372706693,
          -2554.649638775354,
          -11455.322161058748,
          -11707.525483468988,
          -3549.7914989650208,
          -2655.817331796547,
          -1894.0932206326918,
          -1718.1115688152204,
          -1037.5247836772724,
          9.049554809412983,
          116.35744426932462,
          -11090.468605435753,
          -13490.058254443964,
          -8892.921807080927,
          -977.3548202322833,
          -9634.995579458431,
          -8389.73633275929,
          -8524.206266545021,
          -10981.994714814347,
          -10985.569092368647,
          -10871.302957179934,
          -6670.151348036885,
          -8336.687185079565,
          -14730.135171561249,
          -11956.593916785558,
          -11964.16212158988,
          -11335.214057917141,
          -9421.289233551039,
          -2600.6854169028334,
          -8355.805344242357,
          -9130.947311573758,
          -7173.495810014087,
          -7615.349987205757,
          -12839.473567556948,
          -13758.012160076285,
          -13687.132331862267,
          -15993.899660071591,
          -9950.72627785049,
          -14323.34111820896,
          -13704.588972587031,
          -12013.023066688484,
          -9831.946357399216,
          -7166.704592305852,
          -9975.051915105845,
          -10158.161207716981,
          -6501.984930551303,
          -10111.9188243488,
          -8589.424721463492,
          -10162.295668876108,
          -9612.04152193427,
          -15157.021390974536,
          -15907.637064511913,
          -4953.767955679275,
          -4198.37372014941,
          -16851.372976494113,
          -8371.704838344254,
          -8655.217102453356,
          -11372.780928746512,
          -10761.279824978348,
          -10062.846279209956,
          -10242.809191466558,
          -6915.10934693105,
          -7681.84652791062,
          -10925.310717063041,
          -10076.648849136696,
          -9938.873401394276,
          -7038.15401128902,
          -9389.404658124151,
          -8550.232708928741,
          -11970.86324048673,
          -9590.533036359635,
          -9876.588241293504,
          -16380.943651920543,
          -13831.239818267206,
          -11930.954650120548,
          -6938.741619821411,
          -6759.87864537556,
          -10518.478208793702,
          -10281.9442368736,
          -10681.421972573557,
          -11111.283500703043,
          -8416.165196884182,
          -5800.2464563003705,
          -6612.516378403561,
          -5923.31638735412,
          -7211.612620370025,
          -15545.122287573711,
          -12410.96576841044,
          -11849.92596105055,
          -6284.328539016169,
          -11690.020046901516,
          -10364.17587159383,
          -8958.889592128766,
          -7566.6535675265095,
          -12955.340612274222,
          -11676.241740949326,
          -5817.177009820539,
          -5770.694446713941,
          -11536.854053314572,
          -10454.542323632826,
          -6817.271173072565
         ],
         "xaxis": "x",
         "y": [
          690.9504379007993,
          10971.638508022108,
          4532.216545139059,
          5382.34369723794,
          -2018.2276767451488,
          -3059.3657639660673,
          9017.999704547574,
          5687.19825434707,
          4192.205542500235,
          -3224.745879998151,
          5624.550631346257,
          308.19005314563145,
          -1769.8091158957343,
          3260.2915957897367,
          3418.631406987271,
          4537.028568247577,
          5030.803004448167,
          -1764.2058164609782,
          934.0042453615753,
          4047.6362725494055,
          6598.456667520588,
          918.6999857721752,
          497.9288040859668,
          -289.96962889754224,
          2008.2330046629854,
          2501.7560795832464,
          5926.208095939331,
          14595.320444616715,
          1113.630030464495,
          -1222.9411671139444,
          -4848.196315895514,
          -4579.9189078704985,
          -2215.2105653106455,
          4174.092992932819,
          -1860.9096455195502,
          7387.524545843908,
          795.53885218957,
          7913.47099087177,
          12745.716528691186,
          -1813.9084137668908,
          -3073.467175631393,
          -756.7936085123212,
          -658.0031818021231,
          -294.1602271818101,
          -1365.4723087707816,
          4813.425225289685,
          6771.388520206197,
          9528.00987298196,
          -4505.727045533557,
          -3593.5938038054073,
          -3054.0400017386137,
          -2222.3814543454805,
          -1002.7867098747646,
          -607.8640423297726,
          -585.1956229653404,
          -3428.1500847793077,
          318.9017913109949,
          -4613.125189671919,
          -4772.273296626364,
          -4517.7306594949005,
          1035.6977187101681,
          2147.3438044536265,
          3749.791338461494,
          5860.48339505626,
          7214.710012965599,
          145.5114889784374,
          3216.7371592866075,
          -3275.7183977119203,
          -1970.0456436837,
          -881.0822085038833,
          11456.037040540356,
          3023.958403997142,
          2156.6197130417763,
          7746.120244312183,
          5640.86004407584,
          4209.741883853219,
          817.0226201497804,
          -858.4587658199952,
          1353.638820809581,
          1052.784734783895,
          8047.174967879352,
          -3140.6202930752934,
          -755.6989549275218,
          -1599.5356177046438,
          -2271.9162898069735,
          5430.039896540746,
          6872.350481516999,
          -3207.4633567695487,
          -668.5845353977438,
          1287.4760644186906,
          4714.292346805217,
          -1017.0135578752365,
          12528.172417834327,
          12990.911292843242,
          8218.706780751472,
          18827.814656047278,
          5699.406361253264,
          5316.473028733246,
          4818.920110835563,
          4975.110342212743,
          4167.349419900461,
          3782.8047694827,
          3007.673872889049,
          2292.9981473121015,
          17014.67376861377,
          6213.361244600125,
          2322.941523724926,
          2038.0597064149692,
          -1929.0880357231565,
          -3271.1383361309,
          -914.2023868981847,
          10944.067703827039,
          4739.962776940014,
          4186.202523881385,
          1877.537491849605,
          -2386.779337693513,
          613.3432619128721,
          657.5944829240385,
          13331.59731330611,
          8641.776674433553,
          82.42893383983042,
          810.6341898305815,
          5615.695989091262,
          7060.700463219725,
          7069.505384769371,
          6339.04638891484,
          5374.162789055659,
          2505.805797005961,
          -554.7416746750145,
          8798.841358717395,
          -931.0855487460356,
          6965.656569891787,
          6291.124462453118,
          1201.7640561536184,
          3772.321952017365,
          105.66366918066765,
          134.73128739832373,
          -1727.0618704900235,
          92.4445633541644,
          719.3085697185769,
          4518.623616478439,
          10725.790627299079,
          6972.0891974393435,
          5785.1450307683235,
          5784.894988363449,
          2270.9126571359443,
          1662.2503833374285,
          3997.7257074673507,
          3832.375477061913,
          -459.699092192342,
          -2409.047292081188,
          -388.60224726363134,
          -184.6058497118584,
          10090.145170625185,
          9990.729625353415,
          5419.909226877609,
          3949.9207676423634,
          2203.5714430201724,
          193.08123879979888,
          167.41394620455742,
          3405.4746030730203,
          -3233.0662124457776,
          3840.2465997611494,
          11287.756892470916,
          4691.363191509497,
          2971.813059359711,
          1997.2010040204016,
          425.52959113664986,
          -1560.7106411039751,
          -1552.5589108153772,
          4298.398159829084,
          4716.123265060307,
          7687.981879285273,
          977.1075338857491,
          4111.452479722777,
          8995.569095567189,
          -2517.6535620622794,
          -1498.0189667365953,
          -1192.977576742965,
          -2668.0613858529778,
          -3799.311326689614,
          1201.491908119259,
          1421.6784573101024,
          -83.92148032471938,
          -1209.9292414341096,
          -2382.9272598574835,
          -3292.371491500905,
          -2572.9025467662805,
          1276.8127424281415,
          -2070.460357757231,
          1854.3231086572907,
          4679.869834606788,
          3675.940395286719,
          2623.5759999805987,
          1552.6823358854251,
          219.38060369688185,
          -1381.516595634123,
          -1511.1402588569674,
          -2821.1093874159988,
          4278.028173796373,
          3418.7340878577215,
          3038.3903153414753,
          6357.42423577356,
          -1511.8502444753954,
          -2553.981611255491,
          -3091.721755658945,
          -3835.8164467064034,
          -3413.2897532944903,
          -3315.1257437631193,
          -2818.4965012089156,
          -2949.088552259851,
          -1092.0814149370037,
          -935.9725869220608,
          5588.458704781697,
          5474.691103249207,
          -5439.343877993408,
          -175.8427440724205,
          2675.1714031484903,
          -104.99148240743999,
          679.2302554349047,
          287.54298274640854,
          1423.2834335597613,
          1730.581338473967,
          10348.826431348234,
          8180.00790554414,
          6977.045703670558,
          3397.8150201978715,
          16454.098882102066,
          14999.061500410844,
          7088.029862320408,
          4281.4453729765655,
          1203.371440262388,
          -742.4090602831649,
          -1227.4586700210893,
          -2792.8912325420783,
          -3040.08648888136,
          -3275.028723963492,
          -1325.2415157498883,
          -4665.576129689195,
          -4180.613582792638,
          -2370.2246530640473,
          -1219.446009566031,
          199.84518993030662,
          1181.6874820637818,
          1896.7289804743984,
          3331.5072898275416,
          3479.649903129212,
          3666.629393879685,
          4274.904752677548,
          4569.075129173959,
          4542.289253461578,
          3821.9011274521476,
          3799.2903247599384,
          184.3177426946311,
          363.23765737829905,
          2320.7105812270347,
          1429.3981735044874,
          -308.582727622935,
          -898.0150213231591,
          10253.186774615446,
          11240.383505751995,
          12981.575171896364,
          11253.760070546552,
          4984.852235750692,
          3243.903724854122,
          3089.856503641664,
          2842.273652938825,
          -482.94380274622966,
          5172.1040448813,
          1902.6299706756276,
          960.1791010923677,
          650.5006470852829,
          481.09011448514957,
          -1596.2825581337925,
          -2346.8410842965563,
          -1172.3231400055006,
          4303.855954242575,
          5691.952168502795,
          4560.390710137894,
          8527.336204768875,
          -159.1766219268871,
          1761.7018698714414,
          3365.5892328222485,
          6400.635398133364,
          4077.9566414615733,
          3808.3738857070034,
          3789.9557589414535,
          2854.8049594729728,
          1123.7800225479748,
          -1311.5032668670578,
          -2435.1443232786164,
          5076.912024515079,
          5097.532705406315,
          9163.42077284651,
          6770.585546041744,
          6692.507716679296,
          5098.3532299519,
          4511.824533326579,
          3991.511321246946,
          2434.383502005267,
          6686.402633815469,
          8951.235021194892,
          29246.215423492285,
          660.8018395288502,
          -3123.8705712178426,
          -3335.680778379789,
          -3101.334030206696,
          -3978.2245561057043,
          -4287.525986786281,
          -4344.0254483568915,
          -4208.723466282315,
          -2929.536010676548,
          5761.991750686518,
          -696.6741576176844,
          -1561.2637627407423,
          -2756.0476443914617,
          -6664.705298239513,
          2074.817261805121,
          5212.806399984001,
          -183.43199173973332,
          -456.2284320274923,
          -1666.419839848975,
          964.4691362914073,
          1049.9051828328656,
          2102.5164013887184,
          8419.697771766443,
          9268.936756039442,
          10599.529072265932,
          7630.803189835725,
          3903.6956836822674,
          573.4879049234734,
          -3385.0967398875646,
          2145.9995151007834,
          32.13432361379074,
          1383.0997366819543,
          -688.7818670212043,
          -3625.5291849319287,
          2105.1304304341484,
          3127.066686555175,
          12859.665387766832,
          15868.416085344114,
          -3383.0275970381294,
          -4345.325695944323,
          10647.557270775551,
          -2944.488459490268,
          -1273.6300818223986,
          5220.760090909254,
          10666.374435497088,
          1609.9847253875944,
          2866.2122760180478,
          -3452.3478679599575,
          -2363.0315847560746,
          -209.20853837468766,
          -1708.8281288976746,
          -1668.7832701949133,
          -1651.5061521364803,
          -59.403330576516204,
          -923.8629425181707,
          7012.586391670928,
          -2854.6177344616176,
          -2982.5587574218875,
          12964.703537709793,
          7073.268106501165,
          342.81921066258366,
          2314.430066288137,
          1132.7465729045714,
          4613.569887442345,
          8770.214620972127,
          -125.00455534122881,
          1825.7931053650564,
          5666.242955477513,
          -4984.758574379995,
          -4116.519314321556,
          -437.4190502212103,
          1256.080711580344,
          10371.866469426905,
          4204.460922529638,
          2381.173638114363,
          -3485.8706093855603,
          1586.6730489458423,
          -2242.4349167377713,
          -3878.6182384709023,
          2135.78198202956,
          6426.9215890374,
          2309.8551709372205,
          -313.0611880215022,
          -223.55583082545124,
          2071.888098616594,
          -830.488312879373,
          -4500.924625990975
         ],
         "yaxis": "y"
        },
        {
         "customdata": [
          [
           18173.979
          ],
          [
           17803.28
          ],
          [
           18490.982
          ],
          [
           17322.078
          ],
          [
           17978.357
          ],
          [
           16425.174
          ],
          [
           20677.594
          ],
          [
           20452.67
          ],
          [
           21383.066
          ],
          [
           16507.07
          ],
          [
           16353.097
          ],
          [
           17360.81
          ],
          [
           15327.101
          ],
          [
           17141.941
          ],
          [
           14202.997
          ],
          [
           15110.192
          ],
          [
           14739.067
          ],
          [
           19567.26
          ],
          [
           19822.115
          ],
          [
           14881.955
          ],
          [
           16256.236
          ],
          [
           15639.037
          ],
          [
           16916.87
          ],
          [
           27280.982
          ],
          [
           30274.71
          ],
          [
           21230.979
          ],
          [
           22100.393
          ],
          [
           21300.02
          ],
          [
           21281.88
          ],
          [
           27825.95
          ],
          [
           26841.08
          ],
          [
           15194.976
          ],
          [
           14116.922
          ],
          [
           13174.071
          ],
          [
           13258.366
          ],
          [
           17202.834
          ],
          [
           16792.68
          ],
          [
           15979.015
          ],
          [
           16379.853
          ],
          [
           16927.78
          ],
          [
           17418.068
          ],
          [
           29246.238
          ],
          [
           15846.013
          ],
          [
           17675.838
          ],
          [
           15604.1455
          ],
          [
           13160.125
          ],
          [
           15077.176
          ],
          [
           16379.099
          ],
          [
           16706.674
          ],
          [
           17214.324
          ],
          [
           15821.95
          ],
          [
           18254.922
          ],
          [
           12791.751
          ],
          [
           14841.917
          ],
          [
           15395.011
          ],
          [
           17314.104
          ],
          [
           22311.049
          ],
          [
           14642.323
          ],
          [
           14397.928
          ],
          [
           15053.934
          ],
          [
           13167.702
          ],
          [
           14678.105
          ],
          [
           14198.093
          ],
          [
           13464.803
          ],
          [
           14894.982
          ],
          [
           14584.448
          ],
          [
           13041.874
          ],
          [
           13007.984
          ],
          [
           10315.019
          ],
          [
           10971.096
          ],
          [
           10354.044
          ],
          [
           13681.698
          ],
          [
           14222.306
          ],
          [
           14266.912
          ],
          [
           14061.123
          ],
          [
           14429.79
          ],
          [
           15084.815
          ],
          [
           16428.578
          ],
          [
           16116.844
          ],
          [
           15000.993
          ],
          [
           15128.992
          ],
          [
           14847.044
          ],
          [
           14997.885
          ],
          [
           14619.078
          ],
          [
           15747.804
          ],
          [
           15635.796
          ],
          [
           14023.938
          ],
          [
           15047.003
          ],
          [
           15553.209
          ],
          [
           13072.842
          ],
          [
           10106.017
          ],
          [
           10897.076
          ],
          [
           11167.861
          ],
          [
           10813.344
          ],
          [
           21908.367
          ],
          [
           20099.258
          ],
          [
           20698.076
          ],
          [
           23547.24
          ],
          [
           23447.688
          ],
          [
           21895.758
          ],
          [
           22926.09
          ],
          [
           23785.922
          ],
          [
           22358.877
          ],
          [
           20512.094
          ],
          [
           20538.088
          ],
          [
           21335.852
          ],
          [
           16336.913
          ],
          [
           16218.848
          ],
          [
           17542.035
          ],
          [
           21956.342
          ],
          [
           14696.029
          ],
          [
           25589.982
          ],
          [
           26831.193
          ],
          [
           11302.903
          ],
          [
           12408.806
          ],
          [
           11918.456
          ],
          [
           11700.111
          ],
          [
           11555.268
          ],
          [
           12409.949
          ],
          [
           21875.098
          ],
          [
           11318.008
          ],
          [
           12314.591
          ],
          [
           12649.111
          ],
          [
           12163.82
          ],
          [
           12146.188
          ],
          [
           26302.074
          ],
          [
           26781.814
          ],
          [
           26060.336
          ],
          [
           25098.629
          ],
          [
           14582.77
          ],
          [
           18800.959
          ],
          [
           17463.047
          ],
          [
           18957.89
          ],
          [
           18950.906
          ],
          [
           17891.633
          ],
          [
           19164.611
          ],
          [
           17458.22
          ],
          [
           19471.975
          ],
          [
           18009.846
          ],
          [
           18273.006
          ],
          [
           19446.883
          ],
          [
           18974.922
          ],
          [
           18324.832
          ],
          [
           21233.912
          ],
          [
           19581.23
          ],
          [
           21725.012
          ],
          [
           21745.03
          ],
          [
           17685.201
          ],
          [
           18169.375
          ],
          [
           17089.918
          ],
          [
           17218.686
          ],
          [
           17162.479
          ],
          [
           18800.094
          ],
          [
           18910.805
          ],
          [
           19177.412
          ],
          [
           18040.145
          ],
          [
           22384.12
          ],
          [
           23573.822
          ],
          [
           20537.143
          ],
          [
           25097.473
          ],
          [
           22460.53
          ],
          [
           21607.773
          ],
          [
           14194.823
          ],
          [
           22004.93
          ],
          [
           24809.043
          ],
          [
           14072.135
          ],
          [
           23102.021
          ],
          [
           23197.438
          ],
          [
           20318.89
          ],
          [
           21903.322
          ],
          [
           22736.834
          ],
          [
           19682.035
          ],
          [
           18678.414
          ],
          [
           23449.307
          ],
          [
           27714.05
          ],
          [
           25948.963
          ],
          [
           25452.475
          ],
          [
           23527.729
          ],
          [
           21757.049
          ],
          [
           19528.1
          ],
          [
           18727.508
          ],
          [
           18835.19
          ],
          [
           22104.973
          ],
          [
           20021.195
          ]
         ],
         "hovertemplate": "Cluster=Cluster 2<br>PCA1=%{x}<br>PCA2=%{y}<br>Feature=%{customdata[0]}<extra></extra>",
         "legendgroup": "Cluster 2",
         "marker": {
          "color": "#00cc96",
          "opacity": 0.5,
          "symbol": "circle"
         },
         "mode": "markers",
         "name": "Cluster 2",
         "orientation": "v",
         "showlegend": true,
         "textposition": "top center",
         "type": "scatter",
         "x": [
          1464.5350155656415,
          -953.0584340338484,
          1149.5944572323826,
          -706.9633222085927,
          -366.9846331379446,
          -2877.7279965055845,
          2121.6699014090505,
          2184.7658624256364,
          4039.864882882708,
          -3433.9943940781513,
          -3531.75172841724,
          2271.387028155751,
          -752.5169942534109,
          188.14293061335533,
          -4216.243887723315,
          -343.6678213086633,
          -486.44622364526697,
          3945.2759562358,
          4377.267331838649,
          -4383.061069509752,
          -1861.628562975723,
          -1793.2351101547656,
          1213.2486616332994,
          10411.518577305837,
          11346.21496096322,
          2638.1646641877296,
          3116.019616838614,
          2211.357373631651,
          712.3395793849049,
          9276.148439428753,
          8346.248361990223,
          -3459.8496523546114,
          -4630.235719645024,
          -5664.188711186656,
          -6101.103299488033,
          -589.6477059837748,
          -1836.8418635892883,
          -15.991993356853374,
          286.7001722319641,
          1193.6012462675808,
          1182.9394253011956,
          12570.454194315742,
          -589.9422724267279,
          1214.1382651593512,
          -958.9005399597709,
          -5622.216609111804,
          -3842.6575155839273,
          -1170.6390477417442,
          -986.5099432256217,
          -1609.1780658279772,
          -3469.212078412362,
          -1881.148931562271,
          -6934.131624098416,
          -3797.0128850862657,
          -3432.3262709846554,
          -114.45313765500624,
          3664.352876892,
          -2009.5578778938145,
          -1911.0025812646873,
          -1117.96202847264,
          -6088.773389241962,
          -3654.942755985536,
          -4056.9179793096755,
          -5679.909246212116,
          -570.6020983074335,
          -448.91449716740163,
          -5881.674080837966,
          -3924.7314718548823,
          -8731.15189785075,
          -5765.548399479857,
          -8720.643902452426,
          -4191.585411714479,
          -3110.420436765975,
          -3128.119609885125,
          -2145.03193771496,
          -2175.894408124227,
          -4333.719216614611,
          -1483.5943304018817,
          1097.5221304728134,
          -4311.0767931339515,
          -3974.1113043111336,
          -3970.80250371773,
          -2519.8797422178477,
          -5076.272106796291,
          -905.6925918537431,
          544.6285645549567,
          -5004.836599472956,
          -3565.9560046213646,
          -1615.538144113746,
          -6076.911297913482,
          -8853.307704080318,
          -5710.64632541933,
          -4821.402130581732,
          -3737.7771108868337,
          1326.5086778720824,
          1946.1624064587397,
          4760.837221665327,
          3236.4090865118533,
          3295.1854604478667,
          1584.1262213214736,
          3244.9110791805465,
          5267.609047461769,
          4427.785798052705,
          232.88235076663017,
          757.4155346064035,
          3054.021392233655,
          -3631.309556990188,
          -2739.583328257437,
          -190.01119013005857,
          1233.523868557062,
          -2113.3804923981734,
          9615.345503910243,
          10030.21260886588,
          -7855.178541870566,
          -5398.925827710581,
          -4927.344011100275,
          -7678.428517971567,
          -7225.844500611782,
          -5961.861374511303,
          2902.8154773134183,
          -6733.5605465599865,
          -3551.4749602285533,
          -3070.778377107754,
          -6233.411792291721,
          -5583.380012285816,
          6863.365910133703,
          7636.416922174969,
          7672.653947429871,
          6691.332200983628,
          -2350.2426617405627,
          1377.6573949807687,
          -985.2092279137994,
          2172.395616628271,
          1288.1646057218159,
          -2374.117222639324,
          3789.8480354787102,
          -2186.4102838200174,
          2445.2400735694696,
          -1678.2826943671548,
          -1794.1455071117578,
          4232.191158904099,
          2285.5176800641693,
          1106.3330580138052,
          692.3984626534861,
          2217.968194883434,
          2395.617910479334,
          4453.736479285467,
          -2211.827290466404,
          -1387.9981355432342,
          -489.9417991397816,
          -2233.1858594164096,
          -2708.832551596093,
          2057.6164469924765,
          1359.2617219815393,
          951.8957426740242,
          -519.2951062382858,
          2595.6770490200697,
          4463.971519132249,
          155.4944749695668,
          5271.574532651865,
          4537.525425020537,
          3046.314352230254,
          -3498.230433297262,
          2004.0571654083442,
          4471.839904434945,
          -5423.964152490109,
          6190.275001001159,
          7351.959450179514,
          -253.29050911226093,
          5410.22966241051,
          5832.365140843788,
          1066.4743515005546,
          -1461.2815300965901,
          2812.4547096329024,
          10648.733685475663,
          10488.962923815308,
          6427.578425022647,
          3628.489780500433,
          6127.836626976903,
          103.5833529851825,
          -635.7171667152712,
          1330.345482557143,
          4161.9459006152865,
          4503.737351332797
         ],
         "xaxis": "x",
         "y": [
          -14285.129820864762,
          -8264.815157213221,
          -12355.79187310552,
          -10504.32233385416,
          -9457.14852462061,
          -6866.765729995199,
          -8389.440972775612,
          -9281.946221709244,
          -11876.719091941426,
          -4957.461215991267,
          -5149.6914780074985,
          -19231.164281334644,
          -16622.53428885122,
          -13728.21981765253,
          -9855.959909839872,
          -18517.096897629624,
          -19256.267443655513,
          -17287.61647673605,
          -17772.120097779953,
          -7232.078041501004,
          -10415.011919041837,
          -12552.899000210771,
          -17479.185028098982,
          -12318.126754676507,
          -5710.703000858117,
          -8189.208923904152,
          -6883.544172603025,
          -6704.806283988526,
          -2308.2963420617957,
          -7236.8269792810215,
          -7561.440725315083,
          -8993.599696694735,
          -8895.864233036244,
          -8779.638381907818,
          -7217.392791726999,
          -11226.638197522007,
          -8807.08983280905,
          -16767.12642228804,
          -16409.897553062507,
          -17386.616104760447,
          -15818.059530103292,
          -12571.639027982816,
          -15478.915807295325,
          -15102.730284186631,
          -15140.960887994323,
          -8948.04811862278,
          -8225.59258673079,
          -12082.713835904631,
          -11602.90347166975,
          -8161.741842320325,
          -7000.443041323454,
          -4091.8509141279696,
          -6205.257132215083,
          -9098.648864353521,
          -8448.328616917875,
          -12289.583176258222,
          -7852.231784957462,
          -15034.578289811448,
          -16093.464976732947,
          -16393.13043214802,
          -7538.222901023612,
          -10034.209810479259,
          -10344.667704917998,
          -7821.595245037661,
          -18517.51425963498,
          -19852.44479813338,
          -8547.911747542083,
          -14467.94122898619,
          -8630.241020055328,
          -15384.05787252089,
          -8539.128118625089,
          -11563.302986034774,
          -13080.678247526313,
          -12888.271194205105,
          -16453.96001420532,
          -15206.632117745674,
          -6742.770687808016,
          -10997.867666845601,
          -19643.17304047843,
          -7072.79114027809,
          -7672.636126883137,
          -8566.273570055744,
          -12403.925989170379,
          -5996.672545917217,
          -14848.716829476356,
          -19508.51889435582,
          -8074.448325936309,
          -9142.214462088648,
          -13349.852131968459,
          -7870.81691164411,
          -8922.480255130262,
          -15779.189068998243,
          -17572.191677974937,
          -21902.77356411668,
          -2169.09347236072,
          -9680.91048999264,
          -16165.825684393309,
          -2705.8515658965293,
          -3192.5301912938926,
          -2973.964393266418,
          -4678.195228998096,
          -7992.075137603053,
          -9970.358006260942,
          -3296.9059559336233,
          -4773.736898788518,
          -9095.920304696303,
          -4904.648303186413,
          -7923.932952180573,
          -11350.62641147921,
          -1742.4655485120072,
          -14557.786719249427,
          -15253.492574943679,
          -12595.249011006343,
          -8135.965848169039,
          -11966.53220175597,
          -14904.606117362062,
          -7415.959142768835,
          -9214.555380978856,
          -10290.546257660264,
          -6956.364488778837,
          -11420.785813547773,
          -17750.375453752975,
          -18129.853732714873,
          -10255.33525251365,
          -12241.756548496216,
          -4845.599080705897,
          -5638.408530496219,
          -8007.641974543987,
          -8106.8842553564355,
          -14209.13203737858,
          -12061.668163333725,
          -9235.806509315404,
          -13930.797291597686,
          -11325.766524299574,
          -3766.0945062521055,
          -18088.021977071232,
          -5682.33773743291,
          -13129.908868384966,
          -5462.764361357584,
          -4293.639015603349,
          -18517.33974586136,
          -14213.479909923215,
          -12748.090739436158,
          -2399.4190689976094,
          -12112.238332296562,
          -5920.018782241729,
          -11971.647707412882,
          -4895.324302483418,
          -5825.090832615137,
          -11876.80184941223,
          -6294.231627596031,
          -5057.342204852233,
          -14084.441595559612,
          -11662.689833957238,
          -9616.74422155041,
          -8810.97502565747,
          -4448.298721079383,
          -6269.439373370249,
          -2988.4783876993743,
          -3892.611071159995,
          -9977.734807467892,
          -8220.645427910667,
          -12014.697624743001,
          -3879.304390703924,
          -2420.837918265534,
          -6678.201948986684,
          -12876.968510327748,
          -16029.07216704493,
          -2458.1787135720924,
          -14317.060568250345,
          -12958.402250110665,
          -8375.327225047426,
          -4011.719831076208,
          -1753.3298168685567,
          -11665.343183204095,
          -16723.60943184864,
          -6214.128334053156,
          -3931.829718899663,
          -16907.483727454928,
          -5997.248575916489,
          -6310.462460390957,
          -11813.810710124211,
          -9976.48519916024,
          -17523.799321441595
         ],
         "yaxis": "y"
        },
        {
         "customdata": [
          [
           37192.895
          ],
          [
           29481.53
          ],
          [
           26792.3
          ],
          [
           36633.633
          ],
          [
           26012.375
          ],
          [
           25959.121
          ],
          [
           23274.48
          ],
          [
           29321.082
          ],
          [
           23329.209
          ],
          [
           36210.12
          ],
          [
           27788.812
          ],
          [
           29197.791
          ],
          [
           27610.863
          ],
          [
           29908.182
          ],
          [
           31156.596
          ],
          [
           31084.938
          ],
          [
           31059.182
          ],
          [
           29114.545
          ],
          [
           25845.207
          ],
          [
           24903.479
          ],
          [
           35895.5
          ],
          [
           28416.46
          ],
          [
           28185.775
          ],
          [
           28204.604
          ],
          [
           26653.24
          ],
          [
           26698.078
          ],
          [
           27241.436
          ],
          [
           27703.203
          ],
          [
           24405.066
          ],
          [
           30959.932
          ],
          [
           29986.791
          ],
          [
           28328.266
          ],
          [
           31181.715
          ],
          [
           28502.307
          ],
          [
           32509.479
          ],
          [
           31153.01
          ],
          [
           30646.438
          ],
          [
           30781.516
          ],
          [
           40619.074
          ],
          [
           23159.543
          ],
          [
           23406.69
          ],
          [
           30792.148
          ],
          [
           23348.018
          ],
          [
           26190.271
          ],
          [
           23077.566
          ],
          [
           23493.082
          ],
          [
           23420.707
          ],
          [
           23016.008
          ],
          [
           23578.164
          ],
          [
           25508.21
          ],
          [
           31132.213
          ],
          [
           30392.75
          ],
          [
           29275.209
          ],
          [
           33220.027
          ],
          [
           32501.246
          ],
          [
           32537.188
          ],
          [
           32954.14
          ],
          [
           36245.16
          ],
          [
           36332.895
          ],
          [
           28817.082
          ],
          [
           37215.168
          ],
          [
           34685.664
          ],
          [
           36154.305
          ],
          [
           35338.652
          ],
          [
           35866.582
          ],
          [
           36077.797
          ],
          [
           28040.129
          ],
          [
           37510.254
          ],
          [
           30322.15
          ],
          [
           28432.824
          ],
          [
           30661.26
          ],
          [
           32075.984
          ],
          [
           31969.07
          ],
          [
           27666.23
          ],
          [
           26337.83
          ],
          [
           26775.031
          ],
          [
           25299.969
          ],
          [
           24896.598
          ],
          [
           25996.807
          ],
          [
           24801.617
          ],
          [
           24063.012
          ],
          [
           23249.842
          ],
          [
           33381.82
          ],
          [
           33358.77
          ],
          [
           33586.906
          ],
          [
           30731.941
          ],
          [
           30315.17
          ],
          [
           30166.852
          ],
          [
           30251.018
          ],
          [
           29142.715
          ],
          [
           33287.41
          ],
          [
           27284.752
          ],
          [
           31970.543
          ],
          [
           32737.084
          ],
          [
           27548.629
          ],
          [
           27370.959
          ],
          [
           27425.844
          ],
          [
           29664.703
          ],
          [
           29595.795
          ],
          [
           31024.873
          ],
          [
           39547.59
          ],
          [
           39691.727
          ],
          [
           38824.867
          ],
          [
           36970.9
          ],
          [
           37288.938
          ],
          [
           35261.438
          ],
          [
           35575.418
          ],
          [
           34297.305
          ],
          [
           34739.215
          ],
          [
           31186.742
          ],
          [
           23345.328
          ],
          [
           23151.547
          ],
          [
           34355.004
          ],
          [
           33540.535
          ],
          [
           30443.88
          ],
          [
           27060.137
          ],
          [
           25790.514
          ],
          [
           32038.34
          ],
          [
           31002.734
          ],
          [
           30075.994
          ],
          [
           29844.203
          ],
          [
           25527.014
          ],
          [
           28054.982
          ],
          [
           28502.963
          ],
          [
           24912.08
          ],
          [
           31849.309
          ],
          [
           32649.76
          ],
          [
           29961.256
          ],
          [
           31554.406
          ],
          [
           29914.379
          ],
          [
           30575.248
          ],
          [
           30271.922
          ],
          [
           28678.076
          ],
          [
           28829.027
          ],
          [
           26955.041
          ],
          [
           34974.38
          ],
          [
           41516.43
          ],
          [
           25618.281
          ],
          [
           41053.48
          ],
          [
           27256.494
          ],
          [
           25148.379
          ],
          [
           24852.496
          ],
          [
           24173.525
          ],
          [
           23733.402
          ],
          [
           36338.75
          ],
          [
           35580.332
          ],
          [
           35304.496
          ],
          [
           34392.996
          ],
          [
           33984.43
          ],
          [
           33248.344
          ],
          [
           28777.959
          ],
          [
           52001.996
          ],
          [
           39072.39
          ],
          [
           38208.5
          ],
          [
           30353.586
          ],
          [
           30122.43
          ],
          [
           26789.832
          ],
          [
           28291.762
          ],
          [
           27109.406
          ],
          [
           25267.367
          ],
          [
           29612.154
          ]
         ],
         "hovertemplate": "Cluster=Cluster 3<br>PCA1=%{x}<br>PCA2=%{y}<br>Feature=%{customdata[0]}<extra></extra>",
         "legendgroup": "Cluster 3",
         "marker": {
          "color": "#ab63fa",
          "opacity": 0.5,
          "symbol": "circle"
         },
         "mode": "markers",
         "name": "Cluster 3",
         "orientation": "v",
         "showlegend": true,
         "textposition": "top center",
         "type": "scatter",
         "x": [
          15255.09181724622,
          7078.288908712409,
          3401.8542253988503,
          13786.508268770089,
          -180.38596659746597,
          5140.7252618544135,
          1261.2786739868818,
          7014.592384591444,
          164.0538662462768,
          13469.345339400836,
          3890.424594726484,
          7101.2752594509075,
          4967.528736315642,
          8118.1272815339225,
          9628.30194999744,
          9757.53948760769,
          6748.102017113299,
          6686.4555218932755,
          -1068.7267314655426,
          -3288.991870684415,
          12763.46157225214,
          8368.653468826149,
          6478.061245063427,
          5804.599055808678,
          4152.775475262799,
          4046.9283676207674,
          4514.361786991158,
          4462.632039184725,
          -770.5916197107489,
          9803.039199325543,
          8628.404421948713,
          6348.004440303828,
          7285.9712627765375,
          4434.885401558714,
          10238.968825312504,
          10099.598412047073,
          9690.635427441226,
          10506.772033513707,
          14998.82421757002,
          -204.4258874551097,
          183.57253532267902,
          9581.176886728268,
          561.8273417184231,
          5390.423623637402,
          378.561923767665,
          1839.4734037392352,
          2263.1209237820044,
          2122.976241386409,
          2336.4252503737584,
          4697.743825522538,
          8227.365749356797,
          9017.937256767722,
          7127.114972818768,
          11629.856926607454,
          11316.457199104356,
          3591.745265405132,
          5822.846447694553,
          12075.916590678313,
          12509.02678238728,
          6698.348649920012,
          14283.744520946473,
          10862.368780869248,
          12280.431463678608,
          11563.544090971414,
          12302.51275923893,
          13283.960426356944,
          3905.9369693579974,
          14760.563634671571,
          9660.516748506248,
          4991.751191647036,
          10603.030625061725,
          8984.96663351895,
          8562.709320909478,
          1103.76899903935,
          5934.464568814141,
          6151.032166323186,
          3833.95882879746,
          2910.294814296589,
          3899.7417518325515,
          1199.9975290892382,
          76.01299807674529,
          -698.4965763965828,
          12191.53551445353,
          12103.014913665078,
          11891.750642847972,
          8053.773209157972,
          7289.996353358254,
          6698.339820035638,
          5977.6982978541,
          3620.2985268706952,
          10736.67210375991,
          7401.989962396435,
          9633.125883357898,
          11028.271191118645,
          3873.3414102664774,
          4076.9268749283656,
          4471.566509822643,
          7380.77455776202,
          8982.322701939607,
          11139.054696924975,
          15979.08626710839,
          15687.253986775933,
          14613.347211006712,
          11407.280959542262,
          11218.375536407977,
          12706.769821160191,
          12560.913147759806,
          10864.997416558785,
          10809.122518958817,
          4748.5016584262485,
          898.3918404006934,
          -872.6852498232137,
          13008.594663686641,
          11211.366586030066,
          10150.729928173983,
          6219.941976792572,
          3791.3189219228384,
          5193.5200766571215,
          10668.579489412428,
          7568.31910855039,
          7000.593405528804,
          -1345.7296513651509,
          4305.384893116167,
          3989.204224623353,
          -2642.1707586653056,
          10874.679865046643,
          11627.245764348303,
          8109.410484519369,
          9591.244609729,
          7398.24053693799,
          7963.008943103808,
          7315.682258880992,
          5181.759555749927,
          4966.569074564394,
          1509.2879123359521,
          11016.367112926413,
          17833.88762438039,
          3931.7884677867737,
          16803.035011067772,
          3509.060081944287,
          2827.9908097915004,
          2374.661634318036,
          390.983475693295,
          -212.7669803570978,
          14734.285545877052,
          13067.381301704923,
          12765.761991304786,
          11028.423949726486,
          10198.092840367854,
          8980.153526722563,
          -2255.8509388776565,
          21764.51658521361,
          13052.83726516172,
          12324.685746759073,
          11270.074382928564,
          9999.840177270897,
          4410.15547304839,
          5789.265428140134,
          4582.554456273414,
          -856.4793161488183,
          3802.978813290941
         ],
         "xaxis": "x",
         "y": [
          4362.625620948692,
          4482.35485367299,
          6974.743858175779,
          6972.491522140734,
          15172.279060141245,
          -802.9159339433215,
          2306.9738451989033,
          4168.643084771736,
          5738.2268169658155,
          6587.17886620141,
          8646.980558305797,
          3524.647158436006,
          4889.250175560438,
          2730.5465364544616,
          2157.366694082381,
          1548.797423904274,
          10408.673232574141,
          4496.070596550012,
          17287.400761611432,
          20931.50823887125,
          7698.033733818077,
          -2689.74461923229,
          2203.81827871364,
          4263.597921377205,
          4307.958501253355,
          4762.966002369867,
          5077.520103034348,
          6678.678847003162,
          11887.355442336995,
          1021.7753744495704,
          1460.998322513486,
          3036.854715411572,
          9194.838377647444,
          9266.017000154168,
          4583.9701559825335,
          745.9714640170614,
          373.0190059579834,
          -1628.184666695683,
          15863.815149193017,
          6301.085751770479,
          5923.114045747856,
          1154.9566660742817,
          4615.457481716954,
          -820.1592416274334,
          4312.144736302904,
          1274.478543937982,
          -210.98768062231335,
          -1063.2258685570207,
          64.80801809495718,
          -900.3234383397678,
          6242.91851476173,
          1576.289349085825,
          3690.559436900138,
          2679.1575866169146,
          1357.100066650012,
          24418.781663837915,
          19097.4977591206,
          10836.692756183153,
          9825.000175533769,
          3528.2981136167173,
          7318.1800057876935,
          9553.505037825811,
          9944.308655765333,
          9517.299029874144,
          8976.800133310295,
          6723.142400550845,
          9388.6836076362,
          6826.607790644896,
          -554.027996398614,
          7393.843763339118,
          -2291.1151429283755,
          6950.580567867164,
          7869.909335203036,
          16541.48611705964,
          -1973.884504154788,
          -1246.8058723417519,
          1013.0926907196157,
          2492.74198262236,
          3001.9998418634977,
          7276.061488068895,
          8299.994009477108,
          8051.953218138261,
          1517.6524892211378,
          1708.3785801186232,
          3051.1420654985304,
          5503.927102227736,
          6466.568979451925,
          7759.37092953832,
          10164.12470481208,
          13693.488706811611,
          5543.902077587158,
          -3365.430142614037,
          4694.47053635872,
          2952.526019079516,
          7944.843827889847,
          6783.088449959471,
          5782.714574316129,
          4157.899573239605,
          -816.0743784957633,
          -2743.7663582358346,
          9592.874161282221,
          10911.683591158739,
          11384.811902330244,
          15098.045438748984,
          16656.19581101884,
          5878.897462117045,
          7296.433907200124,
          8328.327495425941,
          9879.55493731182,
          16749.058025572616,
          3607.141764067182,
          8261.32408983068,
          2140.8704447659316,
          4927.1092324654255,
          -1628.799758629837,
          -557.8228739746261,
          2677.4535788949506,
          18096.42640545308,
          -1415.450116671218,
          4889.980719497626,
          5850.030510336307,
          17112.915675226075,
          8248.54062592547,
          10592.127679414447,
          19036.857760489176,
          625.9639919872923,
          899.3275364208033,
          2922.811692665362,
          3514.4532726364705,
          4888.65369126658,
          5282.396822194768,
          6254.6925231369,
          7598.133623349856,
          8710.612077886593,
          13107.421341932302,
          10001.015499968575,
          10254.135719266904,
          1720.251246268361,
          11865.470838969135,
          8111.331437297626,
          3526.500104371002,
          3945.7891416043576,
          7710.6826579443405,
          8124.710053126136,
          3232.4269030880328,
          5807.19136880673,
          5838.61188278636,
          8142.767427686342,
          9328.8524831158,
          10639.809128343566,
          30007.311380473926,
          31445.316858924358,
          16796.76213243996,
          16252.006793064276,
          -5237.255139189187,
          -2188.162933529398,
          3971.4858389866563,
          4582.361823728147,
          4461.064510652672,
          14845.521573050315,
          14622.297249336583
         ],
         "yaxis": "y"
        }
       ],
       "layout": {
        "height": 600,
        "legend": {
         "title": {
          "text": "Cluster"
         },
         "tracegroupgap": 0
        },
        "margin": {
         "t": 60
        },
        "plot_bgcolor": "rgb(240,240,240)",
        "template": {
         "data": {
          "bar": [
           {
            "error_x": {
             "color": "#2a3f5f"
            },
            "error_y": {
             "color": "#2a3f5f"
            },
            "marker": {
             "line": {
              "color": "#E5ECF6",
              "width": 0.5
             },
             "pattern": {
              "fillmode": "overlay",
              "size": 10,
              "solidity": 0.2
             }
            },
            "type": "bar"
           }
          ],
          "barpolar": [
           {
            "marker": {
             "line": {
              "color": "#E5ECF6",
              "width": 0.5
             },
             "pattern": {
              "fillmode": "overlay",
              "size": 10,
              "solidity": 0.2
             }
            },
            "type": "barpolar"
           }
          ],
          "carpet": [
           {
            "aaxis": {
             "endlinecolor": "#2a3f5f",
             "gridcolor": "white",
             "linecolor": "white",
             "minorgridcolor": "white",
             "startlinecolor": "#2a3f5f"
            },
            "baxis": {
             "endlinecolor": "#2a3f5f",
             "gridcolor": "white",
             "linecolor": "white",
             "minorgridcolor": "white",
             "startlinecolor": "#2a3f5f"
            },
            "type": "carpet"
           }
          ],
          "choropleth": [
           {
            "colorbar": {
             "outlinewidth": 0,
             "ticks": ""
            },
            "type": "choropleth"
           }
          ],
          "contour": [
           {
            "colorbar": {
             "outlinewidth": 0,
             "ticks": ""
            },
            "colorscale": [
             [
              0,
              "#0d0887"
             ],
             [
              0.1111111111111111,
              "#46039f"
             ],
             [
              0.2222222222222222,
              "#7201a8"
             ],
             [
              0.3333333333333333,
              "#9c179e"
             ],
             [
              0.4444444444444444,
              "#bd3786"
             ],
             [
              0.5555555555555556,
              "#d8576b"
             ],
             [
              0.6666666666666666,
              "#ed7953"
             ],
             [
              0.7777777777777778,
              "#fb9f3a"
             ],
             [
              0.8888888888888888,
              "#fdca26"
             ],
             [
              1,
              "#f0f921"
             ]
            ],
            "type": "contour"
           }
          ],
          "contourcarpet": [
           {
            "colorbar": {
             "outlinewidth": 0,
             "ticks": ""
            },
            "type": "contourcarpet"
           }
          ],
          "heatmap": [
           {
            "colorbar": {
             "outlinewidth": 0,
             "ticks": ""
            },
            "colorscale": [
             [
              0,
              "#0d0887"
             ],
             [
              0.1111111111111111,
              "#46039f"
             ],
             [
              0.2222222222222222,
              "#7201a8"
             ],
             [
              0.3333333333333333,
              "#9c179e"
             ],
             [
              0.4444444444444444,
              "#bd3786"
             ],
             [
              0.5555555555555556,
              "#d8576b"
             ],
             [
              0.6666666666666666,
              "#ed7953"
             ],
             [
              0.7777777777777778,
              "#fb9f3a"
             ],
             [
              0.8888888888888888,
              "#fdca26"
             ],
             [
              1,
              "#f0f921"
             ]
            ],
            "type": "heatmap"
           }
          ],
          "heatmapgl": [
           {
            "colorbar": {
             "outlinewidth": 0,
             "ticks": ""
            },
            "colorscale": [
             [
              0,
              "#0d0887"
             ],
             [
              0.1111111111111111,
              "#46039f"
             ],
             [
              0.2222222222222222,
              "#7201a8"
             ],
             [
              0.3333333333333333,
              "#9c179e"
             ],
             [
              0.4444444444444444,
              "#bd3786"
             ],
             [
              0.5555555555555556,
              "#d8576b"
             ],
             [
              0.6666666666666666,
              "#ed7953"
             ],
             [
              0.7777777777777778,
              "#fb9f3a"
             ],
             [
              0.8888888888888888,
              "#fdca26"
             ],
             [
              1,
              "#f0f921"
             ]
            ],
            "type": "heatmapgl"
           }
          ],
          "histogram": [
           {
            "marker": {
             "pattern": {
              "fillmode": "overlay",
              "size": 10,
              "solidity": 0.2
             }
            },
            "type": "histogram"
           }
          ],
          "histogram2d": [
           {
            "colorbar": {
             "outlinewidth": 0,
             "ticks": ""
            },
            "colorscale": [
             [
              0,
              "#0d0887"
             ],
             [
              0.1111111111111111,
              "#46039f"
             ],
             [
              0.2222222222222222,
              "#7201a8"
             ],
             [
              0.3333333333333333,
              "#9c179e"
             ],
             [
              0.4444444444444444,
              "#bd3786"
             ],
             [
              0.5555555555555556,
              "#d8576b"
             ],
             [
              0.6666666666666666,
              "#ed7953"
             ],
             [
              0.7777777777777778,
              "#fb9f3a"
             ],
             [
              0.8888888888888888,
              "#fdca26"
             ],
             [
              1,
              "#f0f921"
             ]
            ],
            "type": "histogram2d"
           }
          ],
          "histogram2dcontour": [
           {
            "colorbar": {
             "outlinewidth": 0,
             "ticks": ""
            },
            "colorscale": [
             [
              0,
              "#0d0887"
             ],
             [
              0.1111111111111111,
              "#46039f"
             ],
             [
              0.2222222222222222,
              "#7201a8"
             ],
             [
              0.3333333333333333,
              "#9c179e"
             ],
             [
              0.4444444444444444,
              "#bd3786"
             ],
             [
              0.5555555555555556,
              "#d8576b"
             ],
             [
              0.6666666666666666,
              "#ed7953"
             ],
             [
              0.7777777777777778,
              "#fb9f3a"
             ],
             [
              0.8888888888888888,
              "#fdca26"
             ],
             [
              1,
              "#f0f921"
             ]
            ],
            "type": "histogram2dcontour"
           }
          ],
          "mesh3d": [
           {
            "colorbar": {
             "outlinewidth": 0,
             "ticks": ""
            },
            "type": "mesh3d"
           }
          ],
          "parcoords": [
           {
            "line": {
             "colorbar": {
              "outlinewidth": 0,
              "ticks": ""
             }
            },
            "type": "parcoords"
           }
          ],
          "pie": [
           {
            "automargin": true,
            "type": "pie"
           }
          ],
          "scatter": [
           {
            "fillpattern": {
             "fillmode": "overlay",
             "size": 10,
             "solidity": 0.2
            },
            "type": "scatter"
           }
          ],
          "scatter3d": [
           {
            "line": {
             "colorbar": {
              "outlinewidth": 0,
              "ticks": ""
             }
            },
            "marker": {
             "colorbar": {
              "outlinewidth": 0,
              "ticks": ""
             }
            },
            "type": "scatter3d"
           }
          ],
          "scattercarpet": [
           {
            "marker": {
             "colorbar": {
              "outlinewidth": 0,
              "ticks": ""
             }
            },
            "type": "scattercarpet"
           }
          ],
          "scattergeo": [
           {
            "marker": {
             "colorbar": {
              "outlinewidth": 0,
              "ticks": ""
             }
            },
            "type": "scattergeo"
           }
          ],
          "scattergl": [
           {
            "marker": {
             "colorbar": {
              "outlinewidth": 0,
              "ticks": ""
             }
            },
            "type": "scattergl"
           }
          ],
          "scattermapbox": [
           {
            "marker": {
             "colorbar": {
              "outlinewidth": 0,
              "ticks": ""
             }
            },
            "type": "scattermapbox"
           }
          ],
          "scatterpolar": [
           {
            "marker": {
             "colorbar": {
              "outlinewidth": 0,
              "ticks": ""
             }
            },
            "type": "scatterpolar"
           }
          ],
          "scatterpolargl": [
           {
            "marker": {
             "colorbar": {
              "outlinewidth": 0,
              "ticks": ""
             }
            },
            "type": "scatterpolargl"
           }
          ],
          "scatterternary": [
           {
            "marker": {
             "colorbar": {
              "outlinewidth": 0,
              "ticks": ""
             }
            },
            "type": "scatterternary"
           }
          ],
          "surface": [
           {
            "colorbar": {
             "outlinewidth": 0,
             "ticks": ""
            },
            "colorscale": [
             [
              0,
              "#0d0887"
             ],
             [
              0.1111111111111111,
              "#46039f"
             ],
             [
              0.2222222222222222,
              "#7201a8"
             ],
             [
              0.3333333333333333,
              "#9c179e"
             ],
             [
              0.4444444444444444,
              "#bd3786"
             ],
             [
              0.5555555555555556,
              "#d8576b"
             ],
             [
              0.6666666666666666,
              "#ed7953"
             ],
             [
              0.7777777777777778,
              "#fb9f3a"
             ],
             [
              0.8888888888888888,
              "#fdca26"
             ],
             [
              1,
              "#f0f921"
             ]
            ],
            "type": "surface"
           }
          ],
          "table": [
           {
            "cells": {
             "fill": {
              "color": "#EBF0F8"
             },
             "line": {
              "color": "white"
             }
            },
            "header": {
             "fill": {
              "color": "#C8D4E3"
             },
             "line": {
              "color": "white"
             }
            },
            "type": "table"
           }
          ]
         },
         "layout": {
          "annotationdefaults": {
           "arrowcolor": "#2a3f5f",
           "arrowhead": 0,
           "arrowwidth": 1
          },
          "autotypenumbers": "strict",
          "coloraxis": {
           "colorbar": {
            "outlinewidth": 0,
            "ticks": ""
           }
          },
          "colorscale": {
           "diverging": [
            [
             0,
             "#8e0152"
            ],
            [
             0.1,
             "#c51b7d"
            ],
            [
             0.2,
             "#de77ae"
            ],
            [
             0.3,
             "#f1b6da"
            ],
            [
             0.4,
             "#fde0ef"
            ],
            [
             0.5,
             "#f7f7f7"
            ],
            [
             0.6,
             "#e6f5d0"
            ],
            [
             0.7,
             "#b8e186"
            ],
            [
             0.8,
             "#7fbc41"
            ],
            [
             0.9,
             "#4d9221"
            ],
            [
             1,
             "#276419"
            ]
           ],
           "sequential": [
            [
             0,
             "#0d0887"
            ],
            [
             0.1111111111111111,
             "#46039f"
            ],
            [
             0.2222222222222222,
             "#7201a8"
            ],
            [
             0.3333333333333333,
             "#9c179e"
            ],
            [
             0.4444444444444444,
             "#bd3786"
            ],
            [
             0.5555555555555556,
             "#d8576b"
            ],
            [
             0.6666666666666666,
             "#ed7953"
            ],
            [
             0.7777777777777778,
             "#fb9f3a"
            ],
            [
             0.8888888888888888,
             "#fdca26"
            ],
            [
             1,
             "#f0f921"
            ]
           ],
           "sequentialminus": [
            [
             0,
             "#0d0887"
            ],
            [
             0.1111111111111111,
             "#46039f"
            ],
            [
             0.2222222222222222,
             "#7201a8"
            ],
            [
             0.3333333333333333,
             "#9c179e"
            ],
            [
             0.4444444444444444,
             "#bd3786"
            ],
            [
             0.5555555555555556,
             "#d8576b"
            ],
            [
             0.6666666666666666,
             "#ed7953"
            ],
            [
             0.7777777777777778,
             "#fb9f3a"
            ],
            [
             0.8888888888888888,
             "#fdca26"
            ],
            [
             1,
             "#f0f921"
            ]
           ]
          },
          "colorway": [
           "#636efa",
           "#EF553B",
           "#00cc96",
           "#ab63fa",
           "#FFA15A",
           "#19d3f3",
           "#FF6692",
           "#B6E880",
           "#FF97FF",
           "#FECB52"
          ],
          "font": {
           "color": "#2a3f5f"
          },
          "geo": {
           "bgcolor": "white",
           "lakecolor": "white",
           "landcolor": "#E5ECF6",
           "showlakes": true,
           "showland": true,
           "subunitcolor": "white"
          },
          "hoverlabel": {
           "align": "left"
          },
          "hovermode": "closest",
          "mapbox": {
           "style": "light"
          },
          "paper_bgcolor": "white",
          "plot_bgcolor": "#E5ECF6",
          "polar": {
           "angularaxis": {
            "gridcolor": "white",
            "linecolor": "white",
            "ticks": ""
           },
           "bgcolor": "#E5ECF6",
           "radialaxis": {
            "gridcolor": "white",
            "linecolor": "white",
            "ticks": ""
           }
          },
          "scene": {
           "xaxis": {
            "backgroundcolor": "#E5ECF6",
            "gridcolor": "white",
            "gridwidth": 2,
            "linecolor": "white",
            "showbackground": true,
            "ticks": "",
            "zerolinecolor": "white"
           },
           "yaxis": {
            "backgroundcolor": "#E5ECF6",
            "gridcolor": "white",
            "gridwidth": 2,
            "linecolor": "white",
            "showbackground": true,
            "ticks": "",
            "zerolinecolor": "white"
           },
           "zaxis": {
            "backgroundcolor": "#E5ECF6",
            "gridcolor": "white",
            "gridwidth": 2,
            "linecolor": "white",
            "showbackground": true,
            "ticks": "",
            "zerolinecolor": "white"
           }
          },
          "shapedefaults": {
           "line": {
            "color": "#2a3f5f"
           }
          },
          "ternary": {
           "aaxis": {
            "gridcolor": "white",
            "linecolor": "white",
            "ticks": ""
           },
           "baxis": {
            "gridcolor": "white",
            "linecolor": "white",
            "ticks": ""
           },
           "bgcolor": "#E5ECF6",
           "caxis": {
            "gridcolor": "white",
            "linecolor": "white",
            "ticks": ""
           }
          },
          "title": {
           "x": 0.05
          },
          "xaxis": {
           "automargin": true,
           "gridcolor": "white",
           "linecolor": "white",
           "ticks": "",
           "title": {
            "standoff": 15
           },
           "zerolinecolor": "white",
           "zerolinewidth": 2
          },
          "yaxis": {
           "automargin": true,
           "gridcolor": "white",
           "linecolor": "white",
           "ticks": "",
           "title": {
            "standoff": 15
           },
           "zerolinecolor": "white",
           "zerolinewidth": 2
          }
         }
        },
        "title": {
         "text": "2D Cluster PCA Plot"
        },
        "xaxis": {
         "anchor": "y",
         "domain": [
          0,
          1
         ],
         "title": {
          "text": "PCA1"
         }
        },
        "yaxis": {
         "anchor": "x",
         "domain": [
          0,
          1
         ],
         "title": {
          "text": "PCA2"
         }
        }
       }
      }
     },
     "metadata": {},
     "output_type": "display_data"
    }
   ],
   "source": [
    "plot_model(kmeans)"
   ]
  },
  {
   "cell_type": "markdown",
   "metadata": {},
   "source": [
    "Yukarıdaki komut aşağıdaki gibi bir grafik çizmektedir:<br>\n",
    "\n",
    "![plot_model](plot_model.png)"
   ]
  },
  {
   "cell_type": "code",
   "execution_count": 19,
   "metadata": {
    "colab": {
     "base_uri": "https://localhost:8080/",
     "height": 524
    },
    "id": "r1JfqOzaCUhM",
    "outputId": "e6a2592c-f580-442f-ac0e-250386f8ef41"
   },
   "outputs": [
    {
     "data": {
      "text/html": [],
      "text/plain": [
       "<IPython.core.display.HTML object>"
      ]
     },
     "metadata": {},
     "output_type": "display_data"
    },
    {
     "data": {
      "image/png": "[encoded data removed]",
      "text/plain": [
       "<Figure size 800x550 with 1 Axes>"
      ]
     },
     "metadata": {},
     "output_type": "display_data"
    }
   ],
   "source": [
    "plot_model(kmeans, plot=\"elbow\")"
   ]
  },
  {
   "cell_type": "code",
   "execution_count": 20,
   "metadata": {
    "colab": {
     "base_uri": "https://localhost:8080/",
     "height": 817
    },
    "id": "4z3KDpCHC2ls",
    "outputId": "79a0257e-7fa7-4b55-b0eb-18dde7507da3"
   },
   "outputs": [
    {
     "data": {
      "text/html": [],
      "text/plain": [
       "<IPython.core.display.HTML object>"
      ]
     },
     "metadata": {},
     "output_type": "display_data"
    },
    {
     "data": {
      "application/vnd.plotly.v1+json": {
       "config": {
        "plotlyServerURL": "https://plot.ly"
       },
       "data": [
        {
         "customdata": [
          [
           51154.047
          ],
          [
           40856.39
          ],
          [
           41378.047
          ],
          [
           42820.33
          ],
          [
           38445.9
          ],
          [
           38600.24
          ],
          [
           39307.008
          ],
          [
           40335.74
          ],
          [
           39801.55
          ],
          [
           34819.297
          ],
          [
           31431.13
          ],
          [
           30957.08
          ],
          [
           33417.965
          ],
          [
           35622.14
          ],
          [
           43374.05
          ],
          [
           42677.6
          ],
          [
           44300.64
          ],
          [
           43892.47
          ],
          [
           44084.914
          ],
          [
           44130.617
          ],
          [
           46747.67
          ],
          [
           49248.16
          ],
          [
           37383.504
          ],
          [
           39365.883
          ],
          [
           39092.19
          ],
          [
           38990.605
          ],
          [
           39713.668
          ],
          [
           39875.855
          ],
          [
           41371.38
          ],
          [
           42773.027
          ],
          [
           41419.04
          ],
          [
           44749.688
          ],
          [
           37088.562
          ],
          [
           35651.68
          ],
          [
           32197.34
          ],
          [
           55639.086
          ],
          [
           57154.445
          ],
          [
           60567.55
          ],
          [
           63913.117
          ],
          [
           65281.48
          ],
          [
           66374.305
          ],
          [
           69133.734
          ],
          [
           68566.19
          ],
          [
           70755.47
          ],
          [
           32053.098
          ],
          [
           35033.215
          ],
          [
           32746.13
          ],
          [
           41671.582
          ],
          [
           42377.957
          ],
          [
           44205.875
          ],
          [
           45061.953
          ],
          [
           48365.98
          ],
          [
           48310.33
          ],
          [
           33183.332
          ],
          [
           33005.78
          ],
          [
           30800.658
          ],
          [
           38297.46
          ],
          [
           38795.38
          ],
          [
           40966.605
          ],
          [
           42741.523
          ],
          [
           38324.81
          ],
          [
           35165.758
          ],
          [
           35129.34
          ],
          [
           35715.77
          ],
          [
           47065.21
          ],
          [
           38167.17
          ],
          [
           46732.605
          ],
          [
           32422.762
          ],
          [
           32219.59
          ]
         ],
         "hovertemplate": "Cluster=Cluster 0<br>0=%{x}<br>1=%{y}<br>2=%{z}<br>Feature=%{customdata[0]}<extra></extra>",
         "legendgroup": "Cluster 0",
         "marker": {
          "color": "#636efa",
          "opacity": 0.7,
          "symbol": "circle"
         },
         "mode": "markers",
         "name": "Cluster 0",
         "scene": "scene",
         "showlegend": true,
         "type": "scatter3d",
         "x": [
          12.344738,
          11.5925865,
          11.4140415,
          11.661372,
          11.211257,
          11.242728,
          11.370655,
          11.557403,
          11.408855,
          9.674073,
          8.207936,
          8.094436,
          9.133002,
          9.852129,
          12.580531,
          12.524257,
          12.656697,
          12.626539,
          12.605307,
          12.607838,
          12.58074,
          12.324259,
          11.003633,
          11.186627,
          11.079971,
          11.022142,
          11.165555,
          11.159131,
          12.271624,
          12.105803,
          11.804731,
          12.300742,
          10.1626215,
          9.872657,
          8.966751,
          12.993027,
          13.016369,
          13.080366,
          13.115231,
          13.119911,
          13.11788,
          13.112934,
          13.108274,
          13.09506,
          8.891683,
          9.680939,
          8.888431,
          12.356207,
          12.298634,
          12.359008,
          12.408927,
          12.241785,
          12.243917,
          8.927191,
          9.047504,
          8.378097,
          11.185954,
          11.170241,
          11.345463,
          11.753736,
          10.915753,
          9.843883,
          9.760297,
          9.776067,
          12.17038,
          10.941851,
          12.147956,
          8.709369,
          8.506323
         ],
         "y": [
          -3.5070834,
          -2.2233057,
          -3.5284736,
          -3.7967842,
          -0.048375975,
          -0.65625525,
          -1.1302189,
          -1.6271366,
          -1.8420924,
          -2.9974647,
          -3.5724955,
          -3.697142,
          -4.7091293,
          -3.369914,
          1.5641208,
          1.4616497,
          1.2226107,
          1.1902508,
          0.7663527,
          0.7591957,
          -1.5066572,
          -3.3774507,
          -0.94775796,
          -2.6644013,
          -2.9531345,
          -3.3291523,
          -3.4074059,
          -3.7888982,
          0.3901105,
          -1.6773819,
          -1.7208549,
          -2.1422305,
          -4.7104173,
          -3.3085072,
          -5.3535566,
          0.5815139,
          0.37815523,
          -0.30638027,
          -0.87545687,
          -1.0752984,
          -1.2753757,
          -1.4561788,
          -1.5038749,
          -1.6714362,
          -5.1803064,
          -5.1672034,
          -4.4045386,
          0.56660414,
          -0.07286946,
          -1.5409769,
          -1.7856406,
          -3.6115909,
          -3.6558347,
          -3.7995887,
          -4.7917767,
          -4.5269833,
          -0.7714304,
          -1.9022117,
          -3.6595392,
          -3.942385,
          -2.590697,
          -2.690054,
          -3.027698,
          -4.5092015,
          -3.5742395,
          -2.2481635,
          -3.6589594,
          -4.0392876,
          -3.5659108
         ],
         "z": [
          -1.1505251,
          0.724733,
          0.12663043,
          -0.38258615,
          1.3506981,
          1.3203346,
          1.1734796,
          0.9481135,
          0.99025023,
          1.4154987,
          1.5302179,
          1.4950597,
          0.9023151,
          1.1648784,
          -0.3185749,
          -0.17286128,
          -0.22825691,
          -0.17209905,
          -0.0095950635,
          -0.010909748,
          0.08588137,
          -0.98741907,
          1.4499714,
          0.80843,
          0.73379904,
          0.56684506,
          0.42144877,
          0.16357373,
          0.40628704,
          0.5066392,
          0.74226594,
          0.12708174,
          0.3280507,
          1.1855989,
          0.77220243,
          -1.9279629,
          -1.9214839,
          -1.973084,
          -2.0351503,
          -2.052505,
          -2.0653367,
          -2.0767484,
          -2.0747402,
          -2.0759776,
          0.8597208,
          0.44491112,
          1.0995507,
          0.2969698,
          0.4023061,
          0.31059438,
          0.19422735,
          -1.0436065,
          -1.080477,
          1.3027517,
          0.91123074,
          1.1935707,
          1.3521004,
          1.1168147,
          0.09266126,
          -0.6329908,
          1.0005393,
          1.4878962,
          1.3681172,
          0.6612217,
          -0.8943448,
          1.1232517,
          -0.93306935,
          1.2730976,
          1.4812541
         ]
        },
        {
         "customdata": [
          [
           19646.717
          ],
          [
           15554.283
          ],
          [
           12706.911
          ],
          [
           12487.055
          ],
          [
           16106.827
          ],
          [
           16033.931
          ],
          [
           15832.519
          ],
          [
           16508.59
          ],
          [
           15951.812
          ],
          [
           16391.926
          ],
          [
           12678.854
          ],
          [
           17154.576
          ],
          [
           14185.021
          ],
          [
           13699.036
          ],
          [
           13310.06
          ],
          [
           13530.068
          ],
          [
           13019.071
          ],
          [
           16805.057
          ],
          [
           20173.906
          ],
          [
           18701.223
          ],
          [
           22894.44
          ],
          [
           16644.088
          ],
          [
           12897.93
          ],
          [
           12570.137
          ],
          [
           12243.061
          ],
          [
           11671.858
          ],
          [
           11464.629
          ],
          [
           10546.783
          ],
          [
           16078.665
          ],
          [
           17325.27
          ],
          [
           13540.042
          ],
          [
           14077.969
          ],
          [
           12981.952
          ],
          [
           11961.62
          ],
          [
           13436
          ],
          [
           22064.293
          ],
          [
           14220.014
          ],
          [
           12379.127
          ],
          [
           11581.905
          ],
          [
           16551.219
          ],
          [
           12810.91
          ],
          [
           13135.905
          ],
          [
           13106.9
          ],
          [
           12845.174
          ],
          [
           13161.942
          ],
          [
           19423.164
          ],
          [
           12684.986
          ],
          [
           12553.071
          ],
          [
           15163.17
          ],
          [
           14897.041
          ],
          [
           14508.75
          ],
          [
           14418.165
          ],
          [
           14191.882
          ],
          [
           14401.907
          ],
          [
           14175.879
          ],
          [
           12828.031
          ],
          [
           15979.015
          ],
          [
           12830.099
          ],
          [
           13994.906
          ],
          [
           13830.249
          ],
          [
           16256.236
          ],
          [
           15724.252
          ],
          [
           15967.245
          ],
          [
           16041.686
          ],
          [
           15756.146
          ],
          [
           13159.821
          ],
          [
           12495.971
          ],
          [
           12878.047
          ],
          [
           12832.462
          ],
          [
           12464.073
          ],
          [
           12741.19
          ],
          [
           12209.56
          ],
          [
           11903.098
          ],
          [
           17294.182
          ],
          [
           17789.348
          ],
          [
           17839.8
          ],
          [
           18912.982
          ],
          [
           18527.209
          ],
          [
           12258.857
          ],
          [
           12465.509
          ],
          [
           18083.396
          ],
          [
           14593.8545
          ],
          [
           13688.945
          ],
          [
           19409.752
          ],
          [
           19075.68
          ],
          [
           19956.758
          ],
          [
           19448.227
          ],
          [
           16853.107
          ],
          [
           16516.955
          ],
          [
           13744.85
          ],
          [
           13545.031
          ],
          [
           14304.741
          ],
          [
           13585.637
          ],
          [
           20294.576
          ],
          [
           22120.758
          ],
          [
           15792.831
          ],
          [
           20221.809
          ],
          [
           21020.836
          ],
          [
           20382.15
          ],
          [
           21525.34
          ],
          [
           20047.951
          ],
          [
           20619.113
          ],
          [
           22470.36
          ],
          [
           22113.629
          ],
          [
           17586.928
          ],
          [
           18876.871
          ],
          [
           20017.969
          ],
          [
           20839.15
          ],
          [
           20676.166
          ],
          [
           15595.884
          ],
          [
           15253.868
          ],
          [
           15503.509
          ],
          [
           15797.195
          ],
          [
           16345.943
          ],
          [
           16357.992
          ],
          [
           17515.398
          ],
          [
           15594.807
          ],
          [
           15059.134
          ],
          [
           16216.98
          ],
          [
           17023.938
          ],
          [
           22525.27
          ],
          [
           21982.648
          ],
          [
           19204.809
          ],
          [
           18158.084
          ],
          [
           19338.377
          ],
          [
           19689.74
          ],
          [
           19116.13
          ],
          [
           20109.904
          ],
          [
           20830.994
          ],
          [
           18529.342
          ],
          [
           19294.787
          ],
          [
           17768.059
          ],
          [
           18063.006
          ],
          [
           14703.137
          ],
          [
           18566.07
          ],
          [
           17844.73
          ],
          [
           19751.041
          ],
          [
           20127.045
          ],
          [
           18548.979
          ],
          [
           18042.22
          ],
          [
           18620.871
          ],
          [
           21200.69
          ],
          [
           21403.756
          ],
          [
           21765.066
          ],
          [
           22189.115
          ],
          [
           22231.562
          ],
          [
           18856.02
          ],
          [
           15680.864
          ],
          [
           15664.625
          ],
          [
           15623.92
          ],
          [
           17095.035
          ],
          [
           17162.873
          ],
          [
           16391.172
          ],
          [
           15233.16
          ],
          [
           15138.4
          ],
          [
           15623.2
          ],
          [
           16300.465
          ],
          [
           16993.781
          ],
          [
           16472.898
          ],
          [
           17158.922
          ],
          [
           15788.1045
          ],
          [
           18311.756
          ],
          [
           15118.894
          ],
          [
           14914.201
          ],
          [
           16143.957
          ],
          [
           16543.98
          ],
          [
           16825.191
          ],
          [
           16744.03
          ],
          [
           16723.994
          ],
          [
           17801.23
          ],
          [
           16997.693
          ],
          [
           16283.959
          ],
          [
           15457.171
          ],
          [
           11539.049
          ],
          [
           16569.14
          ],
          [
           14963.046
          ],
          [
           17553.754
          ],
          [
           17663.225
          ],
          [
           16646.771
          ],
          [
           16752.514
          ],
          [
           16507.07
          ],
          [
           16027.286
          ],
          [
           16860.094
          ],
          [
           16267.095
          ],
          [
           16456.975
          ],
          [
           17173.941
          ],
          [
           17986.225
          ],
          [
           13961.111
          ],
          [
           13034.068
          ],
          [
           18004.871
          ],
          [
           13162.853
          ],
          [
           16713.984
          ],
          [
           16341.804
          ],
          [
           16536.744
          ],
          [
           16403.254
          ],
          [
           17312.906
          ],
          [
           16860.871
          ],
          [
           17316.096
          ],
          [
           17119.457
          ],
          [
           16803.123
          ],
          [
           16988.303
          ],
          [
           17115.121
          ],
          [
           16295.212
          ],
          [
           11574.174
          ],
          [
           13141.048
          ],
          [
           11699.034
          ],
          [
           13998.129
          ],
          [
           14568.002
          ],
          [
           13122.905
          ],
          [
           13494.289
          ],
          [
           12036.217
          ],
          [
           12162.14
          ],
          [
           12333.604
          ],
          [
           21831.822
          ],
          [
           21698.016
          ],
          [
           12293.06
          ],
          [
           12099.015
          ],
          [
           22435.203
          ],
          [
           12119.09
          ],
          [
           22661.049
          ],
          [
           11679.924
          ],
          [
           13216.912
          ],
          [
           12412.521
          ],
          [
           19641.742
          ],
          [
           19191.99
          ],
          [
           19425.848
          ],
          [
           21878.12
          ],
          [
           21536.742
          ],
          [
           11539.049
          ],
          [
           13032.868
          ],
          [
           10777.053
          ],
          [
           11045.108
          ],
          [
           11137.046
          ],
          [
           10386.04
          ],
          [
           11096.857
          ],
          [
           11017.169
          ],
          [
           11472.022
          ],
          [
           12257.164
          ],
          [
           15277.067
          ],
          [
           14702.798
          ],
          [
           15033.15
          ],
          [
           13991.04
          ],
          [
           14771.004
          ],
          [
           13719.238
          ],
          [
           13869.155
          ],
          [
           13518.235
          ],
          [
           13825.154
          ],
          [
           13811.155
          ],
          [
           14077.969
          ],
          [
           14411.858
          ],
          [
           13600.034
          ],
          [
           19981.127
          ],
          [
           21562.047
          ],
          [
           20952.219
          ],
          [
           21575.457
          ],
          [
           20406.1
          ],
          [
           21183.123
          ],
          [
           21460.014
          ],
          [
           21273.062
          ],
          [
           11504.824
          ],
          [
           11521.526
          ],
          [
           17968.838
          ],
          [
           17808.2
          ],
          [
           18543.428
          ],
          [
           19105.13
          ],
          [
           19344.166
          ],
          [
           19774.25
          ],
          [
           19924.158
          ],
          [
           15295.019
          ],
          [
           14862.094
          ],
          [
           15048.042
          ],
          [
           15230.003
          ],
          [
           15709.053
          ],
          [
           16339.17
          ],
          [
           16175.958
          ],
          [
           15731.133
          ],
          [
           21058.139
          ],
          [
           9928.188
          ],
          [
           19556.898
          ],
          [
           10563.066
          ],
          [
           21646.117
          ],
          [
           12284.288
          ],
          [
           12594.183
          ],
          [
           17645.744
          ],
          [
           17394.021
          ],
          [
           17772.969
          ],
          [
           17750.885
          ],
          [
           18348.898
          ],
          [
           19027.863
          ],
          [
           17944.857
          ],
          [
           18145.127
          ],
          [
           12105.981
          ],
          [
           11873.534
          ],
          [
           20902.104
          ],
          [
           20986.016
          ],
          [
           21683.031
          ],
          [
           21341.258
          ],
          [
           21799.172
          ],
          [
           22625.074
          ],
          [
           22230.027
          ],
          [
           12965.224
          ],
          [
           11413.53
          ],
          [
           22244.877
          ],
          [
           20627.662
          ],
          [
           11215.019
          ],
          [
           12327.642
          ],
          [
           12274.958
          ],
          [
           9665.849
          ],
          [
           9563.789
          ],
          [
           9654.061
          ],
          [
           13678.863
          ],
          [
           12507.485
          ],
          [
           9220.83
          ],
          [
           9789.038
          ],
          [
           9506.048
          ],
          [
           9720.979
          ],
          [
           10287.978
          ],
          [
           19540.244
          ],
          [
           15086.899
          ],
          [
           12630.775
          ],
          [
           14398.923
          ],
          [
           13594.086
          ],
          [
           9482.22
          ],
          [
           8638.931
          ],
          [
           9041.906
          ],
          [
           8870.947
          ],
          [
           14869.282
          ],
          [
           11149.618
          ],
          [
           10788.971
          ],
          [
           11203.146
          ],
          [
           12207.873
          ],
          [
           13471.005
          ],
          [
           12573.9
          ],
          [
           11726.003
          ],
          [
           15622.121
          ],
          [
           11539.846
          ],
          [
           12045.921
          ],
          [
           12383.402
          ],
          [
           13230.919
          ],
          [
           11080.517
          ],
          [
           11328.959
          ],
          [
           15568.975
          ],
          [
           15977.911
          ],
          [
           8768.999
          ],
          [
           12469.527
          ],
          [
           12733.858
          ],
          [
           12230.1
          ],
          [
           14546.885
          ],
          [
           12319.696
          ],
          [
           12549.893
          ],
          [
           13688
          ],
          [
           13308.834
          ],
          [
           10921.945
          ],
          [
           11247.862
          ],
          [
           11391.214
          ],
          [
           14145.881
          ],
          [
           12425.39
          ],
          [
           12944.938
          ],
          [
           12234.888
          ],
          [
           11343.054
          ],
          [
           11031.13
          ],
          [
           9954.054
          ],
          [
           10491.075
          ],
          [
           10144.952
          ],
          [
           15505.294
          ],
          [
           15297.836
          ],
          [
           12846.062
          ],
          [
           14396.2705
          ],
          [
           11179.953
          ],
          [
           11394.887
          ],
          [
           15174.347
          ],
          [
           14255.748
          ],
          [
           13762.901
          ],
          [
           15589.78
          ],
          [
           14909.051
          ],
          [
           9919.048
          ],
          [
           10921.945
          ],
          [
           10872.014
          ],
          [
           14275.128
          ],
          [
           10770.106
          ],
          [
           10805.13
          ],
          [
           11615.021
          ],
          [
           14853.199
          ],
          [
           11115.014
          ],
          [
           11013.871
          ],
          [
           15730.046
          ],
          [
           15802.653
          ],
          [
           11070.061
          ],
          [
           11169.918
          ],
          [
           13446.214
          ]
         ],
         "hovertemplate": "Cluster=Cluster 1<br>0=%{x}<br>1=%{y}<br>2=%{z}<br>Feature=%{customdata[0]}<extra></extra>",
         "legendgroup": "Cluster 1",
         "marker": {
          "color": "#EF553B",
          "opacity": 0.7,
          "symbol": "circle"
         },
         "mode": "markers",
         "name": "Cluster 1",
         "scene": "scene",
         "showlegend": true,
         "type": "scatter3d",
         "x": [
          -0.9379823,
          -6.0163703,
          -9.764732,
          -9.545515,
          -3.8498108,
          -3.6319692,
          -6.0538416,
          -5.9141374,
          -6.2742224,
          -3.134879,
          -9.391579,
          -3.793828,
          -7.4130373,
          -9.532303,
          -9.792083,
          -9.312692,
          -9.500599,
          -3.200449,
          -0.5079342,
          -2.9956353,
          0.38413748,
          -4.8787165,
          -9.982861,
          -10.202186,
          -10.794923,
          -11.433727,
          -9.493763,
          -6.8970084,
          -5.634998,
          -2.80486,
          -5.5301504,
          -5.272804,
          -8.58066,
          -10.224281,
          -8.208771,
          -0.3925759,
          -7.909121,
          -8.410833,
          -7.149995,
          -3.4795406,
          -8.545914,
          -9.312585,
          -9.411465,
          -9.89249,
          -8.878018,
          -2.396269,
          -8.861579,
          -7.631993,
          -4.053011,
          -5.0779,
          -6.007307,
          -6.8294353,
          -7.6278424,
          -7.4567156,
          -7.696211,
          -8.334383,
          -5.387976,
          -6.1623173,
          -5.210547,
          -5.5505733,
          -5.3849654,
          -6.4037714,
          -6.1872716,
          -6.3195186,
          -6.028733,
          -9.688347,
          -10.526284,
          -8.351455,
          -8.835639,
          -10.131346,
          -7.1157765,
          -10.815922,
          -11.170401,
          -4.835596,
          -4.21282,
          -4.0215983,
          -1.7202096,
          -1.549993,
          -10.712373,
          -10.487888,
          -4.306727,
          -5.8364034,
          -8.36247,
          -0.2758122,
          -0.45500898,
          -2.0256484,
          -3.0032067,
          -2.6048899,
          -4.150258,
          -8.905619,
          -9.274559,
          -7.513653,
          -6.6871605,
          -3.9329853,
          -0.4459857,
          -5.562834,
          -1.8157743,
          -0.80599374,
          -1.3702877,
          -0.27247378,
          -1.5684272,
          -0.9254855,
          1.069217,
          0.9710842,
          -5.170381,
          -3.2463417,
          -1.1663235,
          -0.24512765,
          1.0449268,
          -4.1547503,
          -5.8115396,
          -6.037722,
          -6.508885,
          -5.8499184,
          -5.5264297,
          -2.095168,
          -6.0860724,
          -6.8039684,
          -5.583541,
          -5.193009,
          1.7793305,
          1.2037915,
          -2.7660377,
          -4.07756,
          -3.1603217,
          -2.5938008,
          -2.7811863,
          -1.1484934,
          0.68606865,
          -4.119161,
          -0.6221482,
          -4.363186,
          -4.022237,
          -7.4056764,
          -3.0714576,
          -2.8669271,
          -0.5802718,
          0.5025312,
          -1.9532207,
          -2.7073455,
          -3.144658,
          -3.1190434,
          -0.8230821,
          -0.26556626,
          0.07679178,
          1.0523411,
          -1.8133363,
          -6.5075,
          -6.496954,
          -5.472727,
          -2.5683362,
          -3.493399,
          -4.596823,
          -6.223719,
          -6.267592,
          -6.6998744,
          -5.8595343,
          -5.0687675,
          -4.654522,
          -3.727943,
          -6.305633,
          -0.97117037,
          -7.0481477,
          -6.223747,
          -6.163928,
          -5.397036,
          -5.159259,
          -4.40443,
          -3.3947382,
          -2.100616,
          -5.126567,
          -6.024426,
          -6.127137,
          -11.446535,
          -5.5809608,
          -6.41012,
          -2.0089128,
          -2.2676277,
          -3.6609452,
          -2.8866313,
          -2.759635,
          -5.732357,
          -4.9537625,
          -4.815144,
          -3.8623724,
          -2.4832532,
          -1.1970356,
          -7.177289,
          -9.817698,
          -1.7096676,
          -9.812546,
          -5.548182,
          -5.759104,
          -5.404291,
          -5.403721,
          -3.5559125,
          -3.3176491,
          -2.667929,
          -2.4018028,
          -5.34899,
          -4.96842,
          -4.8617625,
          -5.9878135,
          -11.080976,
          -8.30201,
          -10.063741,
          -5.981251,
          -5.659217,
          -7.9268794,
          -7.701988,
          -9.674781,
          -10.466999,
          -10.284043,
          -0.16059041,
          -0.24196395,
          -5.55816,
          -10.803374,
          1.1088947,
          -10.79444,
          1.7390356,
          -11.344105,
          -9.6194105,
          -10.586397,
          -3.655284,
          -3.6176376,
          -3.0598037,
          0.56251013,
          -3.187678,
          -6.743174,
          -8.628676,
          -10.446878,
          -11.931302,
          -11.721347,
          -12.2007675,
          -10.766582,
          -10.746611,
          -10.2515745,
          -10.272143,
          -3.7803288,
          -4.881523,
          -5.870839,
          -7.787534,
          -7.0119834,
          -8.909033,
          -8.9320965,
          -9.651796,
          -9.40367,
          -9.36395,
          -8.929102,
          -8.420582,
          -9.258075,
          -1.5613102,
          0.097333364,
          0.5425054,
          1.0038546,
          -0.8324021,
          0.3419975,
          1.0967122,
          1.1274785,
          -7.7355204,
          -7.48044,
          -4.95678,
          -4.9912267,
          -3.2306087,
          -2.246637,
          -1.9402992,
          -1.4948952,
          -0.17701775,
          -7.0143805,
          -7.369853,
          -6.920024,
          -6.5929337,
          -5.8493733,
          -3.7900846,
          -3.673878,
          -4.916858,
          -0.558658,
          -9.649519,
          -2.1982834,
          -8.456421,
          1.193628,
          -10.7227745,
          -10.410492,
          -4.3990083,
          -4.5782175,
          -4.05503,
          -4.080286,
          -2.902257,
          -1.6581447,
          -2.034811,
          -1.4277885,
          -9.793452,
          -9.851615,
          -2.8500443,
          -1.1665152,
          -0.5619215,
          -0.4575302,
          0.07556708,
          0.9449845,
          1.0239857,
          -8.838576,
          -8.186758,
          -3.267004,
          0.053408954,
          -10.551355,
          -9.136167,
          -9.286155,
          -11.582799,
          -11.610903,
          -11.588959,
          -5.9567904,
          -9.001486,
          -9.60953,
          -12.586419,
          -12.56113,
          -11.696226,
          -4.3775344,
          -1.4411118,
          -7.2168636,
          -10.164636,
          -7.4636106,
          -8.0953665,
          -12.893977,
          -13.096923,
          -13.091606,
          -8.553814,
          -6.4290123,
          -7.7071843,
          -8.808255,
          -10.549926,
          -10.78717,
          -7.245658,
          -10.475783,
          -11.277661,
          -6.328188,
          -11.340028,
          -9.451958,
          -10.6615925,
          -9.899142,
          -7.188568,
          -6.6398163,
          -4.151444,
          -3.0049868,
          -7.8968534,
          -9.050521,
          -9.596006,
          -9.691344,
          -6.421613,
          -10.668142,
          -10.529936,
          -6.7864246,
          -8.168978,
          -11.977723,
          -11.282742,
          -11.194814,
          -7.5051723,
          -10.4302435,
          -9.494444,
          -8.838335,
          -10.531108,
          -10.751909,
          -7.2491403,
          -9.0699215,
          -12.543683,
          -6.694201,
          -6.6737432,
          -9.677676,
          -6.7055697,
          -11.780275,
          -11.671046,
          -7.0062337,
          -4.8088255,
          -5.9646645,
          -5.521539,
          -7.1767755,
          -7.9104686,
          -10.463017,
          -12.125146,
          -5.9570937,
          -12.159612,
          -11.244949,
          -9.9165325,
          -7.3980837,
          -9.285759,
          -12.021856,
          -5.403584,
          -5.352815,
          -11.97213,
          -11.669491,
          -5.8776393
         ],
         "y": [
          0.9843035,
          9.870291,
          6.8670044,
          7.720136,
          -2.2551606,
          -3.7269874,
          9.021139,
          6.3849797,
          4.856952,
          -3.7411458,
          7.82126,
          0.6180565,
          -2.525928,
          5.0379014,
          5.2021394,
          6.2842245,
          7.086749,
          -1.95635,
          1.1421299,
          4.2812686,
          6.368387,
          1.3001406,
          0.9916096,
          -0.07814142,
          3.4800932,
          4.149937,
          8.594918,
          11.586874,
          1.5300298,
          -1.3602128,
          -6.2119536,
          -5.8294063,
          -3.2182784,
          7.0965424,
          -2.6611233,
          6.9511495,
          1.479921,
          9.303626,
          11.223807,
          -1.9991608,
          -4.36336,
          -0.9219062,
          -0.7801485,
          -0.17518413,
          -1.7589619,
          5.0099053,
          8.597959,
          10.045012,
          -5.3250303,
          -4.753866,
          -4.441867,
          -3.383785,
          -1.4454421,
          -0.99346465,
          -1.0098867,
          -4.693705,
          0.70013493,
          -6.353953,
          -5.981036,
          -5.891003,
          1.4576361,
          2.4305856,
          4.384393,
          6.6030774,
          7.879215,
          0.37631705,
          5.0007224,
          -4.5760407,
          -2.7817442,
          -0.8376787,
          10.650466,
          4.7569194,
          3.7655356,
          7.840062,
          6.266792,
          4.3609405,
          1.1404068,
          -0.9130795,
          2.6110444,
          2.0766718,
          7.857259,
          -4.5020747,
          -1.1482687,
          -1.3604554,
          -2.0881932,
          5.5485716,
          6.889665,
          -3.5876222,
          -0.45365074,
          2.00014,
          6.4354424,
          -1.44921,
          10.744436,
          9.668104,
          7.344695,
          11.347348,
          5.7718163,
          5.348737,
          4.9266696,
          5.0431476,
          4.300108,
          3.9420624,
          3.022634,
          2.4616404,
          11.038014,
          6.5095196,
          2.4699373,
          2.1775575,
          -1.457268,
          -4.142874,
          -0.6619358,
          9.869793,
          5.559454,
          4.704259,
          2.203554,
          -2.6583667,
          1.044166,
          1.1059624,
          10.389282,
          8.374542,
          0.30249894,
          0.90569603,
          5.8363385,
          7.2584395,
          7.04193,
          6.438925,
          5.5924187,
          2.6157935,
          -0.187932,
          8.164276,
          -0.73384804,
          7.2635503,
          6.762106,
          1.6869627,
          4.0494514,
          0.51284194,
          0.46128187,
          -1.3461375,
          0.5517923,
          0.898616,
          4.703923,
          8.775114,
          6.7205863,
          5.726209,
          5.7154493,
          2.4402416,
          1.8543842,
          4.758295,
          4.5956225,
          -0.16594623,
          -2.7428358,
          -0.06862777,
          0.17778175,
          9.616768,
          9.596142,
          6.3316736,
          4.4607983,
          2.4917493,
          0.565403,
          0.5137615,
          4.104625,
          -3.4054444,
          4.854888,
          10.085601,
          5.3533864,
          3.334245,
          2.305241,
          0.7682513,
          -1.7014713,
          -1.7355872,
          4.577628,
          5.3267627,
          8.343601,
          2.3032472,
          4.5337515,
          9.231044,
          -2.787934,
          -1.6818507,
          -1.2462094,
          -3.090244,
          -4.2707925,
          1.6079657,
          1.7916691,
          0.27560896,
          -1.2346625,
          -2.7021673,
          -3.463181,
          -3.827466,
          2.18546,
          -2.2735546,
          2.766106,
          5.1171956,
          4.159337,
          2.939896,
          1.9244804,
          0.55074733,
          -1.4995575,
          -1.6942332,
          -3.1687236,
          4.6289234,
          3.7472591,
          3.3697243,
          6.9591045,
          -1.5379442,
          -3.7365835,
          -4.029261,
          -5.2968497,
          -4.7404637,
          -4.671835,
          -4.1618695,
          -4.0719604,
          -1.0520267,
          -0.8819264,
          5.555833,
          5.4632654,
          -7.034583,
          0.22542495,
          2.7606428,
          0.31725952,
          0.741968,
          0.9358789,
          2.272253,
          3.0404577,
          8.753407,
          7.7948117,
          6.9653206,
          3.4463482,
          10.416179,
          11.549255,
          8.667299,
          7.7602105,
          2.8597524,
          -0.30018222,
          -0.6448334,
          -3.4247181,
          -3.627937,
          -4.03779,
          -1.3209165,
          -5.3615265,
          -5.306168,
          -3.6928465,
          -1.7243023,
          0.49410233,
          1.9243473,
          2.381442,
          5.1078815,
          5.1966434,
          5.3448133,
          5.788607,
          5.9351907,
          6.246394,
          3.9522367,
          3.924857,
          0.4234093,
          0.53834164,
          2.4369185,
          1.6054659,
          0.021843996,
          -0.5023363,
          10.584685,
          10.868882,
          10.023084,
          9.614283,
          5.185558,
          3.4981055,
          3.2993572,
          2.966704,
          -0.17011632,
          6.2093024,
          2.20971,
          1.4015733,
          1.0896506,
          0.89559245,
          -1.7079526,
          -2.7175193,
          -0.91296285,
          4.4571366,
          9.234636,
          4.74261,
          10.201427,
          0.13876264,
          3.1347678,
          5.1924567,
          6.901602,
          4.2823067,
          4.0740223,
          4.059782,
          3.3690212,
          1.3922839,
          -1.4796057,
          -2.6278946,
          7.6918716,
          7.8244653,
          8.303693,
          6.6105347,
          6.498557,
          5.150865,
          4.599598,
          3.8682754,
          2.5771456,
          8.466697,
          10.146559,
          11.5291195,
          0.8545884,
          -3.801581,
          -4.4774594,
          -4.2738395,
          -3.8166797,
          -3.9009938,
          -3.929402,
          -5.724577,
          -4.1672373,
          9.458132,
          0.0043202043,
          -0.6820473,
          -3.0357878,
          -9.33223,
          2.2814286,
          6.2808104,
          0.05115171,
          -0.8348551,
          -2.35328,
          2.8135614,
          2.931582,
          3.1962743,
          10.555177,
          9.364842,
          10.766232,
          9.766393,
          7.364983,
          1.3000035,
          -4.842772,
          3.553741,
          0.57964176,
          1.754163,
          -0.35380438,
          -4.562541,
          3.565419,
          4.919448,
          11.32037,
          11.611611,
          -4.242737,
          -4.910508,
          11.18448,
          -4.1766043,
          -1.3879083,
          7.7338624,
          9.954558,
          2.9238598,
          4.5779233,
          -4.965902,
          -3.449483,
          0.37507978,
          -1.7897146,
          -1.7412561,
          -2.329923,
          0.2901702,
          -1.0407699,
          8.890203,
          -3.6371138,
          -3.5835292,
          11.463187,
          9.6190195,
          1.860235,
          2.5442262,
          1.5355253,
          6.838799,
          9.251298,
          0.4416848,
          3.474561,
          6.571787,
          -5.99326,
          -5.6175017,
          -0.15149924,
          1.6933446,
          10.94275,
          7.660682,
          3.903768,
          -4.895388,
          3.3176546,
          -2.5916939,
          -4.5109587,
          2.3619664,
          9.081365,
          3.8811612,
          -0.006300383,
          0.09418479,
          3.7140002,
          -0.43779865,
          -6.034281
         ],
         "z": [
          -0.50998944,
          0.4693459,
          0.7353129,
          0.50167865,
          -2.1273663,
          -1.631982,
          1.0126109,
          2.2064023,
          2.3654802,
          -1.5940822,
          0.53297925,
          -1.3404986,
          -1.2326752,
          1.2730622,
          1.1281353,
          1.1694046,
          0.80491215,
          -2.1283607,
          -0.34595168,
          1.4778961,
          0.80344254,
          -0.73106,
          -0.18350276,
          -0.44587606,
          0.4923803,
          0.5383324,
          0.06301629,
          -1.0129611,
          -0.43413422,
          -2.0142903,
          -0.60893315,
          -0.75717705,
          -0.8263373,
          0.3785007,
          -1.0178502,
          0.9852547,
          -0.2242171,
          0.13763475,
          -0.7581361,
          -2.154359,
          -0.5772782,
          -0.8236738,
          -0.78491765,
          -0.55397254,
          -0.93041945,
          1.476587,
          0.37866843,
          -0.050844084,
          -0.9490767,
          -1.1638739,
          -1.1418345,
          -1.2272973,
          -1.2537197,
          -1.2451807,
          -1.1979283,
          -0.53574693,
          -1.1724879,
          -0.4751616,
          -0.70861655,
          -0.7133169,
          -0.5334136,
          0.5429185,
          2.243589,
          2.1261997,
          1.6230017,
          -0.44070375,
          0.7596656,
          -0.56708115,
          -0.8240059,
          -0.56358826,
          -0.30528408,
          0.6686955,
          0.5139813,
          1.6769038,
          2.0650609,
          1.818355,
          -0.6485232,
          -1.4194345,
          0.31928587,
          0.18620455,
          1.6366448,
          -1.1540725,
          -1.0801122,
          -0.88633406,
          -0.9851574,
          1.4474604,
          1.695838,
          -1.5789132,
          -1.8663702,
          0.09164655,
          1.1486468,
          -1.280556,
          -0.28745812,
          0.4958359,
          0.9389622,
          -0.71367073,
          1.4064245,
          1.0808527,
          1.158289,
          0.8962179,
          1.0370795,
          0.75642055,
          0.38000935,
          0.2536768,
          -0.45390612,
          1.8056117,
          0.17645401,
          0.0792522,
          -0.3116524,
          -1.4597219,
          -1.7127657,
          0.46834734,
          2.3074315,
          2.3452873,
          0.25364885,
          -1.7475102,
          -0.78152204,
          -0.5797636,
          0.07795491,
          1.4022393,
          0.13046493,
          0.014713879,
          1.677359,
          1.8492181,
          1.7048857,
          1.631759,
          1.6670454,
          0.24904162,
          -0.34139445,
          1.4576857,
          -0.9553762,
          1.8891948,
          1.9714689,
          -0.11835967,
          1.4167513,
          -1.2649922,
          -0.6029195,
          -0.5437471,
          -0.99343795,
          -1.0194147,
          1.6433781,
          0.94254774,
          1.1253307,
          0.9700154,
          0.87883925,
          0.26181072,
          -0.2434834,
          2.3270795,
          2.2979648,
          -1.6500981,
          -1.8680545,
          -1.6607789,
          -1.5972655,
          0.6289499,
          0.6367511,
          2.1492178,
          2.2647498,
          0.5114662,
          -1.3623868,
          -1.4012485,
          2.0780692,
          -1.075202,
          2.2157664,
          0.2879638,
          2.3669572,
          1.3814518,
          0.32850453,
          -1.2295706,
          -2.1583054,
          -1.8293103,
          2.1889935,
          2.3766472,
          1.3800001,
          0.30321902,
          2.259627,
          0.84342295,
          -1.684595,
          -1.894152,
          -2.1098075,
          -1.8193357,
          -1.3029715,
          -0.346707,
          -0.23368776,
          -1.5316753,
          -2.10941,
          -1.8578818,
          -1.1636153,
          -1.043732,
          0.17348391,
          -1.637545,
          0.34114373,
          2.3593524,
          2.0907345,
          1.0025246,
          -0.055519283,
          -1.3641894,
          -2.1328194,
          -2.031631,
          -1.6949115,
          2.2511046,
          1.6773254,
          1.343824,
          2.0261915,
          -0.17447941,
          -0.793823,
          -0.20702885,
          -0.858012,
          -1.1030836,
          -0.64008445,
          -0.8351865,
          -0.32408568,
          -0.4449232,
          -0.51062226,
          0.93093455,
          0.9436157,
          -0.3515572,
          -0.20434326,
          0.3335163,
          -0.1898801,
          0.16570383,
          0.08098926,
          0.19417338,
          0.40493184,
          1.0436372,
          1.5455586,
          1.6955237,
          0.46665987,
          -0.071357585,
          -0.96065325,
          0.43647775,
          -0.030577786,
          0.390617,
          0.05576103,
          0.20259011,
          -0.06796394,
          -0.051233917,
          -0.1463231,
          -0.519121,
          -0.9186466,
          -0.9647762,
          -1.3840863,
          -1.2138883,
          -0.8158266,
          0.061683033,
          0.25393128,
          1.2108614,
          1.3386893,
          1.3445747,
          1.470399,
          1.6482652,
          1.2082988,
          0.9100647,
          0.61678123,
          -0.27909395,
          -0.11390349,
          0.16332613,
          -0.041904986,
          -0.16139519,
          -0.20513418,
          -0.4432807,
          -0.56494755,
          0.33454534,
          0.6214162,
          1.7528981,
          0.92247456,
          0.73784125,
          0.46253404,
          -0.6506548,
          2.1042292,
          0.3239251,
          -0.36637065,
          -0.63672704,
          -0.94028765,
          -2.174535,
          -2.00476,
          -1.954091,
          0.84014064,
          -0.3847013,
          1.3551282,
          -0.45760775,
          -0.11062982,
          0.42456305,
          0.79324794,
          2.0042207,
          1.944965,
          1.7019061,
          1.701296,
          1.0256886,
          -0.49721348,
          -1.7731551,
          -1.453264,
          0.38360596,
          0.28369442,
          1.1299783,
          1.2287729,
          1.0616097,
          0.9592392,
          0.75530773,
          0.5301184,
          0.2849688,
          0.4633471,
          -0.31404534,
          -0.80221504,
          -0.30953175,
          -0.088889256,
          -0.38708693,
          -0.39607778,
          0.21725787,
          0.23387474,
          0.23040952,
          -0.7156544,
          -0.5059621,
          -0.49378076,
          0.31929064,
          0.31499273,
          0.18721578,
          0.05719687,
          0.06374968,
          2.0299864,
          -0.42979714,
          -1.2047744,
          -1.0875812,
          0.40604895,
          0.41097048,
          0.4217556,
          -0.7344761,
          0.75781304,
          -0.56339633,
          -0.32239327,
          0.083374985,
          0.03847697,
          -0.74288434,
          0.5350394,
          0.0030845122,
          -0.13542756,
          -0.07578619,
          -0.27631444,
          0.5203768,
          1.0700989,
          -0.8487433,
          -0.9986262,
          -1.4180899,
          -1.036216,
          -0.94611734,
          -0.48971274,
          -0.745093,
          0.42065525,
          0.3553743,
          0.37976792,
          0.75003827,
          -0.80664295,
          -0.88878363,
          0.16804372,
          -0.06902876,
          -0.10955787,
          -1.2354949,
          -0.30171517,
          -0.7785279,
          0.2161436,
          -0.11644845,
          -0.054770242,
          -0.982079,
          -0.3431705,
          0.34894487,
          0.65508145,
          -0.29532996,
          0.795563,
          0.7560246,
          0.122223854,
          0.45281067,
          2.016589,
          -0.7155315,
          -0.75069267,
          -1.6323521,
          -0.12125622,
          -0.76548517,
          0.008042032,
          0.46832114,
          -1.0028642,
          0.43228114,
          -0.0016838558,
          -0.15581101,
          0.45360893,
          -0.1137042,
          0.4734456,
          -1.5959517,
          -1.5572923,
          0.46672985,
          0.035405647,
          -0.62487155
         ]
        },
        {
         "customdata": [
          [
           18173.979
          ],
          [
           17803.28
          ],
          [
           18490.982
          ],
          [
           17322.078
          ],
          [
           17978.357
          ],
          [
           16425.174
          ],
          [
           20677.594
          ],
          [
           20452.67
          ],
          [
           21383.066
          ],
          [
           16507.07
          ],
          [
           16353.097
          ],
          [
           17360.81
          ],
          [
           15327.101
          ],
          [
           17141.941
          ],
          [
           14202.997
          ],
          [
           15110.192
          ],
          [
           14739.067
          ],
          [
           19567.26
          ],
          [
           19822.115
          ],
          [
           14881.955
          ],
          [
           16256.236
          ],
          [
           15639.037
          ],
          [
           16916.87
          ],
          [
           27280.982
          ],
          [
           30274.71
          ],
          [
           21230.979
          ],
          [
           22100.393
          ],
          [
           21300.02
          ],
          [
           21281.88
          ],
          [
           27825.95
          ],
          [
           26841.08
          ],
          [
           15194.976
          ],
          [
           14116.922
          ],
          [
           13174.071
          ],
          [
           13258.366
          ],
          [
           17202.834
          ],
          [
           16792.68
          ],
          [
           15979.015
          ],
          [
           16379.853
          ],
          [
           16927.78
          ],
          [
           17418.068
          ],
          [
           29246.238
          ],
          [
           15846.013
          ],
          [
           17675.838
          ],
          [
           15604.1455
          ],
          [
           13160.125
          ],
          [
           15077.176
          ],
          [
           16379.099
          ],
          [
           16706.674
          ],
          [
           17214.324
          ],
          [
           15821.95
          ],
          [
           18254.922
          ],
          [
           12791.751
          ],
          [
           14841.917
          ],
          [
           15395.011
          ],
          [
           17314.104
          ],
          [
           22311.049
          ],
          [
           14642.323
          ],
          [
           14397.928
          ],
          [
           15053.934
          ],
          [
           13167.702
          ],
          [
           14678.105
          ],
          [
           14198.093
          ],
          [
           13464.803
          ],
          [
           14894.982
          ],
          [
           14584.448
          ],
          [
           13041.874
          ],
          [
           13007.984
          ],
          [
           10315.019
          ],
          [
           10971.096
          ],
          [
           10354.044
          ],
          [
           13681.698
          ],
          [
           14222.306
          ],
          [
           14266.912
          ],
          [
           14061.123
          ],
          [
           14429.79
          ],
          [
           15084.815
          ],
          [
           16428.578
          ],
          [
           16116.844
          ],
          [
           15000.993
          ],
          [
           15128.992
          ],
          [
           14847.044
          ],
          [
           14997.885
          ],
          [
           14619.078
          ],
          [
           15747.804
          ],
          [
           15635.796
          ],
          [
           14023.938
          ],
          [
           15047.003
          ],
          [
           15553.209
          ],
          [
           13072.842
          ],
          [
           10106.017
          ],
          [
           10897.076
          ],
          [
           11167.861
          ],
          [
           10813.344
          ],
          [
           21908.367
          ],
          [
           20099.258
          ],
          [
           20698.076
          ],
          [
           23547.24
          ],
          [
           23447.688
          ],
          [
           21895.758
          ],
          [
           22926.09
          ],
          [
           23785.922
          ],
          [
           22358.877
          ],
          [
           20512.094
          ],
          [
           20538.088
          ],
          [
           21335.852
          ],
          [
           16336.913
          ],
          [
           16218.848
          ],
          [
           17542.035
          ],
          [
           21956.342
          ],
          [
           14696.029
          ],
          [
           25589.982
          ],
          [
           26831.193
          ],
          [
           11302.903
          ],
          [
           12408.806
          ],
          [
           11918.456
          ],
          [
           11700.111
          ],
          [
           11555.268
          ],
          [
           12409.949
          ],
          [
           21875.098
          ],
          [
           11318.008
          ],
          [
           12314.591
          ],
          [
           12649.111
          ],
          [
           12163.82
          ],
          [
           12146.188
          ],
          [
           26302.074
          ],
          [
           26781.814
          ],
          [
           26060.336
          ],
          [
           25098.629
          ],
          [
           14582.77
          ],
          [
           18800.959
          ],
          [
           17463.047
          ],
          [
           18957.89
          ],
          [
           18950.906
          ],
          [
           17891.633
          ],
          [
           19164.611
          ],
          [
           17458.22
          ],
          [
           19471.975
          ],
          [
           18009.846
          ],
          [
           18273.006
          ],
          [
           19446.883
          ],
          [
           18974.922
          ],
          [
           18324.832
          ],
          [
           21233.912
          ],
          [
           19581.23
          ],
          [
           21725.012
          ],
          [
           21745.03
          ],
          [
           17685.201
          ],
          [
           18169.375
          ],
          [
           17089.918
          ],
          [
           17218.686
          ],
          [
           17162.479
          ],
          [
           18800.094
          ],
          [
           18910.805
          ],
          [
           19177.412
          ],
          [
           18040.145
          ],
          [
           22384.12
          ],
          [
           23573.822
          ],
          [
           20537.143
          ],
          [
           25097.473
          ],
          [
           22460.53
          ],
          [
           21607.773
          ],
          [
           14194.823
          ],
          [
           22004.93
          ],
          [
           24809.043
          ],
          [
           14072.135
          ],
          [
           23102.021
          ],
          [
           23197.438
          ],
          [
           20318.89
          ],
          [
           21903.322
          ],
          [
           22736.834
          ],
          [
           19682.035
          ],
          [
           18678.414
          ],
          [
           23449.307
          ],
          [
           27714.05
          ],
          [
           25948.963
          ],
          [
           25452.475
          ],
          [
           23527.729
          ],
          [
           21757.049
          ],
          [
           19528.1
          ],
          [
           18727.508
          ],
          [
           18835.19
          ],
          [
           22104.973
          ],
          [
           20021.195
          ]
         ],
         "hovertemplate": "Cluster=Cluster 2<br>0=%{x}<br>1=%{y}<br>2=%{z}<br>Feature=%{customdata[0]}<extra></extra>",
         "legendgroup": "Cluster 2",
         "marker": {
          "color": "#00cc96",
          "opacity": 0.7,
          "symbol": "circle"
         },
         "mode": "markers",
         "name": "Cluster 2",
         "scene": "scene",
         "showlegend": true,
         "type": "scatter3d",
         "x": [
          4.589733,
          1.0069429,
          3.706541,
          1.9388251,
          1.7187095,
          -0.94633996,
          3.3144708,
          3.4353864,
          5.1029973,
          -1.9388255,
          -1.9639415,
          6.234752,
          4.454666,
          3.7840734,
          -0.68224716,
          5.326966,
          5.4588428,
          6.5580034,
          6.647056,
          -1.8565687,
          1.3550478,
          2.066091,
          5.5573797,
          7.756318,
          7.837715,
          3.5200896,
          3.5571454,
          3.2004826,
          1.5616078,
          6.4763308,
          6.0492983,
          -0.590386,
          -1.3423029,
          -2.0821161,
          -2.9640121,
          2.252886,
          0.633922,
          4.8248634,
          4.8166833,
          5.518369,
          4.963436,
          8.156478,
          4.05979,
          4.7510295,
          3.7362497,
          -1.9822752,
          -1.0966411,
          2.214783,
          2.1683714,
          0.5742899,
          -1.3064874,
          -0.78471315,
          -4.4299216,
          -0.7460392,
          -0.7535168,
          2.894665,
          3.9218438,
          3.2250872,
          3.7431486,
          4.203608,
          -2.8269083,
          -0.34738672,
          -0.39623973,
          -2.4924145,
          5.252925,
          5.5606637,
          -2.3149445,
          2.221466,
          -3.7533174,
          2.2976215,
          -3.7715797,
          0.24860479,
          1.7295063,
          1.6219245,
          3.801164,
          3.2387967,
          -2.005184,
          1.7625796,
          5.9576583,
          -1.8663462,
          -1.4013777,
          -1.0471869,
          1.6882921,
          -2.9499605,
          3.6272295,
          5.795909,
          -1.9561825,
          -0.6043932,
          2.458595,
          -2.691898,
          -3.7169025,
          2.4182866,
          3.2212563,
          4.824633,
          1.9361397,
          3.3623981,
          6.586962,
          3.1726356,
          3.2069495,
          2.1628428,
          3.2533143,
          4.764682,
          4.6719093,
          1.3714577,
          1.7945251,
          3.850703,
          -2.1397455,
          -0.46984193,
          2.527968,
          1.8594617,
          2.934393,
          7.4522867,
          7.6799235,
          -3.5967712,
          -0.2568997,
          2.2307465,
          -3.7566803,
          -2.8900738,
          -1.4401832,
          3.4811125,
          -1.059854,
          3.7162929,
          4.0353527,
          -1.5887828,
          -0.22145404,
          5.3924766,
          5.7249384,
          5.8202357,
          5.4563737,
          2.6479812,
          3.7249842,
          1.3111393,
          4.7096343,
          3.4365342,
          -1.0810835,
          6.55418,
          -0.7555489,
          4.5794764,
          -0.49894032,
          -0.72988504,
          6.633955,
          4.82889,
          3.840545,
          1.5564365,
          4.1713142,
          3.143082,
          5.2949057,
          -0.91659963,
          -0.25250885,
          2.5198712,
          -0.65335095,
          -1.2647352,
          4.7168055,
          3.5807364,
          2.7519536,
          1.420808,
          2.9511797,
          4.1167235,
          1.3018875,
          4.336104,
          4.7118373,
          3.7015996,
          0.97717786,
          2.5594,
          3.8976026,
          -2.7970698,
          6.104781,
          6.9732623,
          0.9853938,
          6.25249,
          6.017478,
          2.7407038,
          -0.5771516,
          2.8701828,
          7.8217673,
          7.5104995,
          5.3109426,
          3.3751647,
          6.8189516,
          0.72927254,
          0.30288878,
          3.61315,
          4.5777493,
          6.6583347
         ],
         "y": [
          -9.20048,
          -6.950534,
          -8.318628,
          -8.038153,
          -7.263867,
          -6.618865,
          -5.653696,
          -6.0732017,
          -7.1811967,
          -5.1413207,
          -5.263747,
          -10.676341,
          -11.202008,
          -9.413344,
          -9.108049,
          -11.497041,
          -11.64414,
          -9.601107,
          -9.579055,
          -7.577222,
          -8.362193,
          -9.743736,
          -10.760462,
          -6.455967,
          -3.6720545,
          -5.4463162,
          -4.6912227,
          -4.6744,
          -1.6876575,
          -4.1084776,
          -4.2150245,
          -8.327368,
          -8.735801,
          -9.075892,
          -8.319572,
          -8.422002,
          -7.401008,
          -10.983015,
          -10.7618475,
          -10.742325,
          -10.155787,
          -6.089672,
          -10.798992,
          -9.747989,
          -10.820992,
          -9.157245,
          -7.9849133,
          -9.132594,
          -8.78029,
          -7.0617948,
          -7.0447955,
          -4.1197867,
          -7.6573935,
          -8.526484,
          -7.966969,
          -8.732057,
          -5.1221824,
          -11.089142,
          -11.401764,
          -11.256311,
          -8.504706,
          -9.015628,
          -9.33806,
          -8.516901,
          -11.565712,
          -11.704947,
          -9.015874,
          -11.420817,
          -9.587775,
          -12.082826,
          -9.5704565,
          -10.128217,
          -10.542819,
          -10.462957,
          -11.579176,
          -11.190367,
          -7.271852,
          -8.612811,
          -11.220049,
          -7.452998,
          -7.6779704,
          -8.262677,
          -10.029754,
          -7.037282,
          -10.689287,
          -11.381715,
          -8.386584,
          -8.462809,
          -10.168665,
          -8.692164,
          -9.646816,
          -12.131959,
          -12.311285,
          -12.453699,
          -1.5775259,
          -6.357667,
          -9.023062,
          -2.0103703,
          -2.290961,
          -2.0969987,
          -3.1626816,
          -4.8929043,
          -6.0666285,
          -2.2839956,
          -3.3883183,
          -5.8104496,
          -5.1519227,
          -7.3598433,
          -8.334579,
          -1.2666653,
          -10.934199,
          -7.2724085,
          -6.5663776,
          -9.381323,
          -10.453857,
          -11.867613,
          -9.076492,
          -9.656499,
          -9.958689,
          -4.756867,
          -10.418105,
          -12.213377,
          -12.177252,
          -9.993833,
          -10.541719,
          -3.2316868,
          -3.627636,
          -4.368562,
          -4.549002,
          -10.848755,
          -8.116596,
          -7.337908,
          -8.810836,
          -7.7750645,
          -3.892239,
          -9.843081,
          -5.2850003,
          -8.350622,
          -5.0465493,
          -4.2639017,
          -9.788592,
          -8.9082985,
          -8.518861,
          -1.7449793,
          -7.920747,
          -4.1392226,
          -7.1641903,
          -4.7826133,
          -5.1864266,
          -8.706726,
          -5.72313,
          -5.017567,
          -8.916545,
          -7.93012,
          -6.7022634,
          -7.0443215,
          -3.0385873,
          -4.2032385,
          -2.104436,
          -2.577326,
          -6.05855,
          -5.392335,
          -10.216377,
          -2.6894498,
          -1.7888851,
          -7.6886926,
          -7.4320636,
          -8.206931,
          -1.8241761,
          -8.017334,
          -7.474738,
          -6.0153403,
          -4.0082917,
          -1.348442,
          -6.2914968,
          -7.413057,
          -3.9018443,
          -2.6796012,
          -8.865491,
          -4.8914037,
          -5.2242727,
          -8.011909,
          -6.094777,
          -9.4851055
         ],
         "z": [
          1.6807199,
          0.70641994,
          1.6835836,
          1.2184396,
          0.99676555,
          -0.03892486,
          1.0285687,
          1.1306825,
          1.362528,
          -0.74798185,
          -0.7101793,
          0.89175624,
          1.2000183,
          1.6335491,
          0.48984897,
          0.88945,
          0.77925336,
          1.0350021,
          1.0088323,
          0.0010814071,
          1.0657437,
          1.2573754,
          1.1341826,
          0.99304026,
          1.5201049,
          1.0240395,
          0.91551775,
          0.83160406,
          -0.08682341,
          1.3259957,
          1.2859497,
          0.4306872,
          0.31598273,
          0.22748771,
          -0.019238604,
          1.3715248,
          0.68130803,
          1.2446167,
          1.3271965,
          1.1542114,
          1.4654527,
          0.93932253,
          1.3809303,
          1.5834112,
          1.3666606,
          0.25646138,
          0.2479643,
          1.3614955,
          1.3611059,
          0.58764815,
          -0.010953338,
          -0.7949174,
          -0.23610958,
          0.41571057,
          0.33293414,
          1.5537934,
          1.0354772,
          1.2166308,
          1.1315719,
          1.1953504,
          0.02979299,
          0.56044376,
          0.5681233,
          0.075192064,
          0.87090945,
          0.7204089,
          0.18504053,
          0.85738117,
          0.13712756,
          0.5742816,
          0.13293028,
          0.73651576,
          1.0327927,
          1.0251528,
          1.037355,
          1.179627,
          -0.096070305,
          1.2221798,
          0.80845565,
          -0.027301678,
          0.117718406,
          0.3068189,
          1.120112,
          -0.3030882,
          1.3945836,
          0.8038976,
          0.14171316,
          0.44383466,
          1.2859048,
          0.07965857,
          0.14954452,
          0.5692143,
          0.5585337,
          0.45011574,
          0.08466422,
          1.1862386,
          1.0860274,
          0.6456738,
          0.65991336,
          0.19394836,
          0.70010245,
          1.1488289,
          1.209759,
          -0.14670272,
          0.18291432,
          1.1211653,
          -0.787281,
          0.30202106,
          1.4445202,
          0.058035873,
          1.2168695,
          1.0110039,
          0.99966943,
          0.11536002,
          0.6334365,
          0.6608808,
          0.050617296,
          0.22489339,
          0.427142,
          0.90927213,
          0.51076144,
          0.6426052,
          0.65813255,
          0.40949553,
          0.6340781,
          1.3342191,
          1.3398963,
          1.2583253,
          1.2263736,
          1.1781894,
          1.667317,
          0.8898197,
          1.690717,
          1.5709758,
          -0.98261577,
          0.9934942,
          -0.38757315,
          1.6741835,
          -0.37787256,
          -0.7265085,
          0.97788626,
          1.6720108,
          1.7020159,
          -0.08906561,
          1.6423801,
          0.7425806,
          1.3248647,
          -0.6091812,
          -0.24201404,
          1.4635004,
          -0.2170509,
          -0.624906,
          1.6886834,
          1.6239051,
          1.145031,
          0.86022085,
          0.5814023,
          0.9927894,
          -0.19315307,
          1.0701276,
          1.2109321,
          1.0394082,
          0.90868145,
          0.4003345,
          0.9684174,
          -0.12795149,
          1.2152044,
          1.0502757,
          -0.34577274,
          1.1984055,
          1.2310784,
          0.9812667,
          -0.7390454,
          0.51861185,
          0.99325794,
          0.99574244,
          1.2390578,
          0.7296761,
          1.0372429,
          0.058406543,
          -0.021140633,
          1.6420726,
          1.208838,
          1.0188425
         ]
        },
        {
         "customdata": [
          [
           37192.895
          ],
          [
           29481.53
          ],
          [
           26792.3
          ],
          [
           36633.633
          ],
          [
           26012.375
          ],
          [
           25959.121
          ],
          [
           23274.48
          ],
          [
           29321.082
          ],
          [
           23329.209
          ],
          [
           36210.12
          ],
          [
           27788.812
          ],
          [
           29197.791
          ],
          [
           27610.863
          ],
          [
           29908.182
          ],
          [
           31156.596
          ],
          [
           31084.938
          ],
          [
           31059.182
          ],
          [
           29114.545
          ],
          [
           25845.207
          ],
          [
           24903.479
          ],
          [
           35895.5
          ],
          [
           28416.46
          ],
          [
           28185.775
          ],
          [
           28204.604
          ],
          [
           26653.24
          ],
          [
           26698.078
          ],
          [
           27241.436
          ],
          [
           27703.203
          ],
          [
           24405.066
          ],
          [
           30959.932
          ],
          [
           29986.791
          ],
          [
           28328.266
          ],
          [
           31181.715
          ],
          [
           28502.307
          ],
          [
           32509.479
          ],
          [
           31153.01
          ],
          [
           30646.438
          ],
          [
           30781.516
          ],
          [
           40619.074
          ],
          [
           23159.543
          ],
          [
           23406.69
          ],
          [
           30792.148
          ],
          [
           23348.018
          ],
          [
           26190.271
          ],
          [
           23077.566
          ],
          [
           23493.082
          ],
          [
           23420.707
          ],
          [
           23016.008
          ],
          [
           23578.164
          ],
          [
           25508.21
          ],
          [
           31132.213
          ],
          [
           30392.75
          ],
          [
           29275.209
          ],
          [
           33220.027
          ],
          [
           32501.246
          ],
          [
           32537.188
          ],
          [
           32954.14
          ],
          [
           36245.16
          ],
          [
           36332.895
          ],
          [
           28817.082
          ],
          [
           37215.168
          ],
          [
           34685.664
          ],
          [
           36154.305
          ],
          [
           35338.652
          ],
          [
           35866.582
          ],
          [
           36077.797
          ],
          [
           28040.129
          ],
          [
           37510.254
          ],
          [
           30322.15
          ],
          [
           28432.824
          ],
          [
           30661.26
          ],
          [
           32075.984
          ],
          [
           31969.07
          ],
          [
           27666.23
          ],
          [
           26337.83
          ],
          [
           26775.031
          ],
          [
           25299.969
          ],
          [
           24896.598
          ],
          [
           25996.807
          ],
          [
           24801.617
          ],
          [
           24063.012
          ],
          [
           23249.842
          ],
          [
           33381.82
          ],
          [
           33358.77
          ],
          [
           33586.906
          ],
          [
           30731.941
          ],
          [
           30315.17
          ],
          [
           30166.852
          ],
          [
           30251.018
          ],
          [
           29142.715
          ],
          [
           33287.41
          ],
          [
           27284.752
          ],
          [
           31970.543
          ],
          [
           32737.084
          ],
          [
           27548.629
          ],
          [
           27370.959
          ],
          [
           27425.844
          ],
          [
           29664.703
          ],
          [
           29595.795
          ],
          [
           31024.873
          ],
          [
           39547.59
          ],
          [
           39691.727
          ],
          [
           38824.867
          ],
          [
           36970.9
          ],
          [
           37288.938
          ],
          [
           35261.438
          ],
          [
           35575.418
          ],
          [
           34297.305
          ],
          [
           34739.215
          ],
          [
           31186.742
          ],
          [
           23345.328
          ],
          [
           23151.547
          ],
          [
           34355.004
          ],
          [
           33540.535
          ],
          [
           30443.88
          ],
          [
           27060.137
          ],
          [
           25790.514
          ],
          [
           32038.34
          ],
          [
           31002.734
          ],
          [
           30075.994
          ],
          [
           29844.203
          ],
          [
           25527.014
          ],
          [
           28054.982
          ],
          [
           28502.963
          ],
          [
           24912.08
          ],
          [
           31849.309
          ],
          [
           32649.76
          ],
          [
           29961.256
          ],
          [
           31554.406
          ],
          [
           29914.379
          ],
          [
           30575.248
          ],
          [
           30271.922
          ],
          [
           28678.076
          ],
          [
           28829.027
          ],
          [
           26955.041
          ],
          [
           34974.38
          ],
          [
           41516.43
          ],
          [
           25618.281
          ],
          [
           41053.48
          ],
          [
           27256.494
          ],
          [
           25148.379
          ],
          [
           24852.496
          ],
          [
           24173.525
          ],
          [
           23733.402
          ],
          [
           36338.75
          ],
          [
           35580.332
          ],
          [
           35304.496
          ],
          [
           34392.996
          ],
          [
           33984.43
          ],
          [
           33248.344
          ],
          [
           28777.959
          ],
          [
           52001.996
          ],
          [
           39072.39
          ],
          [
           38208.5
          ],
          [
           30353.586
          ],
          [
           30122.43
          ],
          [
           26789.832
          ],
          [
           28291.762
          ],
          [
           27109.406
          ],
          [
           25267.367
          ],
          [
           29612.154
          ]
         ],
         "hovertemplate": "Cluster=Cluster 3<br>0=%{x}<br>1=%{y}<br>2=%{z}<br>Feature=%{customdata[0]}<extra></extra>",
         "legendgroup": "Cluster 3",
         "marker": {
          "color": "#ab63fa",
          "opacity": 0.7,
          "symbol": "circle"
         },
         "mode": "markers",
         "name": "Cluster 3",
         "scene": "scene",
         "showlegend": true,
         "type": "scatter3d",
         "x": [
          10.88492,
          6.5295815,
          5.4100256,
          10.8187685,
          -1.7646308,
          4.3490844,
          1.7465317,
          6.3904448,
          0.8615767,
          10.676441,
          6.063409,
          6.303351,
          5.162175,
          6.7742476,
          7.5657005,
          7.532628,
          7.536498,
          6.2699146,
          -2.160099,
          -2.686662,
          10.654361,
          6.294325,
          5.8103676,
          5.6145597,
          4.576699,
          4.690116,
          4.993913,
          5.566809,
          -1.4725147,
          7.46633,
          7.017935,
          5.801244,
          7.7108755,
          6.4189734,
          8.637328,
          7.562709,
          7.326592,
          7.3275304,
          11.990228,
          0.62709385,
          0.8497386,
          7.384002,
          1.1959957,
          4.4277854,
          1.1335603,
          2.199174,
          2.4162261,
          2.3894567,
          2.4500916,
          4.1767945,
          7.7128563,
          7.1850095,
          6.3512244,
          8.753772,
          8.301994,
          -1.9965998,
          -1.1768465,
          10.914611,
          10.902196,
          6.0596766,
          10.997013,
          10.3466215,
          10.847783,
          10.564441,
          10.712925,
          10.646903,
          6.2879066,
          11.030359,
          7.20862,
          6.0322943,
          7.3238764,
          8.285555,
          8.355793,
          -1.6572233,
          4.607892,
          4.6630964,
          3.5287502,
          3.4172103,
          4.0122037,
          1.1232445,
          0.5668927,
          0.24117404,
          8.7272415,
          8.731584,
          8.947048,
          7.4249606,
          7.343298,
          7.2249503,
          7.187681,
          -0.91556823,
          9.160278,
          5.57897,
          8.312745,
          8.548778,
          5.8338456,
          5.509075,
          5.2154255,
          6.628543,
          6.911507,
          7.5066056,
          11.962317,
          12.032043,
          11.794186,
          11.758245,
          11.824818,
          10.302145,
          10.531746,
          10.14621,
          10.3752,
          -1.0860841,
          1.4749968,
          0.14914984,
          9.193756,
          9.23142,
          7.2208405,
          4.6807528,
          3.869413,
          -1.14883,
          7.3987007,
          6.9664874,
          6.9941907,
          -2.1978679,
          6.0602064,
          6.588896,
          -2.53301,
          7.914669,
          8.3418045,
          6.7787232,
          7.9483113,
          6.8637376,
          7.317578,
          7.2938013,
          6.2017064,
          6.463162,
          -1.2145283,
          10.459741,
          12.385341,
          3.6886206,
          12.288059,
          5.789296,
          3.573382,
          3.2836475,
          0.7537963,
          0.46534657,
          10.605271,
          10.420233,
          10.31515,
          10.176276,
          10.079661,
          9.714928,
          -2.9434724,
          12.931401,
          11.881581,
          11.845189,
          7.8111625,
          7.1336436,
          4.6043415,
          5.6573906,
          4.8512397,
          -1.8576924,
          -1.0006292
         ],
         "y": [
          0.37275755,
          2.9733636,
          5.253695,
          2.0777476,
          10.339549,
          -1.1077713,
          2.3356082,
          2.797446,
          5.694026,
          2.0342295,
          5.752181,
          2.3904355,
          3.6060357,
          1.5430474,
          0.5306486,
          0.15074787,
          5.466291,
          3.052084,
          10.561198,
          10.867524,
          2.6138074,
          -2.010577,
          1.8877902,
          3.0942914,
          3.3654995,
          3.631596,
          3.7933018,
          4.8895316,
          9.591276,
          -0.16185567,
          0.39926255,
          2.3225193,
          5.086227,
          5.797251,
          1.9110978,
          -0.36764327,
          -0.52852845,
          -1.6619138,
          3.225075,
          6.1572795,
          5.868422,
          -0.04528567,
          4.348435,
          -1.1309108,
          4.0903544,
          1.20477,
          0.02377329,
          -0.6805989,
          0.23056775,
          -1.1017008,
          3.596942,
          0.3420514,
          2.4782696,
          0.40677664,
          -0.14968805,
          11.4768095,
          11.270207,
          3.5148017,
          3.2652555,
          2.5015485,
          2.0459013,
          3.7161062,
          3.359672,
          3.511744,
          3.1537375,
          2.1294298,
          5.915595,
          1.7530682,
          -1.0585083,
          5.1253815,
          -1.958738,
          3.7150304,
          4.1056247,
          10.609327,
          -1.5324745,
          -1.2832052,
          1.3497825,
          2.368231,
          2.6591947,
          6.8953953,
          7.276053,
          7.2275777,
          -0.13088731,
          -0.05354192,
          0.5394093,
          3.287552,
          3.890272,
          4.724608,
          5.6185894,
          10.529492,
          2.1544023,
          -2.3738322,
          2.1645684,
          0.68658316,
          5.5473576,
          5.020068,
          4.282314,
          2.6945922,
          -1.1558648,
          -2.2392828,
          2.0866268,
          2.2942455,
          2.6638281,
          3.6154428,
          3.6212754,
          1.9648838,
          2.5303276,
          3.4716403,
          3.771242,
          10.998969,
          3.4166982,
          7.311784,
          0.021046016,
          1.848775,
          -1.630644,
          -1.0946624,
          2.4662237,
          11.154601,
          -1.5763167,
          3.0830455,
          3.6657574,
          10.534303,
          5.5657496,
          6.1051207,
          10.687754,
          -0.50949866,
          -0.38626868,
          1.6809304,
          1.4787961,
          3.122792,
          3.1982732,
          3.7888157,
          5.160941,
          5.564191,
          10.16901,
          3.732484,
          1.625967,
          1.8740652,
          2.0760534,
          5.6684594,
          2.9261878,
          3.1374772,
          7.0570316,
          7.2305765,
          0.050034836,
          1.8597907,
          1.9388577,
          3.360691,
          3.8540096,
          4.2824802,
          11.52649,
          1.0781426,
          3.4999526,
          3.5475037,
          -3.5185373,
          -1.8552014,
          3.182965,
          3.2505748,
          3.4339662,
          10.254052,
          10.664889
         ],
         "z": [
          1.5612243,
          2.110063,
          0.519013,
          1.3136151,
          -0.17557637,
          1.2128813,
          0.39474055,
          2.1657891,
          0.68025994,
          1.4365152,
          0.31178933,
          2.305235,
          1.2659627,
          2.5679722,
          2.793977,
          2.8332658,
          0.30316535,
          2.0006783,
          -0.25495058,
          -0.3963202,
          1.1324552,
          1.9406129,
          2.292886,
          1.735,
          1.0972077,
          1.0343052,
          1.0885056,
          0.68915844,
          0.16818058,
          2.8162386,
          2.7676928,
          2.1733413,
          0.5286698,
          0.27343825,
          2.3026223,
          2.7935278,
          2.7386146,
          2.392739,
          -1.0877753,
          0.7420645,
          0.68623286,
          2.8189096,
          0.57195574,
          1.2482693,
          0.5511313,
          0.3744233,
          0.3628948,
          0.3197982,
          0.38653648,
          1.1325319,
          1.6764349,
          2.7951663,
          2.2848716,
          2.690295,
          2.8046937,
          -0.83312726,
          -0.7734045,
          0.13794044,
          0.40880919,
          2.2038064,
          1.1781688,
          0.4782375,
          0.37692294,
          0.50675946,
          0.6937549,
          1.4154736,
          0.22607338,
          1.255264,
          2.577731,
          0.6318969,
          2.2694583,
          1.414284,
          1.0875896,
          -0.33703202,
          1.2889645,
          1.3420966,
          0.84936386,
          0.8259303,
          1.0127524,
          0.6374681,
          0.704568,
          0.78479236,
          2.7382174,
          2.738366,
          2.6111026,
          1.9279758,
          1.5417789,
          0.9110443,
          0.28367,
          -0.38040456,
          2.050387,
          1.5641445,
          2.2740293,
          2.6753485,
          0.40820703,
          0.6210089,
          0.9139283,
          2.2435746,
          2.4669244,
          2.1564138,
          0.15682486,
          -0.076435134,
          -0.09420564,
          -1.150373,
          -1.2548063,
          1.6766582,
          1.2705394,
          0.835826,
          0.3961606,
          -0.62370723,
          0.49454698,
          0.79465526,
          2.5743778,
          2.148867,
          2.3861818,
          1.3722887,
          0.96997577,
          -0.70768505,
          2.4352438,
          2.0773203,
          1.7179091,
          -0.23552312,
          0.40057313,
          0.118639626,
          -0.29413837,
          2.77364,
          2.774787,
          2.5385594,
          2.5506485,
          2.0558326,
          1.9901773,
          1.6218377,
          0.62523717,
          0.39336514,
          -0.15469755,
          0.3665908,
          -0.08734164,
          0.9166709,
          -0.2655331,
          0.3561734,
          0.8696058,
          0.8111229,
          0.68847704,
          0.7315202,
          1.7657498,
          1.6514933,
          1.6798947,
          0.9089585,
          0.51904356,
          0.29215902,
          -0.8116918,
          -2.039449,
          -1.2127359,
          -1.2052369,
          1.5846161,
          2.2779548,
          1.177807,
          1.6655784,
          1.2010547,
          -0.1178032,
          -0.44469786
         ]
        }
       ],
       "layout": {
        "height": 800,
        "legend": {
         "title": {
          "text": "Cluster"
         },
         "tracegroupgap": 0
        },
        "scene": {
         "domain": {
          "x": [
           0,
           1
          ],
          "y": [
           0,
           1
          ]
         },
         "xaxis": {
          "title": {
           "text": "0"
          }
         },
         "yaxis": {
          "title": {
           "text": "1"
          }
         },
         "zaxis": {
          "title": {
           "text": "2"
          }
         }
        },
        "template": {
         "data": {
          "bar": [
           {
            "error_x": {
             "color": "#2a3f5f"
            },
            "error_y": {
             "color": "#2a3f5f"
            },
            "marker": {
             "line": {
              "color": "#E5ECF6",
              "width": 0.5
             },
             "pattern": {
              "fillmode": "overlay",
              "size": 10,
              "solidity": 0.2
             }
            },
            "type": "bar"
           }
          ],
          "barpolar": [
           {
            "marker": {
             "line": {
              "color": "#E5ECF6",
              "width": 0.5
             },
             "pattern": {
              "fillmode": "overlay",
              "size": 10,
              "solidity": 0.2
             }
            },
            "type": "barpolar"
           }
          ],
          "carpet": [
           {
            "aaxis": {
             "endlinecolor": "#2a3f5f",
             "gridcolor": "white",
             "linecolor": "white",
             "minorgridcolor": "white",
             "startlinecolor": "#2a3f5f"
            },
            "baxis": {
             "endlinecolor": "#2a3f5f",
             "gridcolor": "white",
             "linecolor": "white",
             "minorgridcolor": "white",
             "startlinecolor": "#2a3f5f"
            },
            "type": "carpet"
           }
          ],
          "choropleth": [
           {
            "colorbar": {
             "outlinewidth": 0,
             "ticks": ""
            },
            "type": "choropleth"
           }
          ],
          "contour": [
           {
            "colorbar": {
             "outlinewidth": 0,
             "ticks": ""
            },
            "colorscale": [
             [
              0,
              "#0d0887"
             ],
             [
              0.1111111111111111,
              "#46039f"
             ],
             [
              0.2222222222222222,
              "#7201a8"
             ],
             [
              0.3333333333333333,
              "#9c179e"
             ],
             [
              0.4444444444444444,
              "#bd3786"
             ],
             [
              0.5555555555555556,
              "#d8576b"
             ],
             [
              0.6666666666666666,
              "#ed7953"
             ],
             [
              0.7777777777777778,
              "#fb9f3a"
             ],
             [
              0.8888888888888888,
              "#fdca26"
             ],
             [
              1,
              "#f0f921"
             ]
            ],
            "type": "contour"
           }
          ],
          "contourcarpet": [
           {
            "colorbar": {
             "outlinewidth": 0,
             "ticks": ""
            },
            "type": "contourcarpet"
           }
          ],
          "heatmap": [
           {
            "colorbar": {
             "outlinewidth": 0,
             "ticks": ""
            },
            "colorscale": [
             [
              0,
              "#0d0887"
             ],
             [
              0.1111111111111111,
              "#46039f"
             ],
             [
              0.2222222222222222,
              "#7201a8"
             ],
             [
              0.3333333333333333,
              "#9c179e"
             ],
             [
              0.4444444444444444,
              "#bd3786"
             ],
             [
              0.5555555555555556,
              "#d8576b"
             ],
             [
              0.6666666666666666,
              "#ed7953"
             ],
             [
              0.7777777777777778,
              "#fb9f3a"
             ],
             [
              0.8888888888888888,
              "#fdca26"
             ],
             [
              1,
              "#f0f921"
             ]
            ],
            "type": "heatmap"
           }
          ],
          "heatmapgl": [
           {
            "colorbar": {
             "outlinewidth": 0,
             "ticks": ""
            },
            "colorscale": [
             [
              0,
              "#0d0887"
             ],
             [
              0.1111111111111111,
              "#46039f"
             ],
             [
              0.2222222222222222,
              "#7201a8"
             ],
             [
              0.3333333333333333,
              "#9c179e"
             ],
             [
              0.4444444444444444,
              "#bd3786"
             ],
             [
              0.5555555555555556,
              "#d8576b"
             ],
             [
              0.6666666666666666,
              "#ed7953"
             ],
             [
              0.7777777777777778,
              "#fb9f3a"
             ],
             [
              0.8888888888888888,
              "#fdca26"
             ],
             [
              1,
              "#f0f921"
             ]
            ],
            "type": "heatmapgl"
           }
          ],
          "histogram": [
           {
            "marker": {
             "pattern": {
              "fillmode": "overlay",
              "size": 10,
              "solidity": 0.2
             }
            },
            "type": "histogram"
           }
          ],
          "histogram2d": [
           {
            "colorbar": {
             "outlinewidth": 0,
             "ticks": ""
            },
            "colorscale": [
             [
              0,
              "#0d0887"
             ],
             [
              0.1111111111111111,
              "#46039f"
             ],
             [
              0.2222222222222222,
              "#7201a8"
             ],
             [
              0.3333333333333333,
              "#9c179e"
             ],
             [
              0.4444444444444444,
              "#bd3786"
             ],
             [
              0.5555555555555556,
              "#d8576b"
             ],
             [
              0.6666666666666666,
              "#ed7953"
             ],
             [
              0.7777777777777778,
              "#fb9f3a"
             ],
             [
              0.8888888888888888,
              "#fdca26"
             ],
             [
              1,
              "#f0f921"
             ]
            ],
            "type": "histogram2d"
           }
          ],
          "histogram2dcontour": [
           {
            "colorbar": {
             "outlinewidth": 0,
             "ticks": ""
            },
            "colorscale": [
             [
              0,
              "#0d0887"
             ],
             [
              0.1111111111111111,
              "#46039f"
             ],
             [
              0.2222222222222222,
              "#7201a8"
             ],
             [
              0.3333333333333333,
              "#9c179e"
             ],
             [
              0.4444444444444444,
              "#bd3786"
             ],
             [
              0.5555555555555556,
              "#d8576b"
             ],
             [
              0.6666666666666666,
              "#ed7953"
             ],
             [
              0.7777777777777778,
              "#fb9f3a"
             ],
             [
              0.8888888888888888,
              "#fdca26"
             ],
             [
              1,
              "#f0f921"
             ]
            ],
            "type": "histogram2dcontour"
           }
          ],
          "mesh3d": [
           {
            "colorbar": {
             "outlinewidth": 0,
             "ticks": ""
            },
            "type": "mesh3d"
           }
          ],
          "parcoords": [
           {
            "line": {
             "colorbar": {
              "outlinewidth": 0,
              "ticks": ""
             }
            },
            "type": "parcoords"
           }
          ],
          "pie": [
           {
            "automargin": true,
            "type": "pie"
           }
          ],
          "scatter": [
           {
            "fillpattern": {
             "fillmode": "overlay",
             "size": 10,
             "solidity": 0.2
            },
            "type": "scatter"
           }
          ],
          "scatter3d": [
           {
            "line": {
             "colorbar": {
              "outlinewidth": 0,
              "ticks": ""
             }
            },
            "marker": {
             "colorbar": {
              "outlinewidth": 0,
              "ticks": ""
             }
            },
            "type": "scatter3d"
           }
          ],
          "scattercarpet": [
           {
            "marker": {
             "colorbar": {
              "outlinewidth": 0,
              "ticks": ""
             }
            },
            "type": "scattercarpet"
           }
          ],
          "scattergeo": [
           {
            "marker": {
             "colorbar": {
              "outlinewidth": 0,
              "ticks": ""
             }
            },
            "type": "scattergeo"
           }
          ],
          "scattergl": [
           {
            "marker": {
             "colorbar": {
              "outlinewidth": 0,
              "ticks": ""
             }
            },
            "type": "scattergl"
           }
          ],
          "scattermapbox": [
           {
            "marker": {
             "colorbar": {
              "outlinewidth": 0,
              "ticks": ""
             }
            },
            "type": "scattermapbox"
           }
          ],
          "scatterpolar": [
           {
            "marker": {
             "colorbar": {
              "outlinewidth": 0,
              "ticks": ""
             }
            },
            "type": "scatterpolar"
           }
          ],
          "scatterpolargl": [
           {
            "marker": {
             "colorbar": {
              "outlinewidth": 0,
              "ticks": ""
             }
            },
            "type": "scatterpolargl"
           }
          ],
          "scatterternary": [
           {
            "marker": {
             "colorbar": {
              "outlinewidth": 0,
              "ticks": ""
             }
            },
            "type": "scatterternary"
           }
          ],
          "surface": [
           {
            "colorbar": {
             "outlinewidth": 0,
             "ticks": ""
            },
            "colorscale": [
             [
              0,
              "#0d0887"
             ],
             [
              0.1111111111111111,
              "#46039f"
             ],
             [
              0.2222222222222222,
              "#7201a8"
             ],
             [
              0.3333333333333333,
              "#9c179e"
             ],
             [
              0.4444444444444444,
              "#bd3786"
             ],
             [
              0.5555555555555556,
              "#d8576b"
             ],
             [
              0.6666666666666666,
              "#ed7953"
             ],
             [
              0.7777777777777778,
              "#fb9f3a"
             ],
             [
              0.8888888888888888,
              "#fdca26"
             ],
             [
              1,
              "#f0f921"
             ]
            ],
            "type": "surface"
           }
          ],
          "table": [
           {
            "cells": {
             "fill": {
              "color": "#EBF0F8"
             },
             "line": {
              "color": "white"
             }
            },
            "header": {
             "fill": {
              "color": "#C8D4E3"
             },
             "line": {
              "color": "white"
             }
            },
            "type": "table"
           }
          ]
         },
         "layout": {
          "annotationdefaults": {
           "arrowcolor": "#2a3f5f",
           "arrowhead": 0,
           "arrowwidth": 1
          },
          "autotypenumbers": "strict",
          "coloraxis": {
           "colorbar": {
            "outlinewidth": 0,
            "ticks": ""
           }
          },
          "colorscale": {
           "diverging": [
            [
             0,
             "#8e0152"
            ],
            [
             0.1,
             "#c51b7d"
            ],
            [
             0.2,
             "#de77ae"
            ],
            [
             0.3,
             "#f1b6da"
            ],
            [
             0.4,
             "#fde0ef"
            ],
            [
             0.5,
             "#f7f7f7"
            ],
            [
             0.6,
             "#e6f5d0"
            ],
            [
             0.7,
             "#b8e186"
            ],
            [
             0.8,
             "#7fbc41"
            ],
            [
             0.9,
             "#4d9221"
            ],
            [
             1,
             "#276419"
            ]
           ],
           "sequential": [
            [
             0,
             "#0d0887"
            ],
            [
             0.1111111111111111,
             "#46039f"
            ],
            [
             0.2222222222222222,
             "#7201a8"
            ],
            [
             0.3333333333333333,
             "#9c179e"
            ],
            [
             0.4444444444444444,
             "#bd3786"
            ],
            [
             0.5555555555555556,
             "#d8576b"
            ],
            [
             0.6666666666666666,
             "#ed7953"
            ],
            [
             0.7777777777777778,
             "#fb9f3a"
            ],
            [
             0.8888888888888888,
             "#fdca26"
            ],
            [
             1,
             "#f0f921"
            ]
           ],
           "sequentialminus": [
            [
             0,
             "#0d0887"
            ],
            [
             0.1111111111111111,
             "#46039f"
            ],
            [
             0.2222222222222222,
             "#7201a8"
            ],
            [
             0.3333333333333333,
             "#9c179e"
            ],
            [
             0.4444444444444444,
             "#bd3786"
            ],
            [
             0.5555555555555556,
             "#d8576b"
            ],
            [
             0.6666666666666666,
             "#ed7953"
            ],
            [
             0.7777777777777778,
             "#fb9f3a"
            ],
            [
             0.8888888888888888,
             "#fdca26"
            ],
            [
             1,
             "#f0f921"
            ]
           ]
          },
          "colorway": [
           "#636efa",
           "#EF553B",
           "#00cc96",
           "#ab63fa",
           "#FFA15A",
           "#19d3f3",
           "#FF6692",
           "#B6E880",
           "#FF97FF",
           "#FECB52"
          ],
          "font": {
           "color": "#2a3f5f"
          },
          "geo": {
           "bgcolor": "white",
           "lakecolor": "white",
           "landcolor": "#E5ECF6",
           "showlakes": true,
           "showland": true,
           "subunitcolor": "white"
          },
          "hoverlabel": {
           "align": "left"
          },
          "hovermode": "closest",
          "mapbox": {
           "style": "light"
          },
          "paper_bgcolor": "white",
          "plot_bgcolor": "#E5ECF6",
          "polar": {
           "angularaxis": {
            "gridcolor": "white",
            "linecolor": "white",
            "ticks": ""
           },
           "bgcolor": "#E5ECF6",
           "radialaxis": {
            "gridcolor": "white",
            "linecolor": "white",
            "ticks": ""
           }
          },
          "scene": {
           "xaxis": {
            "backgroundcolor": "#E5ECF6",
            "gridcolor": "white",
            "gridwidth": 2,
            "linecolor": "white",
            "showbackground": true,
            "ticks": "",
            "zerolinecolor": "white"
           },
           "yaxis": {
            "backgroundcolor": "#E5ECF6",
            "gridcolor": "white",
            "gridwidth": 2,
            "linecolor": "white",
            "showbackground": true,
            "ticks": "",
            "zerolinecolor": "white"
           },
           "zaxis": {
            "backgroundcolor": "#E5ECF6",
            "gridcolor": "white",
            "gridwidth": 2,
            "linecolor": "white",
            "showbackground": true,
            "ticks": "",
            "zerolinecolor": "white"
           }
          },
          "shapedefaults": {
           "line": {
            "color": "#2a3f5f"
           }
          },
          "ternary": {
           "aaxis": {
            "gridcolor": "white",
            "linecolor": "white",
            "ticks": ""
           },
           "baxis": {
            "gridcolor": "white",
            "linecolor": "white",
            "ticks": ""
           },
           "bgcolor": "#E5ECF6",
           "caxis": {
            "gridcolor": "white",
            "linecolor": "white",
            "ticks": ""
           }
          },
          "title": {
           "x": 0.05
          },
          "xaxis": {
           "automargin": true,
           "gridcolor": "white",
           "linecolor": "white",
           "ticks": "",
           "title": {
            "standoff": 15
           },
           "zerolinecolor": "white",
           "zerolinewidth": 2
          },
          "yaxis": {
           "automargin": true,
           "gridcolor": "white",
           "linecolor": "white",
           "ticks": "",
           "title": {
            "standoff": 15
           },
           "zerolinecolor": "white",
           "zerolinewidth": 2
          }
         }
        },
        "title": {
         "text": "3d TSNE Plot for Clusters"
        },
        "width": 900
       }
      }
     },
     "metadata": {},
     "output_type": "display_data"
    }
   ],
   "source": [
    "plot_model(kmeans, plot=\"tsne\")"
   ]
  },
  {
   "cell_type": "markdown",
   "metadata": {},
   "source": [
    "Yukarıdaki komut aşağıdaki gibi bir grafik çizmektedir:<br>\n",
    "\n",
    "![plot_model](plot_model_3d.png)"
   ]
  },
  {
   "cell_type": "markdown",
   "metadata": {},
   "source": [
    "# Son Söz\n",
    "\n",
    "Bu projede otomatik makine öğrenmesi aracı olan `pycaret` kütüphanesinin kullanımını gördük. Bir veri seti hakkında hızlı bir sonuç elde ederek makine öğrenmesi modeli geliştirildiğinde nasıl bir başarı sunacağını bu işlemleri kullanarak yapabilirsiniz."
   ]
  }
 ],
 "metadata": {
  "colab": {
   "provenance": []
  },
  "kernelspec": {
   "display_name": "py311",
   "language": "python",
   "name": "python3"
  },
  "language_info": {
   "codemirror_mode": {
    "name": "ipython",
    "version": 3
   },
   "file_extension": ".py",
   "mimetype": "text/x-python",
   "name": "python",
   "nbconvert_exporter": "python",
   "pygments_lexer": "ipython3",
   "version": "3.11.11"
  },
  "widgets": {
   "application/vnd.jupyter.widget-state+json": {
    "038bd71e7d07479faf9f9058372f6725": {
     "model_module": "@jupyter-widgets/controls",
     "model_module_version": "1.5.0",
     "model_name": "FloatProgressModel",
     "state": {
      "_dom_classes": [],
      "_model_module": "@jupyter-widgets/controls",
      "_model_module_version": "1.5.0",
      "_model_name": "FloatProgressModel",
      "_view_count": null,
      "_view_module": "@jupyter-widgets/controls",
      "_view_module_version": "1.5.0",
      "_view_name": "ProgressView",
      "bar_style": "",
      "description": "",
      "description_tooltip": null,
      "layout": "IPY_MODEL_f0da0622ae614a8b95c151a122d7df0f",
      "max": 81,
      "min": 0,
      "orientation": "horizontal",
      "style": "IPY_MODEL_8806e00238714e7ebe999d13b9a530e8",
      "value": 81
     }
    },
    "0aeb844e0efe4d509d70f89bd3bbb9d9": {
     "model_module": "@jupyter-widgets/controls",
     "model_module_version": "1.5.0",
     "model_name": "HTMLModel",
     "state": {
      "_dom_classes": [],
      "_model_module": "@jupyter-widgets/controls",
      "_model_module_version": "1.5.0",
      "_model_name": "HTMLModel",
      "_view_count": null,
      "_view_module": "@jupyter-widgets/controls",
      "_view_module_version": "1.5.0",
      "_view_name": "HTMLView",
      "description": "",
      "description_tooltip": null,
      "layout": "IPY_MODEL_9143f048e12947dfae32617c52ed3de8",
      "placeholder": "​",
      "style": "IPY_MODEL_ee3d1ac7051148c58411ce4cd9966a34",
      "value": " 65/65 [00:22&lt;00:00,  2.74it/s]"
     }
    },
    "0be062467ca0419cb8bf735f2e6c90be": {
     "model_module": "@jupyter-widgets/base",
     "model_module_version": "1.2.0",
     "model_name": "LayoutModel",
     "state": {
      "_model_module": "@jupyter-widgets/base",
      "_model_module_version": "1.2.0",
      "_model_name": "LayoutModel",
      "_view_count": null,
      "_view_module": "@jupyter-widgets/base",
      "_view_module_version": "1.2.0",
      "_view_name": "LayoutView",
      "align_content": null,
      "align_items": null,
      "align_self": null,
      "border": null,
      "bottom": null,
      "display": null,
      "flex": null,
      "flex_flow": null,
      "grid_area": null,
      "grid_auto_columns": null,
      "grid_auto_flow": null,
      "grid_auto_rows": null,
      "grid_column": null,
      "grid_gap": null,
      "grid_row": null,
      "grid_template_areas": null,
      "grid_template_columns": null,
      "grid_template_rows": null,
      "height": null,
      "justify_content": null,
      "justify_items": null,
      "left": null,
      "margin": null,
      "max_height": null,
      "max_width": null,
      "min_height": null,
      "min_width": null,
      "object_fit": null,
      "object_position": null,
      "order": null,
      "overflow": null,
      "overflow_x": null,
      "overflow_y": null,
      "padding": null,
      "right": null,
      "top": null,
      "visibility": "hidden",
      "width": null
     }
    },
    "0f9b9e7afb24457a8b59664e6c3948af": {
     "model_module": "@jupyter-widgets/controls",
     "model_module_version": "1.5.0",
     "model_name": "DescriptionStyleModel",
     "state": {
      "_model_module": "@jupyter-widgets/controls",
      "_model_module_version": "1.5.0",
      "_model_name": "DescriptionStyleModel",
      "_view_count": null,
      "_view_module": "@jupyter-widgets/base",
      "_view_module_version": "1.2.0",
      "_view_name": "StyleView",
      "description_width": ""
     }
    },
    "1634e98194ab48db991dd9f2057c5357": {
     "model_module": "@jupyter-widgets/base",
     "model_module_version": "1.2.0",
     "model_name": "LayoutModel",
     "state": {
      "_model_module": "@jupyter-widgets/base",
      "_model_module_version": "1.2.0",
      "_model_name": "LayoutModel",
      "_view_count": null,
      "_view_module": "@jupyter-widgets/base",
      "_view_module_version": "1.2.0",
      "_view_name": "LayoutView",
      "align_content": null,
      "align_items": null,
      "align_self": null,
      "border": null,
      "bottom": null,
      "display": null,
      "flex": null,
      "flex_flow": null,
      "grid_area": null,
      "grid_auto_columns": null,
      "grid_auto_flow": null,
      "grid_auto_rows": null,
      "grid_column": null,
      "grid_gap": null,
      "grid_row": null,
      "grid_template_areas": null,
      "grid_template_columns": null,
      "grid_template_rows": null,
      "height": null,
      "justify_content": null,
      "justify_items": null,
      "left": null,
      "margin": null,
      "max_height": null,
      "max_width": null,
      "min_height": null,
      "min_width": null,
      "object_fit": null,
      "object_position": null,
      "order": null,
      "overflow": null,
      "overflow_x": null,
      "overflow_y": null,
      "padding": null,
      "right": null,
      "top": null,
      "visibility": null,
      "width": null
     }
    },
    "1c96ce74ef864b2faa5b4147ffb15e88": {
     "model_module": "@jupyter-widgets/base",
     "model_module_version": "1.2.0",
     "model_name": "LayoutModel",
     "state": {
      "_model_module": "@jupyter-widgets/base",
      "_model_module_version": "1.2.0",
      "_model_name": "LayoutModel",
      "_view_count": null,
      "_view_module": "@jupyter-widgets/base",
      "_view_module_version": "1.2.0",
      "_view_name": "LayoutView",
      "align_content": null,
      "align_items": null,
      "align_self": null,
      "border": null,
      "bottom": null,
      "display": null,
      "flex": null,
      "flex_flow": null,
      "grid_area": null,
      "grid_auto_columns": null,
      "grid_auto_flow": null,
      "grid_auto_rows": null,
      "grid_column": null,
      "grid_gap": null,
      "grid_row": null,
      "grid_template_areas": null,
      "grid_template_columns": null,
      "grid_template_rows": null,
      "height": null,
      "justify_content": null,
      "justify_items": null,
      "left": null,
      "margin": null,
      "max_height": null,
      "max_width": null,
      "min_height": null,
      "min_width": null,
      "object_fit": null,
      "object_position": null,
      "order": null,
      "overflow": null,
      "overflow_x": null,
      "overflow_y": null,
      "padding": null,
      "right": null,
      "top": null,
      "visibility": "hidden",
      "width": null
     }
    },
    "2dc7e1adc8aa43e4954d5cf2cd5a8439": {
     "model_module": "@jupyter-widgets/controls",
     "model_module_version": "1.5.0",
     "model_name": "HBoxModel",
     "state": {
      "_dom_classes": [],
      "_model_module": "@jupyter-widgets/controls",
      "_model_module_version": "1.5.0",
      "_model_name": "HBoxModel",
      "_view_count": null,
      "_view_module": "@jupyter-widgets/controls",
      "_view_module_version": "1.5.0",
      "_view_name": "HBoxView",
      "box_style": "",
      "children": [
       "IPY_MODEL_f61b2f07879c410499f412dae423cd1e",
       "IPY_MODEL_038bd71e7d07479faf9f9058372f6725",
       "IPY_MODEL_bcbd975434a243bc991087073f4a8b7c"
      ],
      "layout": "IPY_MODEL_9f812e68eefa43f38b74bea8f8f9ef77"
     }
    },
    "3bc59cce22644334aa696f445f2fca7f": {
     "model_module": "@jupyter-widgets/controls",
     "model_module_version": "1.5.0",
     "model_name": "HTMLModel",
     "state": {
      "_dom_classes": [],
      "_model_module": "@jupyter-widgets/controls",
      "_model_module_version": "1.5.0",
      "_model_name": "HTMLModel",
      "_view_count": null,
      "_view_module": "@jupyter-widgets/controls",
      "_view_module_version": "1.5.0",
      "_view_name": "HTMLView",
      "description": "",
      "description_tooltip": null,
      "layout": "IPY_MODEL_653eeefa4d6b49c683195b9f246681ba",
      "placeholder": "​",
      "style": "IPY_MODEL_0f9b9e7afb24457a8b59664e6c3948af",
      "value": "Processing:  75%"
     }
    },
    "4002f6ec166e4ba680f3a60dcfbc90b9": {
     "model_module": "@jupyter-widgets/controls",
     "model_module_version": "1.5.0",
     "model_name": "HTMLModel",
     "state": {
      "_dom_classes": [],
      "_model_module": "@jupyter-widgets/controls",
      "_model_module_version": "1.5.0",
      "_model_name": "HTMLModel",
      "_view_count": null,
      "_view_module": "@jupyter-widgets/controls",
      "_view_module_version": "1.5.0",
      "_view_name": "HTMLView",
      "description": "",
      "description_tooltip": null,
      "layout": "IPY_MODEL_1634e98194ab48db991dd9f2057c5357",
      "placeholder": "​",
      "style": "IPY_MODEL_917bc069ffb546a289ce38923af62210",
      "value": " 3/4 [00:01&lt;00:00,  2.97it/s]"
     }
    },
    "51e6ddd17c4d40ca98ec199150f23d0e": {
     "model_module": "@jupyter-widgets/base",
     "model_module_version": "1.2.0",
     "model_name": "LayoutModel",
     "state": {
      "_model_module": "@jupyter-widgets/base",
      "_model_module_version": "1.2.0",
      "_model_name": "LayoutModel",
      "_view_count": null,
      "_view_module": "@jupyter-widgets/base",
      "_view_module_version": "1.2.0",
      "_view_name": "LayoutView",
      "align_content": null,
      "align_items": null,
      "align_self": null,
      "border": null,
      "bottom": null,
      "display": null,
      "flex": null,
      "flex_flow": null,
      "grid_area": null,
      "grid_auto_columns": null,
      "grid_auto_flow": null,
      "grid_auto_rows": null,
      "grid_column": null,
      "grid_gap": null,
      "grid_row": null,
      "grid_template_areas": null,
      "grid_template_columns": null,
      "grid_template_rows": null,
      "height": null,
      "justify_content": null,
      "justify_items": null,
      "left": null,
      "margin": null,
      "max_height": null,
      "max_width": null,
      "min_height": null,
      "min_width": null,
      "object_fit": null,
      "object_position": null,
      "order": null,
      "overflow": null,
      "overflow_x": null,
      "overflow_y": null,
      "padding": null,
      "right": null,
      "top": null,
      "visibility": null,
      "width": null
     }
    },
    "5df1683cf33a4e76b3a97eafc50279c5": {
     "model_module": "@jupyter-widgets/controls",
     "model_module_version": "1.5.0",
     "model_name": "DescriptionStyleModel",
     "state": {
      "_model_module": "@jupyter-widgets/controls",
      "_model_module_version": "1.5.0",
      "_model_name": "DescriptionStyleModel",
      "_view_count": null,
      "_view_module": "@jupyter-widgets/base",
      "_view_module_version": "1.2.0",
      "_view_name": "StyleView",
      "description_width": ""
     }
    },
    "653eeefa4d6b49c683195b9f246681ba": {
     "model_module": "@jupyter-widgets/base",
     "model_module_version": "1.2.0",
     "model_name": "LayoutModel",
     "state": {
      "_model_module": "@jupyter-widgets/base",
      "_model_module_version": "1.2.0",
      "_model_name": "LayoutModel",
      "_view_count": null,
      "_view_module": "@jupyter-widgets/base",
      "_view_module_version": "1.2.0",
      "_view_name": "LayoutView",
      "align_content": null,
      "align_items": null,
      "align_self": null,
      "border": null,
      "bottom": null,
      "display": null,
      "flex": null,
      "flex_flow": null,
      "grid_area": null,
      "grid_auto_columns": null,
      "grid_auto_flow": null,
      "grid_auto_rows": null,
      "grid_column": null,
      "grid_gap": null,
      "grid_row": null,
      "grid_template_areas": null,
      "grid_template_columns": null,
      "grid_template_rows": null,
      "height": null,
      "justify_content": null,
      "justify_items": null,
      "left": null,
      "margin": null,
      "max_height": null,
      "max_width": null,
      "min_height": null,
      "min_width": null,
      "object_fit": null,
      "object_position": null,
      "order": null,
      "overflow": null,
      "overflow_x": null,
      "overflow_y": null,
      "padding": null,
      "right": null,
      "top": null,
      "visibility": null,
      "width": null
     }
    },
    "678968a79b98475bbe8db6ee46db78e2": {
     "model_module": "@jupyter-widgets/controls",
     "model_module_version": "1.5.0",
     "model_name": "HTMLModel",
     "state": {
      "_dom_classes": [],
      "_model_module": "@jupyter-widgets/controls",
      "_model_module_version": "1.5.0",
      "_model_name": "HTMLModel",
      "_view_count": null,
      "_view_module": "@jupyter-widgets/controls",
      "_view_module_version": "1.5.0",
      "_view_name": "HTMLView",
      "description": "",
      "description_tooltip": null,
      "layout": "IPY_MODEL_ba7d5662959e441e8d68867cc7312bc8",
      "placeholder": "​",
      "style": "IPY_MODEL_a26f107542a34b7695f6f48155a08a8f",
      "value": " 0/3 [00:00&lt;?, ?it/s]"
     }
    },
    "6e590e06b03649ffabe60667c3d900bc": {
     "model_module": "@jupyter-widgets/controls",
     "model_module_version": "1.5.0",
     "model_name": "ProgressStyleModel",
     "state": {
      "_model_module": "@jupyter-widgets/controls",
      "_model_module_version": "1.5.0",
      "_model_name": "ProgressStyleModel",
      "_view_count": null,
      "_view_module": "@jupyter-widgets/base",
      "_view_module_version": "1.2.0",
      "_view_name": "StyleView",
      "bar_color": null,
      "description_width": ""
     }
    },
    "70ef82c76ba5479ca047d47286aed1e1": {
     "model_module": "@jupyter-widgets/controls",
     "model_module_version": "1.5.0",
     "model_name": "DescriptionStyleModel",
     "state": {
      "_model_module": "@jupyter-widgets/controls",
      "_model_module_version": "1.5.0",
      "_model_name": "DescriptionStyleModel",
      "_view_count": null,
      "_view_module": "@jupyter-widgets/base",
      "_view_module_version": "1.2.0",
      "_view_name": "StyleView",
      "description_width": ""
     }
    },
    "772972e35a2e49ca95ff75741d77adb5": {
     "model_module": "@jupyter-widgets/base",
     "model_module_version": "1.2.0",
     "model_name": "LayoutModel",
     "state": {
      "_model_module": "@jupyter-widgets/base",
      "_model_module_version": "1.2.0",
      "_model_name": "LayoutModel",
      "_view_count": null,
      "_view_module": "@jupyter-widgets/base",
      "_view_module_version": "1.2.0",
      "_view_name": "LayoutView",
      "align_content": null,
      "align_items": null,
      "align_self": null,
      "border": null,
      "bottom": null,
      "display": null,
      "flex": null,
      "flex_flow": null,
      "grid_area": null,
      "grid_auto_columns": null,
      "grid_auto_flow": null,
      "grid_auto_rows": null,
      "grid_column": null,
      "grid_gap": null,
      "grid_row": null,
      "grid_template_areas": null,
      "grid_template_columns": null,
      "grid_template_rows": null,
      "height": null,
      "justify_content": null,
      "justify_items": null,
      "left": null,
      "margin": null,
      "max_height": null,
      "max_width": null,
      "min_height": null,
      "min_width": null,
      "object_fit": null,
      "object_position": null,
      "order": null,
      "overflow": null,
      "overflow_x": null,
      "overflow_y": null,
      "padding": null,
      "right": null,
      "top": null,
      "visibility": null,
      "width": null
     }
    },
    "85531421516940d4968b661c5a332eee": {
     "model_module": "@jupyter-widgets/controls",
     "model_module_version": "1.5.0",
     "model_name": "HBoxModel",
     "state": {
      "_dom_classes": [],
      "_model_module": "@jupyter-widgets/controls",
      "_model_module_version": "1.5.0",
      "_model_name": "HBoxModel",
      "_view_count": null,
      "_view_module": "@jupyter-widgets/controls",
      "_view_module_version": "1.5.0",
      "_view_name": "HBoxView",
      "box_style": "",
      "children": [
       "IPY_MODEL_ed106f271424411f80cf1c3b3c53c985",
       "IPY_MODEL_fe859c79a4e24cff9b37e8f4277e9154",
       "IPY_MODEL_0aeb844e0efe4d509d70f89bd3bbb9d9"
      ],
      "layout": "IPY_MODEL_1c96ce74ef864b2faa5b4147ffb15e88"
     }
    },
    "8806e00238714e7ebe999d13b9a530e8": {
     "model_module": "@jupyter-widgets/controls",
     "model_module_version": "1.5.0",
     "model_name": "ProgressStyleModel",
     "state": {
      "_model_module": "@jupyter-widgets/controls",
      "_model_module_version": "1.5.0",
      "_model_name": "ProgressStyleModel",
      "_view_count": null,
      "_view_module": "@jupyter-widgets/base",
      "_view_module_version": "1.2.0",
      "_view_name": "StyleView",
      "bar_color": null,
      "description_width": ""
     }
    },
    "88d70c4a78514ae2b904b22eac7f7a52": {
     "model_module": "@jupyter-widgets/base",
     "model_module_version": "1.2.0",
     "model_name": "LayoutModel",
     "state": {
      "_model_module": "@jupyter-widgets/base",
      "_model_module_version": "1.2.0",
      "_model_name": "LayoutModel",
      "_view_count": null,
      "_view_module": "@jupyter-widgets/base",
      "_view_module_version": "1.2.0",
      "_view_name": "LayoutView",
      "align_content": null,
      "align_items": null,
      "align_self": null,
      "border": null,
      "bottom": null,
      "display": null,
      "flex": null,
      "flex_flow": null,
      "grid_area": null,
      "grid_auto_columns": null,
      "grid_auto_flow": null,
      "grid_auto_rows": null,
      "grid_column": null,
      "grid_gap": null,
      "grid_row": null,
      "grid_template_areas": null,
      "grid_template_columns": null,
      "grid_template_rows": null,
      "height": null,
      "justify_content": null,
      "justify_items": null,
      "left": null,
      "margin": null,
      "max_height": null,
      "max_width": null,
      "min_height": null,
      "min_width": null,
      "object_fit": null,
      "object_position": null,
      "order": null,
      "overflow": null,
      "overflow_x": null,
      "overflow_y": null,
      "padding": null,
      "right": null,
      "top": null,
      "visibility": null,
      "width": null
     }
    },
    "8a3f5c6cb2be402784259b1a7c215c0c": {
     "model_module": "@jupyter-widgets/base",
     "model_module_version": "1.2.0",
     "model_name": "LayoutModel",
     "state": {
      "_model_module": "@jupyter-widgets/base",
      "_model_module_version": "1.2.0",
      "_model_name": "LayoutModel",
      "_view_count": null,
      "_view_module": "@jupyter-widgets/base",
      "_view_module_version": "1.2.0",
      "_view_name": "LayoutView",
      "align_content": null,
      "align_items": null,
      "align_self": null,
      "border": null,
      "bottom": null,
      "display": null,
      "flex": null,
      "flex_flow": null,
      "grid_area": null,
      "grid_auto_columns": null,
      "grid_auto_flow": null,
      "grid_auto_rows": null,
      "grid_column": null,
      "grid_gap": null,
      "grid_row": null,
      "grid_template_areas": null,
      "grid_template_columns": null,
      "grid_template_rows": null,
      "height": null,
      "justify_content": null,
      "justify_items": null,
      "left": null,
      "margin": null,
      "max_height": null,
      "max_width": null,
      "min_height": null,
      "min_width": null,
      "object_fit": null,
      "object_position": null,
      "order": null,
      "overflow": null,
      "overflow_x": null,
      "overflow_y": null,
      "padding": null,
      "right": null,
      "top": null,
      "visibility": null,
      "width": null
     }
    },
    "8ad9ad6e4a8e4b488935d8db7cae4b52": {
     "model_module": "@jupyter-widgets/controls",
     "model_module_version": "1.5.0",
     "model_name": "ProgressStyleModel",
     "state": {
      "_model_module": "@jupyter-widgets/controls",
      "_model_module_version": "1.5.0",
      "_model_name": "ProgressStyleModel",
      "_view_count": null,
      "_view_module": "@jupyter-widgets/base",
      "_view_module_version": "1.2.0",
      "_view_name": "StyleView",
      "bar_color": null,
      "description_width": ""
     }
    },
    "9143f048e12947dfae32617c52ed3de8": {
     "model_module": "@jupyter-widgets/base",
     "model_module_version": "1.2.0",
     "model_name": "LayoutModel",
     "state": {
      "_model_module": "@jupyter-widgets/base",
      "_model_module_version": "1.2.0",
      "_model_name": "LayoutModel",
      "_view_count": null,
      "_view_module": "@jupyter-widgets/base",
      "_view_module_version": "1.2.0",
      "_view_name": "LayoutView",
      "align_content": null,
      "align_items": null,
      "align_self": null,
      "border": null,
      "bottom": null,
      "display": null,
      "flex": null,
      "flex_flow": null,
      "grid_area": null,
      "grid_auto_columns": null,
      "grid_auto_flow": null,
      "grid_auto_rows": null,
      "grid_column": null,
      "grid_gap": null,
      "grid_row": null,
      "grid_template_areas": null,
      "grid_template_columns": null,
      "grid_template_rows": null,
      "height": null,
      "justify_content": null,
      "justify_items": null,
      "left": null,
      "margin": null,
      "max_height": null,
      "max_width": null,
      "min_height": null,
      "min_width": null,
      "object_fit": null,
      "object_position": null,
      "order": null,
      "overflow": null,
      "overflow_x": null,
      "overflow_y": null,
      "padding": null,
      "right": null,
      "top": null,
      "visibility": null,
      "width": null
     }
    },
    "917bc069ffb546a289ce38923af62210": {
     "model_module": "@jupyter-widgets/controls",
     "model_module_version": "1.5.0",
     "model_name": "DescriptionStyleModel",
     "state": {
      "_model_module": "@jupyter-widgets/controls",
      "_model_module_version": "1.5.0",
      "_model_name": "DescriptionStyleModel",
      "_view_count": null,
      "_view_module": "@jupyter-widgets/base",
      "_view_module_version": "1.2.0",
      "_view_name": "StyleView",
      "description_width": ""
     }
    },
    "9f812e68eefa43f38b74bea8f8f9ef77": {
     "model_module": "@jupyter-widgets/base",
     "model_module_version": "1.2.0",
     "model_name": "LayoutModel",
     "state": {
      "_model_module": "@jupyter-widgets/base",
      "_model_module_version": "1.2.0",
      "_model_name": "LayoutModel",
      "_view_count": null,
      "_view_module": "@jupyter-widgets/base",
      "_view_module_version": "1.2.0",
      "_view_name": "LayoutView",
      "align_content": null,
      "align_items": null,
      "align_self": null,
      "border": null,
      "bottom": null,
      "display": null,
      "flex": null,
      "flex_flow": null,
      "grid_area": null,
      "grid_auto_columns": null,
      "grid_auto_flow": null,
      "grid_auto_rows": null,
      "grid_column": null,
      "grid_gap": null,
      "grid_row": null,
      "grid_template_areas": null,
      "grid_template_columns": null,
      "grid_template_rows": null,
      "height": null,
      "justify_content": null,
      "justify_items": null,
      "left": null,
      "margin": null,
      "max_height": null,
      "max_width": null,
      "min_height": null,
      "min_width": null,
      "object_fit": null,
      "object_position": null,
      "order": null,
      "overflow": null,
      "overflow_x": null,
      "overflow_y": null,
      "padding": null,
      "right": null,
      "top": null,
      "visibility": "hidden",
      "width": null
     }
    },
    "a24f0396a1284003befa6b64343a0102": {
     "model_module": "@jupyter-widgets/base",
     "model_module_version": "1.2.0",
     "model_name": "LayoutModel",
     "state": {
      "_model_module": "@jupyter-widgets/base",
      "_model_module_version": "1.2.0",
      "_model_name": "LayoutModel",
      "_view_count": null,
      "_view_module": "@jupyter-widgets/base",
      "_view_module_version": "1.2.0",
      "_view_name": "LayoutView",
      "align_content": null,
      "align_items": null,
      "align_self": null,
      "border": null,
      "bottom": null,
      "display": null,
      "flex": null,
      "flex_flow": null,
      "grid_area": null,
      "grid_auto_columns": null,
      "grid_auto_flow": null,
      "grid_auto_rows": null,
      "grid_column": null,
      "grid_gap": null,
      "grid_row": null,
      "grid_template_areas": null,
      "grid_template_columns": null,
      "grid_template_rows": null,
      "height": null,
      "justify_content": null,
      "justify_items": null,
      "left": null,
      "margin": null,
      "max_height": null,
      "max_width": null,
      "min_height": null,
      "min_width": null,
      "object_fit": null,
      "object_position": null,
      "order": null,
      "overflow": null,
      "overflow_x": null,
      "overflow_y": null,
      "padding": null,
      "right": null,
      "top": null,
      "visibility": null,
      "width": null
     }
    },
    "a26f107542a34b7695f6f48155a08a8f": {
     "model_module": "@jupyter-widgets/controls",
     "model_module_version": "1.5.0",
     "model_name": "DescriptionStyleModel",
     "state": {
      "_model_module": "@jupyter-widgets/controls",
      "_model_module_version": "1.5.0",
      "_model_name": "DescriptionStyleModel",
      "_view_count": null,
      "_view_module": "@jupyter-widgets/base",
      "_view_module_version": "1.2.0",
      "_view_name": "StyleView",
      "description_width": ""
     }
    },
    "a89848aac53e4507a0bc969ad36d8c7e": {
     "model_module": "@jupyter-widgets/base",
     "model_module_version": "1.2.0",
     "model_name": "LayoutModel",
     "state": {
      "_model_module": "@jupyter-widgets/base",
      "_model_module_version": "1.2.0",
      "_model_name": "LayoutModel",
      "_view_count": null,
      "_view_module": "@jupyter-widgets/base",
      "_view_module_version": "1.2.0",
      "_view_name": "LayoutView",
      "align_content": null,
      "align_items": null,
      "align_self": null,
      "border": null,
      "bottom": null,
      "display": null,
      "flex": null,
      "flex_flow": null,
      "grid_area": null,
      "grid_auto_columns": null,
      "grid_auto_flow": null,
      "grid_auto_rows": null,
      "grid_column": null,
      "grid_gap": null,
      "grid_row": null,
      "grid_template_areas": null,
      "grid_template_columns": null,
      "grid_template_rows": null,
      "height": null,
      "justify_content": null,
      "justify_items": null,
      "left": null,
      "margin": null,
      "max_height": null,
      "max_width": null,
      "min_height": null,
      "min_width": null,
      "object_fit": null,
      "object_position": null,
      "order": null,
      "overflow": null,
      "overflow_x": null,
      "overflow_y": null,
      "padding": null,
      "right": null,
      "top": null,
      "visibility": "hidden",
      "width": null
     }
    },
    "ad4c00264d75439494c5124ebbd4b66f": {
     "model_module": "@jupyter-widgets/base",
     "model_module_version": "1.2.0",
     "model_name": "LayoutModel",
     "state": {
      "_model_module": "@jupyter-widgets/base",
      "_model_module_version": "1.2.0",
      "_model_name": "LayoutModel",
      "_view_count": null,
      "_view_module": "@jupyter-widgets/base",
      "_view_module_version": "1.2.0",
      "_view_name": "LayoutView",
      "align_content": null,
      "align_items": null,
      "align_self": null,
      "border": null,
      "bottom": null,
      "display": null,
      "flex": null,
      "flex_flow": null,
      "grid_area": null,
      "grid_auto_columns": null,
      "grid_auto_flow": null,
      "grid_auto_rows": null,
      "grid_column": null,
      "grid_gap": null,
      "grid_row": null,
      "grid_template_areas": null,
      "grid_template_columns": null,
      "grid_template_rows": null,
      "height": null,
      "justify_content": null,
      "justify_items": null,
      "left": null,
      "margin": null,
      "max_height": null,
      "max_width": null,
      "min_height": null,
      "min_width": null,
      "object_fit": null,
      "object_position": null,
      "order": null,
      "overflow": null,
      "overflow_x": null,
      "overflow_y": null,
      "padding": null,
      "right": null,
      "top": null,
      "visibility": null,
      "width": null
     }
    },
    "ba7d5662959e441e8d68867cc7312bc8": {
     "model_module": "@jupyter-widgets/base",
     "model_module_version": "1.2.0",
     "model_name": "LayoutModel",
     "state": {
      "_model_module": "@jupyter-widgets/base",
      "_model_module_version": "1.2.0",
      "_model_name": "LayoutModel",
      "_view_count": null,
      "_view_module": "@jupyter-widgets/base",
      "_view_module_version": "1.2.0",
      "_view_name": "LayoutView",
      "align_content": null,
      "align_items": null,
      "align_self": null,
      "border": null,
      "bottom": null,
      "display": null,
      "flex": null,
      "flex_flow": null,
      "grid_area": null,
      "grid_auto_columns": null,
      "grid_auto_flow": null,
      "grid_auto_rows": null,
      "grid_column": null,
      "grid_gap": null,
      "grid_row": null,
      "grid_template_areas": null,
      "grid_template_columns": null,
      "grid_template_rows": null,
      "height": null,
      "justify_content": null,
      "justify_items": null,
      "left": null,
      "margin": null,
      "max_height": null,
      "max_width": null,
      "min_height": null,
      "min_width": null,
      "object_fit": null,
      "object_position": null,
      "order": null,
      "overflow": null,
      "overflow_x": null,
      "overflow_y": null,
      "padding": null,
      "right": null,
      "top": null,
      "visibility": null,
      "width": null
     }
    },
    "bcbd975434a243bc991087073f4a8b7c": {
     "model_module": "@jupyter-widgets/controls",
     "model_module_version": "1.5.0",
     "model_name": "HTMLModel",
     "state": {
      "_dom_classes": [],
      "_model_module": "@jupyter-widgets/controls",
      "_model_module_version": "1.5.0",
      "_model_name": "HTMLModel",
      "_view_count": null,
      "_view_module": "@jupyter-widgets/controls",
      "_view_module_version": "1.5.0",
      "_view_name": "HTMLView",
      "description": "",
      "description_tooltip": null,
      "layout": "IPY_MODEL_ad4c00264d75439494c5124ebbd4b66f",
      "placeholder": "​",
      "style": "IPY_MODEL_e9b2c140981c46f285631ca9014c0cea",
      "value": " 81/81 [05:48&lt;00:00,  1.61s/it]"
     }
    },
    "bd759ce00c7945979f0a951a99b34e84": {
     "model_module": "@jupyter-widgets/controls",
     "model_module_version": "1.5.0",
     "model_name": "FloatProgressModel",
     "state": {
      "_dom_classes": [],
      "_model_module": "@jupyter-widgets/controls",
      "_model_module_version": "1.5.0",
      "_model_name": "FloatProgressModel",
      "_view_count": null,
      "_view_module": "@jupyter-widgets/controls",
      "_view_module_version": "1.5.0",
      "_view_name": "ProgressView",
      "bar_style": "",
      "description": "",
      "description_tooltip": null,
      "layout": "IPY_MODEL_51e6ddd17c4d40ca98ec199150f23d0e",
      "max": 4,
      "min": 0,
      "orientation": "horizontal",
      "style": "IPY_MODEL_8ad9ad6e4a8e4b488935d8db7cae4b52",
      "value": 4
     }
    },
    "c860f70c96c74e3fa950ce5bc9575684": {
     "model_module": "@jupyter-widgets/controls",
     "model_module_version": "1.5.0",
     "model_name": "HTMLModel",
     "state": {
      "_dom_classes": [],
      "_model_module": "@jupyter-widgets/controls",
      "_model_module_version": "1.5.0",
      "_model_name": "HTMLModel",
      "_view_count": null,
      "_view_module": "@jupyter-widgets/controls",
      "_view_module_version": "1.5.0",
      "_view_name": "HTMLView",
      "description": "",
      "description_tooltip": null,
      "layout": "IPY_MODEL_8a3f5c6cb2be402784259b1a7c215c0c",
      "placeholder": "​",
      "style": "IPY_MODEL_70ef82c76ba5479ca047d47286aed1e1",
      "value": "Processing:   0%"
     }
    },
    "c96a94cdf48a49a1a09e41bbdda90c41": {
     "model_module": "@jupyter-widgets/controls",
     "model_module_version": "1.5.0",
     "model_name": "HBoxModel",
     "state": {
      "_dom_classes": [],
      "_model_module": "@jupyter-widgets/controls",
      "_model_module_version": "1.5.0",
      "_model_name": "HBoxModel",
      "_view_count": null,
      "_view_module": "@jupyter-widgets/controls",
      "_view_module_version": "1.5.0",
      "_view_name": "HBoxView",
      "box_style": "",
      "children": [
       "IPY_MODEL_c860f70c96c74e3fa950ce5bc9575684",
       "IPY_MODEL_cee54b48527d472aa3caa6ff7e8def7a",
       "IPY_MODEL_678968a79b98475bbe8db6ee46db78e2"
      ],
      "layout": "IPY_MODEL_a89848aac53e4507a0bc969ad36d8c7e"
     }
    },
    "cee54b48527d472aa3caa6ff7e8def7a": {
     "model_module": "@jupyter-widgets/controls",
     "model_module_version": "1.5.0",
     "model_name": "FloatProgressModel",
     "state": {
      "_dom_classes": [],
      "_model_module": "@jupyter-widgets/controls",
      "_model_module_version": "1.5.0",
      "_model_name": "FloatProgressModel",
      "_view_count": null,
      "_view_module": "@jupyter-widgets/controls",
      "_view_module_version": "1.5.0",
      "_view_name": "ProgressView",
      "bar_style": "",
      "description": "",
      "description_tooltip": null,
      "layout": "IPY_MODEL_ef3c6adf40b6478da2bb7fdf1a46dbfb",
      "max": 3,
      "min": 0,
      "orientation": "horizontal",
      "style": "IPY_MODEL_f261b1e848da489395a9f4d0dcaa1028",
      "value": 3
     }
    },
    "d90b59e8a23c485d8ca9eeb7a27c67e0": {
     "model_module": "@jupyter-widgets/controls",
     "model_module_version": "1.5.0",
     "model_name": "HBoxModel",
     "state": {
      "_dom_classes": [],
      "_model_module": "@jupyter-widgets/controls",
      "_model_module_version": "1.5.0",
      "_model_name": "HBoxModel",
      "_view_count": null,
      "_view_module": "@jupyter-widgets/controls",
      "_view_module_version": "1.5.0",
      "_view_name": "HBoxView",
      "box_style": "",
      "children": [
       "IPY_MODEL_3bc59cce22644334aa696f445f2fca7f",
       "IPY_MODEL_bd759ce00c7945979f0a951a99b34e84",
       "IPY_MODEL_4002f6ec166e4ba680f3a60dcfbc90b9"
      ],
      "layout": "IPY_MODEL_0be062467ca0419cb8bf735f2e6c90be"
     }
    },
    "e9b2c140981c46f285631ca9014c0cea": {
     "model_module": "@jupyter-widgets/controls",
     "model_module_version": "1.5.0",
     "model_name": "DescriptionStyleModel",
     "state": {
      "_model_module": "@jupyter-widgets/controls",
      "_model_module_version": "1.5.0",
      "_model_name": "DescriptionStyleModel",
      "_view_count": null,
      "_view_module": "@jupyter-widgets/base",
      "_view_module_version": "1.2.0",
      "_view_name": "StyleView",
      "description_width": ""
     }
    },
    "ed106f271424411f80cf1c3b3c53c985": {
     "model_module": "@jupyter-widgets/controls",
     "model_module_version": "1.5.0",
     "model_name": "HTMLModel",
     "state": {
      "_dom_classes": [],
      "_model_module": "@jupyter-widgets/controls",
      "_model_module_version": "1.5.0",
      "_model_name": "HTMLModel",
      "_view_count": null,
      "_view_module": "@jupyter-widgets/controls",
      "_view_module_version": "1.5.0",
      "_view_name": "HTMLView",
      "description": "",
      "description_tooltip": null,
      "layout": "IPY_MODEL_772972e35a2e49ca95ff75741d77adb5",
      "placeholder": "​",
      "style": "IPY_MODEL_5df1683cf33a4e76b3a97eafc50279c5",
      "value": "Processing: 100%"
     }
    },
    "ee3d1ac7051148c58411ce4cd9966a34": {
     "model_module": "@jupyter-widgets/controls",
     "model_module_version": "1.5.0",
     "model_name": "DescriptionStyleModel",
     "state": {
      "_model_module": "@jupyter-widgets/controls",
      "_model_module_version": "1.5.0",
      "_model_name": "DescriptionStyleModel",
      "_view_count": null,
      "_view_module": "@jupyter-widgets/base",
      "_view_module_version": "1.2.0",
      "_view_name": "StyleView",
      "description_width": ""
     }
    },
    "ef3c6adf40b6478da2bb7fdf1a46dbfb": {
     "model_module": "@jupyter-widgets/base",
     "model_module_version": "1.2.0",
     "model_name": "LayoutModel",
     "state": {
      "_model_module": "@jupyter-widgets/base",
      "_model_module_version": "1.2.0",
      "_model_name": "LayoutModel",
      "_view_count": null,
      "_view_module": "@jupyter-widgets/base",
      "_view_module_version": "1.2.0",
      "_view_name": "LayoutView",
      "align_content": null,
      "align_items": null,
      "align_self": null,
      "border": null,
      "bottom": null,
      "display": null,
      "flex": null,
      "flex_flow": null,
      "grid_area": null,
      "grid_auto_columns": null,
      "grid_auto_flow": null,
      "grid_auto_rows": null,
      "grid_column": null,
      "grid_gap": null,
      "grid_row": null,
      "grid_template_areas": null,
      "grid_template_columns": null,
      "grid_template_rows": null,
      "height": null,
      "justify_content": null,
      "justify_items": null,
      "left": null,
      "margin": null,
      "max_height": null,
      "max_width": null,
      "min_height": null,
      "min_width": null,
      "object_fit": null,
      "object_position": null,
      "order": null,
      "overflow": null,
      "overflow_x": null,
      "overflow_y": null,
      "padding": null,
      "right": null,
      "top": null,
      "visibility": null,
      "width": null
     }
    },
    "f0da0622ae614a8b95c151a122d7df0f": {
     "model_module": "@jupyter-widgets/base",
     "model_module_version": "1.2.0",
     "model_name": "LayoutModel",
     "state": {
      "_model_module": "@jupyter-widgets/base",
      "_model_module_version": "1.2.0",
      "_model_name": "LayoutModel",
      "_view_count": null,
      "_view_module": "@jupyter-widgets/base",
      "_view_module_version": "1.2.0",
      "_view_name": "LayoutView",
      "align_content": null,
      "align_items": null,
      "align_self": null,
      "border": null,
      "bottom": null,
      "display": null,
      "flex": null,
      "flex_flow": null,
      "grid_area": null,
      "grid_auto_columns": null,
      "grid_auto_flow": null,
      "grid_auto_rows": null,
      "grid_column": null,
      "grid_gap": null,
      "grid_row": null,
      "grid_template_areas": null,
      "grid_template_columns": null,
      "grid_template_rows": null,
      "height": null,
      "justify_content": null,
      "justify_items": null,
      "left": null,
      "margin": null,
      "max_height": null,
      "max_width": null,
      "min_height": null,
      "min_width": null,
      "object_fit": null,
      "object_position": null,
      "order": null,
      "overflow": null,
      "overflow_x": null,
      "overflow_y": null,
      "padding": null,
      "right": null,
      "top": null,
      "visibility": null,
      "width": null
     }
    },
    "f261b1e848da489395a9f4d0dcaa1028": {
     "model_module": "@jupyter-widgets/controls",
     "model_module_version": "1.5.0",
     "model_name": "ProgressStyleModel",
     "state": {
      "_model_module": "@jupyter-widgets/controls",
      "_model_module_version": "1.5.0",
      "_model_name": "ProgressStyleModel",
      "_view_count": null,
      "_view_module": "@jupyter-widgets/base",
      "_view_module_version": "1.2.0",
      "_view_name": "StyleView",
      "bar_color": null,
      "description_width": ""
     }
    },
    "f61b2f07879c410499f412dae423cd1e": {
     "model_module": "@jupyter-widgets/controls",
     "model_module_version": "1.5.0",
     "model_name": "HTMLModel",
     "state": {
      "_dom_classes": [],
      "_model_module": "@jupyter-widgets/controls",
      "_model_module_version": "1.5.0",
      "_model_name": "HTMLModel",
      "_view_count": null,
      "_view_module": "@jupyter-widgets/controls",
      "_view_module_version": "1.5.0",
      "_view_name": "HTMLView",
      "description": "",
      "description_tooltip": null,
      "layout": "IPY_MODEL_a24f0396a1284003befa6b64343a0102",
      "placeholder": "​",
      "style": "IPY_MODEL_f88bd17302fb4394b6147582d1f1dc51",
      "value": "Processing: 100%"
     }
    },
    "f88bd17302fb4394b6147582d1f1dc51": {
     "model_module": "@jupyter-widgets/controls",
     "model_module_version": "1.5.0",
     "model_name": "DescriptionStyleModel",
     "state": {
      "_model_module": "@jupyter-widgets/controls",
      "_model_module_version": "1.5.0",
      "_model_name": "DescriptionStyleModel",
      "_view_count": null,
      "_view_module": "@jupyter-widgets/base",
      "_view_module_version": "1.2.0",
      "_view_name": "StyleView",
      "description_width": ""
     }
    },
    "fe859c79a4e24cff9b37e8f4277e9154": {
     "model_module": "@jupyter-widgets/controls",
     "model_module_version": "1.5.0",
     "model_name": "FloatProgressModel",
     "state": {
      "_dom_classes": [],
      "_model_module": "@jupyter-widgets/controls",
      "_model_module_version": "1.5.0",
      "_model_name": "FloatProgressModel",
      "_view_count": null,
      "_view_module": "@jupyter-widgets/controls",
      "_view_module_version": "1.5.0",
      "_view_name": "ProgressView",
      "bar_style": "",
      "description": "",
      "description_tooltip": null,
      "layout": "IPY_MODEL_88d70c4a78514ae2b904b22eac7f7a52",
      "max": 65,
      "min": 0,
      "orientation": "horizontal",
      "style": "IPY_MODEL_6e590e06b03649ffabe60667c3d900bc",
      "value": 65
     }
    }
   }
  }
 },
 "nbformat": 4,
 "nbformat_minor": 4
}
