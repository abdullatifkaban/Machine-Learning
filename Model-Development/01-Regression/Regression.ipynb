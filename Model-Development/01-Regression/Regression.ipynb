{
 "cells": [
  {
   "cell_type": "markdown",
   "metadata": {},
   "source": [
    "# Regression\n",
    "\n",
    "Regresyon Modeli, sürekli bir çıktıyı tahmin etmek için bağımsız değişkenler ile bağımlı değişken arasındaki ilişkileri modelleyen bir algoritmadır. Bu model, özellikle veri noktalarının eğilimlerini anlamak ve gelecekteki değerleri öngörmek için kullanılır."
   ]
  },
  {
   "cell_type": "code",
   "execution_count": 1,
   "metadata": {},
   "outputs": [],
   "source": [
    "import warnings\n",
    "warnings.simplefilter(\"ignore\")\n",
    "\n",
    "# Veri setini okuyarak DataFrame oluşturalım\n",
    "import pandas as pd\n",
    "\n",
    "df = pd.read_excel(\"cars.xls\")"
   ]
  },
  {
   "cell_type": "markdown",
   "metadata": {},
   "source": [
    "**Not:** Excel dosyasını okumak için xlrd paketine ihtiyaç duyulabilir. Bunun için aşağıdaki kodu çalıştırarak kurabilirsiniz.\n",
    "```python\n",
    "pip install xlrd\n",
    "```"
   ]
  },
  {
   "cell_type": "markdown",
   "metadata": {},
   "source": [
    "### Keşfedici Veri Analizi (EDA)\n",
    "\n",
    "(EDA işlemleri ile ilgili detaylı bilgi için <a href=\"../../Data-Preprocessing/03-Exploratory-Data-Analysis/Exploratory-Data-Analysis.ipynb\" target=\"_blank\">buraya</a> bakabilirsiniz.)"
   ]
  },
  {
   "cell_type": "code",
   "execution_count": 2,
   "metadata": {},
   "outputs": [
    {
     "data": {
      "text/html": [
       "<div>\n",
       "<style scoped>\n",
       "    .dataframe tbody tr th:only-of-type {\n",
       "        vertical-align: middle;\n",
       "    }\n",
       "\n",
       "    .dataframe tbody tr th {\n",
       "        vertical-align: top;\n",
       "    }\n",
       "\n",
       "    .dataframe thead th {\n",
       "        text-align: right;\n",
       "    }\n",
       "</style>\n",
       "<table border=\"1\" class=\"dataframe\">\n",
       "  <thead>\n",
       "    <tr style=\"text-align: right;\">\n",
       "      <th></th>\n",
       "      <th>Price</th>\n",
       "      <th>Mileage</th>\n",
       "      <th>Make</th>\n",
       "      <th>Model</th>\n",
       "      <th>Trim</th>\n",
       "      <th>Type</th>\n",
       "      <th>Cylinder</th>\n",
       "      <th>Liter</th>\n",
       "      <th>Doors</th>\n",
       "      <th>Cruise</th>\n",
       "      <th>Sound</th>\n",
       "      <th>Leather</th>\n",
       "    </tr>\n",
       "  </thead>\n",
       "  <tbody>\n",
       "    <tr>\n",
       "      <th>0</th>\n",
       "      <td>17314.103129</td>\n",
       "      <td>8221</td>\n",
       "      <td>Buick</td>\n",
       "      <td>Century</td>\n",
       "      <td>Sedan 4D</td>\n",
       "      <td>Sedan</td>\n",
       "      <td>6</td>\n",
       "      <td>3.1</td>\n",
       "      <td>4</td>\n",
       "      <td>1</td>\n",
       "      <td>1</td>\n",
       "      <td>1</td>\n",
       "    </tr>\n",
       "    <tr>\n",
       "      <th>1</th>\n",
       "      <td>17542.036083</td>\n",
       "      <td>9135</td>\n",
       "      <td>Buick</td>\n",
       "      <td>Century</td>\n",
       "      <td>Sedan 4D</td>\n",
       "      <td>Sedan</td>\n",
       "      <td>6</td>\n",
       "      <td>3.1</td>\n",
       "      <td>4</td>\n",
       "      <td>1</td>\n",
       "      <td>1</td>\n",
       "      <td>0</td>\n",
       "    </tr>\n",
       "    <tr>\n",
       "      <th>2</th>\n",
       "      <td>16218.847862</td>\n",
       "      <td>13196</td>\n",
       "      <td>Buick</td>\n",
       "      <td>Century</td>\n",
       "      <td>Sedan 4D</td>\n",
       "      <td>Sedan</td>\n",
       "      <td>6</td>\n",
       "      <td>3.1</td>\n",
       "      <td>4</td>\n",
       "      <td>1</td>\n",
       "      <td>1</td>\n",
       "      <td>0</td>\n",
       "    </tr>\n",
       "    <tr>\n",
       "      <th>3</th>\n",
       "      <td>16336.913140</td>\n",
       "      <td>16342</td>\n",
       "      <td>Buick</td>\n",
       "      <td>Century</td>\n",
       "      <td>Sedan 4D</td>\n",
       "      <td>Sedan</td>\n",
       "      <td>6</td>\n",
       "      <td>3.1</td>\n",
       "      <td>4</td>\n",
       "      <td>1</td>\n",
       "      <td>0</td>\n",
       "      <td>0</td>\n",
       "    </tr>\n",
       "    <tr>\n",
       "      <th>4</th>\n",
       "      <td>16339.170324</td>\n",
       "      <td>19832</td>\n",
       "      <td>Buick</td>\n",
       "      <td>Century</td>\n",
       "      <td>Sedan 4D</td>\n",
       "      <td>Sedan</td>\n",
       "      <td>6</td>\n",
       "      <td>3.1</td>\n",
       "      <td>4</td>\n",
       "      <td>1</td>\n",
       "      <td>0</td>\n",
       "      <td>1</td>\n",
       "    </tr>\n",
       "  </tbody>\n",
       "</table>\n",
       "</div>"
      ],
      "text/plain": [
       "          Price  Mileage   Make    Model      Trim   Type  Cylinder  Liter  \\\n",
       "0  17314.103129     8221  Buick  Century  Sedan 4D  Sedan         6    3.1   \n",
       "1  17542.036083     9135  Buick  Century  Sedan 4D  Sedan         6    3.1   \n",
       "2  16218.847862    13196  Buick  Century  Sedan 4D  Sedan         6    3.1   \n",
       "3  16336.913140    16342  Buick  Century  Sedan 4D  Sedan         6    3.1   \n",
       "4  16339.170324    19832  Buick  Century  Sedan 4D  Sedan         6    3.1   \n",
       "\n",
       "   Doors  Cruise  Sound  Leather  \n",
       "0      4       1      1        1  \n",
       "1      4       1      1        0  \n",
       "2      4       1      1        0  \n",
       "3      4       1      0        0  \n",
       "4      4       1      0        1  "
      ]
     },
     "execution_count": 2,
     "metadata": {},
     "output_type": "execute_result"
    }
   ],
   "source": [
    "df.head()"
   ]
  },
  {
   "cell_type": "code",
   "execution_count": 3,
   "metadata": {},
   "outputs": [
    {
     "name": "stdout",
     "output_type": "stream",
     "text": [
      "<class 'pandas.core.frame.DataFrame'>\n",
      "RangeIndex: 804 entries, 0 to 803\n",
      "Data columns (total 12 columns):\n",
      " #   Column    Non-Null Count  Dtype  \n",
      "---  ------    --------------  -----  \n",
      " 0   Price     804 non-null    float64\n",
      " 1   Mileage   804 non-null    int64  \n",
      " 2   Make      804 non-null    object \n",
      " 3   Model     804 non-null    object \n",
      " 4   Trim      804 non-null    object \n",
      " 5   Type      804 non-null    object \n",
      " 6   Cylinder  804 non-null    int64  \n",
      " 7   Liter     804 non-null    float64\n",
      " 8   Doors     804 non-null    int64  \n",
      " 9   Cruise    804 non-null    int64  \n",
      " 10  Sound     804 non-null    int64  \n",
      " 11  Leather   804 non-null    int64  \n",
      "dtypes: float64(2), int64(6), object(4)\n",
      "memory usage: 75.5+ KB\n"
     ]
    }
   ],
   "source": [
    "df.info()"
   ]
  },
  {
   "cell_type": "markdown",
   "metadata": {},
   "source": [
    "**Veri setindeki alanlar:**\n",
    "* Price: (Hedef alan) Arabanın fiyatı.\n",
    "* Mileage: Arabanın şu anki kilometresi (mil cinsinden)\n",
    "* Make: Arabanın markası\n",
    "* Model: Arabanın modeli\n",
    "* Trim: Arabanın alt modeli\n",
    "* Type: Arabanın tipi\n",
    "* Cylinder: Arabadaki silindir sayısı\n",
    "* Liter: Arabanın motor hacmi\n",
    "* Doors: Arabanın kapı sayısı\n",
    "* Cruise: Hız sabitleme özelliği var mı? (1: Evet, 0: Hayır)\n",
    "* Sound: Ses sitemi var mı? (1: Evet, 0: Hayır)\n",
    "* Leather: Koltukları deri mi? (1: Evet, 0: Hayır)"
   ]
  },
  {
   "cell_type": "markdown",
   "metadata": {},
   "source": [
    "### Veri Görselleştirme\n",
    "\n",
    "(Veri görselleştirme işlemleri ile ilgili detaylı bilgi için <a href=\"../../Data-Preprocessing/02-Data-Visualization/Data-Visualization.ipynb\" target=\"_blank\">buraya</a> bakabilirsiniz.)"
   ]
  },
  {
   "cell_type": "code",
   "execution_count": 4,
   "metadata": {},
   "outputs": [],
   "source": [
    "import seaborn as sns\n",
    "import matplotlib.pyplot as plt"
   ]
  },
  {
   "cell_type": "code",
   "execution_count": 5,
   "metadata": {},
   "outputs": [
    {
     "data": {
      "text/plain": [
       "<Axes: >"
      ]
     },
     "execution_count": 5,
     "metadata": {},
     "output_type": "execute_result"
    },
    {
     "data": {
      "image/png": "[encoded data removed]",
      "text/plain": [
       "<Figure size 640x480 with 2 Axes>"
      ]
     },
     "metadata": {},
     "output_type": "display_data"
    }
   ],
   "source": [
    "# Alanlar arasındaki korelasyona bakalım\n",
    "\n",
    "sns.heatmap(df.corr(numeric_only=True), annot=True)"
   ]
  },
  {
   "cell_type": "code",
   "execution_count": 6,
   "metadata": {},
   "outputs": [
    {
     "data": {
      "image/png": "[encoded data removed]",
      "text/plain": [
       "<Figure size 1500x300 with 3 Axes>"
      ]
     },
     "metadata": {},
     "output_type": "display_data"
    }
   ],
   "source": [
    "fig = plt.figure(figsize=(15,3))\n",
    "\n",
    "# Her bir markadan kaç adet araç var?\n",
    "ax = fig.add_subplot(131)\n",
    "ax = sns.countplot(y=df[\"Make\"])\n",
    "ax.bar_label(ax.containers[0])\n",
    "\n",
    "# Her bir kapı sayısından kaç adet var?\n",
    "bx = fig.add_subplot(132)  # 1 satır, 3 sütunlu tablonun 2. hücresi\n",
    "bx = sns.countplot(x=df[\"Cylinder\"])\n",
    "bx.bar_label(bx.containers[0])\n",
    "\n",
    "\n",
    "# Her bir kapı sayısından kaç adet var?\n",
    "cx = fig.add_subplot(133)  # 1 satır, 3 sütunlu tablonun 3. hücresi\n",
    "cx = sns.countplot(y=df[\"Doors\"])\n",
    "cx.bar_label(cx.containers[0]);"
   ]
  },
  {
   "cell_type": "markdown",
   "metadata": {},
   "source": [
    "### Özellik Mühendisliği\n",
    "\n",
    "(Özellik mühendisliği işlemleri ile ilgili detaylı bilgi için <a href=\"../../Data-Preprocessing/05-Feature-Engineering/Feature-Engineering.ipynb\" target=\"_blank\">buraya</a> bakabilirsiniz.)"
   ]
  },
  {
   "cell_type": "code",
   "execution_count": 7,
   "metadata": {},
   "outputs": [
    {
     "data": {
      "text/plain": [
       "Price       1.000000\n",
       "Cylinder    0.569086\n",
       "Liter       0.558146\n",
       "Cruise      0.430851\n",
       "Leather     0.157197\n",
       "Mileage     0.143051\n",
       "Doors       0.138750\n",
       "Sound       0.124348\n",
       "Name: Price, dtype: float64"
      ]
     },
     "execution_count": 7,
     "metadata": {},
     "output_type": "execute_result"
    }
   ],
   "source": [
    "# Modelde kullanacağımız alanları seçmek için hedef alan ile ilişkili (korelasyona sahip) alanları belirleyelim.\n",
    "\n",
    "# Price alanının diğer alanlarla korelasyonunu hesapla ve büyükten küçüğe doğru sırala\n",
    "abs(df.corr(numeric_only=True)[\"Price\"]).sort_values(ascending=False)\n",
    "\n",
    "# abs() mutlak değer fonksiyonu ile negatif korelasyonları da pozitife çevirip öyle sıralıyoruz"
   ]
  },
  {
   "cell_type": "markdown",
   "metadata": {},
   "source": [
    "**Özellik seçimi** (Feature selection) işleminde aşağıdaki alanları modele dahil ediyoruz:\n",
    "* Cylinder, Liter ve Cruise alanları korelasyonları %20-90 arasında olduğu için\n",
    "* Milage alanı düşük korelasyona sahip olsada gerçek hayatta araba fiyatına etkili olduğu bilindiği için seçiliyor."
   ]
  },
  {
   "cell_type": "code",
   "execution_count": 8,
   "metadata": {},
   "outputs": [],
   "source": [
    "# x modelin girdi alanlarını, y ise çıktı (hedef) alanını temsil ediyor.\n",
    "\n",
    "x=df[[\"Mileage\", \"Cylinder\", \"Liter\", \"Cruise\"]]\n",
    "y=df[[\"Price\"]]"
   ]
  },
  {
   "cell_type": "markdown",
   "metadata": {},
   "source": [
    "## Model Geliştirme"
   ]
  },
  {
   "cell_type": "markdown",
   "metadata": {},
   "source": [
    "### Train-Test Split\n",
    "\n",
    "Veri setini eğitim (train) ve test olmak üzere ikiye ayırıyoruz. Eğitim verileri ile geliştirilen model daha sonra test verileri ile kontrol edilerek başarısı denenir. <br>\n",
    "\n",
    "<img src=\"train-test-split.jpg\"><br>\n",
    "Resmin alındığı [bu sayfadan](https://builtin.com/data-science/train-test-split) detaylı bilgi alınabilir."
   ]
  },
  {
   "cell_type": "code",
   "execution_count": 9,
   "metadata": {},
   "outputs": [],
   "source": [
    "from sklearn.model_selection import train_test_split"
   ]
  },
  {
   "cell_type": "code",
   "execution_count": 10,
   "metadata": {},
   "outputs": [],
   "source": [
    "x_train, x_test, y_train, y_test = train_test_split(x, y, test_size=0.2, random_state=42)"
   ]
  },
  {
   "cell_type": "markdown",
   "metadata": {},
   "source": [
    "Orjinal veri seti önce aşağıdaki bölümlere ayrıldı:\n",
    "- x: Modelin girdi alanları\n",
    "- y: Modelin hedef (tahmin edilecek) alanı\n",
    "\n",
    "Bölünme işleminden sonra aşağıdaki bölümler oluştu:\n",
    "- x_train: Eğitim için ayrılan girdi alanları\n",
    "- x_test: Test için ayrılan girdi alanları\n",
    "- y_train: Eğitim için ayrılan hedef alan\n",
    "- y_test: Test için ayrılan hedef alan\n",
    "\n",
    "test_size: Bu parametre bölünme aşamasında test için ayrılan oranı belirler\n",
    "random_state: Bu parametr, train-test split işlemi sırasında verinin rastgele bölünmesinin tekrarlanabilir olmasını sağlar. Aynı random_state değeri kullanıldığında, her çalışmada aynı veri bölünmesi elde edilir, bu da model sonuçlarının tutarlı ve karşılaştırılabilir olmasına yardımcı olur.\n"
   ]
  },
  {
   "cell_type": "code",
   "execution_count": 11,
   "metadata": {},
   "outputs": [
    {
     "data": {
      "text/plain": [
       "((804, 4), (804, 1))"
      ]
     },
     "execution_count": 11,
     "metadata": {},
     "output_type": "execute_result"
    }
   ],
   "source": [
    "x.shape, y.shape"
   ]
  },
  {
   "cell_type": "code",
   "execution_count": 12,
   "metadata": {},
   "outputs": [
    {
     "data": {
      "text/plain": [
       "((643, 4), (161, 4), (643, 1), (161, 1))"
      ]
     },
     "execution_count": 12,
     "metadata": {},
     "output_type": "execute_result"
    }
   ],
   "source": [
    "x_train.shape, x_test.shape, y_train.shape, y_test.shape"
   ]
  },
  {
   "cell_type": "markdown",
   "metadata": {},
   "source": [
    "Orjinal veri seti 804 satırdan ve 5 (4+1) sütundan oluşuyorken, bölünmeden sonra eğitim verisi 643 satır (yaklaşık %80), test verisi de 161 satır (yaklaşık %20) veri içermektedir."
   ]
  },
  {
   "cell_type": "markdown",
   "metadata": {},
   "source": [
    "### Başarı Metrikleri\n",
    "\n",
    "Regresyon modellerinde başarı aşağıdaki metrikler ile ölçülür:\n",
    "* RMSE (Root Mean Square Error)\n",
    "* R<sup>2</sup> (R Kare)"
   ]
  },
  {
   "cell_type": "code",
   "execution_count": 13,
   "metadata": {},
   "outputs": [],
   "source": [
    "# Başarı metrikleri için gereken paketleri import edelim\n",
    "from sklearn.metrics import mean_squared_error, r2_score"
   ]
  },
  {
   "cell_type": "markdown",
   "metadata": {},
   "source": [
    "**RMSE (Root Mean Squared Error)** hata oranlarının karesinin (Mean Squared Error) kareköküdür. <br><br>\n",
    "\n",
    "Mean Squared Error (MSE) ise **`mean_squared_error` (MSE)** fonksiyonu ile hesaplanır. MSE, bir modelin tahminlerinin doğruluğunu ölçmek için kullanılan bir hata metriğidir. Tahmin edilen değerler ile gerçek değerler arasındaki farklar pozitif veya negatif değerler olabildiği için bu değerlerin toplamı 0 olabilir. Bu durum hatanın olmadığı gibi bir yanılgıya neden olabilir. Bunu önlemek için bu değerlerin karesi alınır ve bu karelerin ortalaması hesaplanır. Daha küçük bir \\( MSE \\), modelin daha iyi performans gösterdiğini ve tahminlerin gerçeğe daha yakın olduğunu gösterir. MSE, hataları büyüttüğü için büyük hatalara daha fazla ağırlık verir.\n",
    "\n",
    "Formül şu şekildedir:\n",
    "\n",
    "$$\n",
    "MSE = \\frac{1}{n} \\sum_{i=1}^{n} (y_i - \\hat{y}_i)^2\n",
    "$$\n",
    "\n",
    "Burada:\n",
    "\n",
    "$$\n",
    "y_i : \\text{Gerçek değerler}\n",
    "$$\n",
    "\n",
    "$$\n",
    "\\hat{y}_i : \\text{Tahmin edilen değerler}\n",
    "$$\n",
    "\n",
    "$$\n",
    "n : \\text{Veri noktalarının sayısı}\n",
    "$$"
   ]
  },
  {
   "cell_type": "markdown",
   "metadata": {},
   "source": [
    "R-kare, modelin tahmin gücünü değerlendirmek için yaygın olarak kullanılır ve daha yüksek R-kare değerleri, daha iyi bir model performansını gösterir.\n",
    "**R<sup>2</sup> `r2_score` (R-kare)**, bir regresyon modelinin açıklayıcılık gücünü ölçen bir metriği temsil eder. Bu değer, modelin bağımlı değişkendeki varyansın ne kadarını açıkladığını gösterir. R-kare değeri, 0 ile 1 arasında bir değer alır; 1 değeri, modelin veriyi mükemmel bir şekilde (%100) açıkladığını, 0 değeri ise modelin hiçbir açıklayıcılığı olmadığını (%0) gösterir. \n",
    "\n",
    "Formül şu şekildedir:\n",
    "\n",
    "$$\n",
    "R^2 = 1 - \\frac{SS_{res}}{SS_{tot}}\n",
    "$$\n",
    "\n",
    "Burada:\n",
    "$$\n",
    "SS_{res} : \\text{Modelin tahminleri ile gerçek değerler arasındaki kare farkların toplamı, yani hata kare toplamı.}\n",
    "$$\n",
    "\n",
    "$$\n",
    "SS_{tot} : \\text{Gerçek değerlerin ortalaması etrafındaki toplam varyans, yani toplam kare toplamı.}\n",
    "$$"
   ]
  },
  {
   "cell_type": "markdown",
   "metadata": {},
   "source": [
    "### Linear Regression"
   ]
  },
  {
   "cell_type": "code",
   "execution_count": 14,
   "metadata": {},
   "outputs": [],
   "source": [
    "from sklearn.linear_model import LinearRegression"
   ]
  },
  {
   "cell_type": "code",
   "execution_count": 15,
   "metadata": {},
   "outputs": [],
   "source": [
    "# Yeni bir LinearRegression nesnesi tanımlayalım\n",
    "lr=LinearRegression()"
   ]
  },
  {
   "cell_type": "code",
   "execution_count": 16,
   "metadata": {},
   "outputs": [],
   "source": [
    "# Modeli eğitelim\n",
    "model=lr.fit(x_train, y_train)"
   ]
  },
  {
   "cell_type": "code",
   "execution_count": 17,
   "metadata": {},
   "outputs": [],
   "source": [
    "# Test verilerini tahmin edelim\n",
    "tahmin=model.predict(x_test)"
   ]
  },
  {
   "cell_type": "code",
   "execution_count": 18,
   "metadata": {},
   "outputs": [
    {
     "data": {
      "text/plain": [
       "np.float64(7413.255792158801)"
      ]
     },
     "execution_count": 18,
     "metadata": {},
     "output_type": "execute_result"
    }
   ],
   "source": [
    "# RMSE değerini hesaplayalım\n",
    "mean_squared_error(y_test, tahmin)**0.5"
   ]
  },
  {
   "cell_type": "code",
   "execution_count": 19,
   "metadata": {},
   "outputs": [
    {
     "data": {
      "text/plain": [
       "0.30711149069980015"
      ]
     },
     "execution_count": 19,
     "metadata": {},
     "output_type": "execute_result"
    }
   ],
   "source": [
    "# R-kare değerini hesaplayalım\n",
    "r2_score(y_test, tahmin)"
   ]
  },
  {
   "cell_type": "markdown",
   "metadata": {},
   "source": [
    "MSE: 7413.25$, bu değer tahmin edilen fiyatın hata büyüklüğü (oldukça yüksek)<br>\n",
    "R-kare: %30.7 modelin tahmin başarısı (oldukça düşük). <br>\n",
    "Modelde sadece sayısal alanları kullandık ve düşük başarı elde ettik. Modele arabanın marka ve modellerini de eklememiz gerekiyor. Bunun için **özellik mühendisliğine** devam ediyoruz."
   ]
  },
  {
   "cell_type": "code",
   "execution_count": 20,
   "metadata": {},
   "outputs": [
    {
     "data": {
      "text/html": [
       "<div>\n",
       "<style scoped>\n",
       "    .dataframe tbody tr th:only-of-type {\n",
       "        vertical-align: middle;\n",
       "    }\n",
       "\n",
       "    .dataframe tbody tr th {\n",
       "        vertical-align: top;\n",
       "    }\n",
       "\n",
       "    .dataframe thead th {\n",
       "        text-align: right;\n",
       "    }\n",
       "</style>\n",
       "<table border=\"1\" class=\"dataframe\">\n",
       "  <thead>\n",
       "    <tr style=\"text-align: right;\">\n",
       "      <th></th>\n",
       "      <th>Mileage</th>\n",
       "      <th>Cylinder</th>\n",
       "      <th>Liter</th>\n",
       "      <th>Cruise</th>\n",
       "      <th>Make</th>\n",
       "      <th>Trim</th>\n",
       "    </tr>\n",
       "  </thead>\n",
       "  <tbody>\n",
       "    <tr>\n",
       "      <th>0</th>\n",
       "      <td>8221</td>\n",
       "      <td>6</td>\n",
       "      <td>3.1</td>\n",
       "      <td>1</td>\n",
       "      <td>Buick</td>\n",
       "      <td>Sedan 4D</td>\n",
       "    </tr>\n",
       "    <tr>\n",
       "      <th>1</th>\n",
       "      <td>9135</td>\n",
       "      <td>6</td>\n",
       "      <td>3.1</td>\n",
       "      <td>1</td>\n",
       "      <td>Buick</td>\n",
       "      <td>Sedan 4D</td>\n",
       "    </tr>\n",
       "    <tr>\n",
       "      <th>2</th>\n",
       "      <td>13196</td>\n",
       "      <td>6</td>\n",
       "      <td>3.1</td>\n",
       "      <td>1</td>\n",
       "      <td>Buick</td>\n",
       "      <td>Sedan 4D</td>\n",
       "    </tr>\n",
       "    <tr>\n",
       "      <th>3</th>\n",
       "      <td>16342</td>\n",
       "      <td>6</td>\n",
       "      <td>3.1</td>\n",
       "      <td>1</td>\n",
       "      <td>Buick</td>\n",
       "      <td>Sedan 4D</td>\n",
       "    </tr>\n",
       "    <tr>\n",
       "      <th>4</th>\n",
       "      <td>19832</td>\n",
       "      <td>6</td>\n",
       "      <td>3.1</td>\n",
       "      <td>1</td>\n",
       "      <td>Buick</td>\n",
       "      <td>Sedan 4D</td>\n",
       "    </tr>\n",
       "  </tbody>\n",
       "</table>\n",
       "</div>"
      ],
      "text/plain": [
       "   Mileage  Cylinder  Liter  Cruise   Make      Trim\n",
       "0     8221         6    3.1       1  Buick  Sedan 4D\n",
       "1     9135         6    3.1       1  Buick  Sedan 4D\n",
       "2    13196         6    3.1       1  Buick  Sedan 4D\n",
       "3    16342         6    3.1       1  Buick  Sedan 4D\n",
       "4    19832         6    3.1       1  Buick  Sedan 4D"
      ]
     },
     "execution_count": 20,
     "metadata": {},
     "output_type": "execute_result"
    }
   ],
   "source": [
    "# Girdi alanlarına (x) metinsel alanları da ekleyelim \n",
    "x=df[[\"Mileage\", \"Cylinder\", \"Liter\", \"Cruise\", \"Make\", \"Trim\"]]\n",
    "y=df[[\"Price\"]]\n",
    "\n",
    "x.head()"
   ]
  },
  {
   "cell_type": "code",
   "execution_count": 21,
   "metadata": {},
   "outputs": [
    {
     "data": {
      "text/html": [
       "<div>\n",
       "<style scoped>\n",
       "    .dataframe tbody tr th:only-of-type {\n",
       "        vertical-align: middle;\n",
       "    }\n",
       "\n",
       "    .dataframe tbody tr th {\n",
       "        vertical-align: top;\n",
       "    }\n",
       "\n",
       "    .dataframe thead th {\n",
       "        text-align: right;\n",
       "    }\n",
       "</style>\n",
       "<table border=\"1\" class=\"dataframe\">\n",
       "  <thead>\n",
       "    <tr style=\"text-align: right;\">\n",
       "      <th></th>\n",
       "      <th>Mileage</th>\n",
       "      <th>Cylinder</th>\n",
       "      <th>Liter</th>\n",
       "      <th>Cruise</th>\n",
       "      <th>Make_Cadillac</th>\n",
       "      <th>Make_Chevrolet</th>\n",
       "      <th>Make_Pontiac</th>\n",
       "      <th>Make_SAAB</th>\n",
       "      <th>Make_Saturn</th>\n",
       "      <th>Trim_Aero Conv 2D</th>\n",
       "      <th>...</th>\n",
       "      <th>Trim_Quad Coupe 2D</th>\n",
       "      <th>Trim_SE Sedan 4D</th>\n",
       "      <th>Trim_SLE Sedan 4D</th>\n",
       "      <th>Trim_SS Coupe 2D</th>\n",
       "      <th>Trim_SS Sedan 4D</th>\n",
       "      <th>Trim_SVM Hatchback 4D</th>\n",
       "      <th>Trim_SVM Sedan 4D</th>\n",
       "      <th>Trim_Sedan 4D</th>\n",
       "      <th>Trim_Special Ed Ultra 4D</th>\n",
       "      <th>Trim_Sportwagon 4D</th>\n",
       "    </tr>\n",
       "  </thead>\n",
       "  <tbody>\n",
       "    <tr>\n",
       "      <th>0</th>\n",
       "      <td>8221</td>\n",
       "      <td>6</td>\n",
       "      <td>3.1</td>\n",
       "      <td>1</td>\n",
       "      <td>False</td>\n",
       "      <td>False</td>\n",
       "      <td>False</td>\n",
       "      <td>False</td>\n",
       "      <td>False</td>\n",
       "      <td>False</td>\n",
       "      <td>...</td>\n",
       "      <td>False</td>\n",
       "      <td>False</td>\n",
       "      <td>False</td>\n",
       "      <td>False</td>\n",
       "      <td>False</td>\n",
       "      <td>False</td>\n",
       "      <td>False</td>\n",
       "      <td>True</td>\n",
       "      <td>False</td>\n",
       "      <td>False</td>\n",
       "    </tr>\n",
       "    <tr>\n",
       "      <th>1</th>\n",
       "      <td>9135</td>\n",
       "      <td>6</td>\n",
       "      <td>3.1</td>\n",
       "      <td>1</td>\n",
       "      <td>False</td>\n",
       "      <td>False</td>\n",
       "      <td>False</td>\n",
       "      <td>False</td>\n",
       "      <td>False</td>\n",
       "      <td>False</td>\n",
       "      <td>...</td>\n",
       "      <td>False</td>\n",
       "      <td>False</td>\n",
       "      <td>False</td>\n",
       "      <td>False</td>\n",
       "      <td>False</td>\n",
       "      <td>False</td>\n",
       "      <td>False</td>\n",
       "      <td>True</td>\n",
       "      <td>False</td>\n",
       "      <td>False</td>\n",
       "    </tr>\n",
       "    <tr>\n",
       "      <th>2</th>\n",
       "      <td>13196</td>\n",
       "      <td>6</td>\n",
       "      <td>3.1</td>\n",
       "      <td>1</td>\n",
       "      <td>False</td>\n",
       "      <td>False</td>\n",
       "      <td>False</td>\n",
       "      <td>False</td>\n",
       "      <td>False</td>\n",
       "      <td>False</td>\n",
       "      <td>...</td>\n",
       "      <td>False</td>\n",
       "      <td>False</td>\n",
       "      <td>False</td>\n",
       "      <td>False</td>\n",
       "      <td>False</td>\n",
       "      <td>False</td>\n",
       "      <td>False</td>\n",
       "      <td>True</td>\n",
       "      <td>False</td>\n",
       "      <td>False</td>\n",
       "    </tr>\n",
       "    <tr>\n",
       "      <th>3</th>\n",
       "      <td>16342</td>\n",
       "      <td>6</td>\n",
       "      <td>3.1</td>\n",
       "      <td>1</td>\n",
       "      <td>False</td>\n",
       "      <td>False</td>\n",
       "      <td>False</td>\n",
       "      <td>False</td>\n",
       "      <td>False</td>\n",
       "      <td>False</td>\n",
       "      <td>...</td>\n",
       "      <td>False</td>\n",
       "      <td>False</td>\n",
       "      <td>False</td>\n",
       "      <td>False</td>\n",
       "      <td>False</td>\n",
       "      <td>False</td>\n",
       "      <td>False</td>\n",
       "      <td>True</td>\n",
       "      <td>False</td>\n",
       "      <td>False</td>\n",
       "    </tr>\n",
       "    <tr>\n",
       "      <th>4</th>\n",
       "      <td>19832</td>\n",
       "      <td>6</td>\n",
       "      <td>3.1</td>\n",
       "      <td>1</td>\n",
       "      <td>False</td>\n",
       "      <td>False</td>\n",
       "      <td>False</td>\n",
       "      <td>False</td>\n",
       "      <td>False</td>\n",
       "      <td>False</td>\n",
       "      <td>...</td>\n",
       "      <td>False</td>\n",
       "      <td>False</td>\n",
       "      <td>False</td>\n",
       "      <td>False</td>\n",
       "      <td>False</td>\n",
       "      <td>False</td>\n",
       "      <td>False</td>\n",
       "      <td>True</td>\n",
       "      <td>False</td>\n",
       "      <td>False</td>\n",
       "    </tr>\n",
       "  </tbody>\n",
       "</table>\n",
       "<p>5 rows × 55 columns</p>\n",
       "</div>"
      ],
      "text/plain": [
       "   Mileage  Cylinder  Liter  Cruise  Make_Cadillac  Make_Chevrolet  \\\n",
       "0     8221         6    3.1       1          False           False   \n",
       "1     9135         6    3.1       1          False           False   \n",
       "2    13196         6    3.1       1          False           False   \n",
       "3    16342         6    3.1       1          False           False   \n",
       "4    19832         6    3.1       1          False           False   \n",
       "\n",
       "   Make_Pontiac  Make_SAAB  Make_Saturn  Trim_Aero Conv 2D  ...  \\\n",
       "0         False      False        False              False  ...   \n",
       "1         False      False        False              False  ...   \n",
       "2         False      False        False              False  ...   \n",
       "3         False      False        False              False  ...   \n",
       "4         False      False        False              False  ...   \n",
       "\n",
       "   Trim_Quad Coupe 2D  Trim_SE Sedan 4D  Trim_SLE Sedan 4D  Trim_SS Coupe 2D  \\\n",
       "0               False             False              False             False   \n",
       "1               False             False              False             False   \n",
       "2               False             False              False             False   \n",
       "3               False             False              False             False   \n",
       "4               False             False              False             False   \n",
       "\n",
       "   Trim_SS Sedan 4D  Trim_SVM Hatchback 4D  Trim_SVM Sedan 4D  Trim_Sedan 4D  \\\n",
       "0             False                  False              False           True   \n",
       "1             False                  False              False           True   \n",
       "2             False                  False              False           True   \n",
       "3             False                  False              False           True   \n",
       "4             False                  False              False           True   \n",
       "\n",
       "   Trim_Special Ed Ultra 4D  Trim_Sportwagon 4D  \n",
       "0                     False               False  \n",
       "1                     False               False  \n",
       "2                     False               False  \n",
       "3                     False               False  \n",
       "4                     False               False  \n",
       "\n",
       "[5 rows x 55 columns]"
      ]
     },
     "execution_count": 21,
     "metadata": {},
     "output_type": "execute_result"
    }
   ],
   "source": [
    "# Veri setindeki tüm metinsel alanlar için one-hot encoding uygulayalım.\n",
    "\n",
    "x=pd.get_dummies(x, drop_first=True)\n",
    "x.head()"
   ]
  },
  {
   "cell_type": "code",
   "execution_count": 22,
   "metadata": {},
   "outputs": [
    {
     "data": {
      "text/plain": [
       "((643, 55), (161, 55), (643, 1), (161, 1))"
      ]
     },
     "execution_count": 22,
     "metadata": {},
     "output_type": "execute_result"
    }
   ],
   "source": [
    "# Bölümleme işlemini yeniden yapıyoruz\n",
    "\n",
    "x_train, x_test, y_train, y_test = train_test_split(x, y, test_size=0.2, random_state=42)\n",
    "x_train.shape, x_test.shape, y_train.shape, y_test.shape\n",
    "\n",
    "# random_state=42 ile önceki bölümlemede kullanılan verilerin aynısını kullanmış olduk."
   ]
  },
  {
   "cell_type": "code",
   "execution_count": 23,
   "metadata": {},
   "outputs": [],
   "source": [
    "# Modeli yeniden eğitip, test verilerini tahmin edelim\n",
    "model=lr.fit(x_train, y_train)\n",
    "tahmin=model.predict(x_test)"
   ]
  },
  {
   "cell_type": "code",
   "execution_count": 24,
   "metadata": {},
   "outputs": [
    {
     "data": {
      "text/plain": [
       "np.float64(1523.6314728711316)"
      ]
     },
     "execution_count": 24,
     "metadata": {},
     "output_type": "execute_result"
    }
   ],
   "source": [
    "# MSE değerini yeniden hesaplayalım\n",
    "mean_squared_error(y_test, tahmin)**0.5"
   ]
  },
  {
   "cell_type": "code",
   "execution_count": 25,
   "metadata": {},
   "outputs": [
    {
     "data": {
      "text/plain": [
       "0.9707311770106378"
      ]
     },
     "execution_count": 25,
     "metadata": {},
     "output_type": "execute_result"
    }
   ],
   "source": [
    "# R-kare değerini yeniden hesaplayalım\n",
    "r2_score(y_test, tahmin)"
   ]
  },
  {
   "cell_type": "markdown",
   "metadata": {},
   "source": [
    "### Regression Modellerinde Başarı Ölçütleri\n",
    "\n",
    "Bir modelin başarılı sayılabilmesi için:\n",
    "- En az %85 (R-kare) tahmin başarısı elde etmesi\n",
    "- Hata miktarının (RMSE) oldukça küçük olması\n",
    "- Tahmin ile gerçek değerler arasındaki fark (residuals) değerlerinin normal dağılım göstermesi"
   ]
  },
  {
   "cell_type": "markdown",
   "metadata": {},
   "source": [
    "Geliştirilen modelde:\n",
    "- R-kare: %97.07 (oldukça yüksek)\n",
    "- MSE: 1523.63$ (oldukça düşük)\n",
    "- Residuals: ? \n",
    "\n",
    "Şimdi buna bakalım."
   ]
  },
  {
   "cell_type": "code",
   "execution_count": 26,
   "metadata": {},
   "outputs": [],
   "source": [
    "# Fark değerlerini (residuals) hesaplayalım\n",
    "residuals=y_test-tahmin"
   ]
  },
  {
   "cell_type": "code",
   "execution_count": 27,
   "metadata": {},
   "outputs": [
    {
     "data": {
      "image/png": "[encoded data removed]",
      "text/plain": [
       "<Figure size 640x480 with 1 Axes>"
      ]
     },
     "metadata": {},
     "output_type": "display_data"
    }
   ],
   "source": [
    "# Değerlerin dağılım grafiği\n",
    "sns.histplot(residuals, bins=50);"
   ]
  },
  {
   "cell_type": "code",
   "execution_count": 28,
   "metadata": {},
   "outputs": [
    {
     "data": {
      "text/plain": [
       "<Axes: xlabel='Price', ylabel='Density'>"
      ]
     },
     "execution_count": 28,
     "metadata": {},
     "output_type": "execute_result"
    },
    {
     "data": {
      "image/png": "[encoded data removed]",
      "text/plain": [
       "<Figure size 640x480 with 1 Axes>"
      ]
     },
     "metadata": {},
     "output_type": "display_data"
    }
   ],
   "source": [
    "# Dağılım eğrisine bakalım\n",
    "sns.kdeplot(x=residuals[\"Price\"], fill=True)"
   ]
  },
  {
   "cell_type": "markdown",
   "metadata": {},
   "source": [
    "Yukarıdaki grafiğe göre fark değerlerinin de normal dağıldığı söylenebilir. Özellikle 0'ya yakın değerlerin nispeten yüksek olması sevindirici."
   ]
  },
  {
   "cell_type": "markdown",
   "metadata": {},
   "source": [
    "### Ridge"
   ]
  },
  {
   "cell_type": "code",
   "execution_count": 29,
   "metadata": {},
   "outputs": [],
   "source": [
    "import numpy as np\n",
    "from sklearn.linear_model import Ridge"
   ]
  },
  {
   "cell_type": "code",
   "execution_count": 30,
   "metadata": {},
   "outputs": [
    {
     "name": "stdout",
     "output_type": "stream",
     "text": [
      "MSE: $1575.68  r-kare: %96.87\n"
     ]
    }
   ],
   "source": [
    "r = Ridge()\n",
    "\n",
    "rModel=r.fit(x_train, y_train)\n",
    "rTahmin=rModel.predict(x_test)\n",
    "\n",
    "mse = mean_squared_error(y_test, rTahmin) ** 0.5\n",
    "r2 = r2_score(y_test,rTahmin)\n",
    "\n",
    "print(\"MSE: $\"+str(np.round(mse,2)), \" r-kare: %\"+str(np.round(r2*100, 2)))"
   ]
  },
  {
   "cell_type": "markdown",
   "metadata": {},
   "source": [
    "### Lasso"
   ]
  },
  {
   "cell_type": "code",
   "execution_count": 31,
   "metadata": {},
   "outputs": [],
   "source": [
    "from sklearn.linear_model import Lasso"
   ]
  },
  {
   "cell_type": "code",
   "execution_count": 32,
   "metadata": {},
   "outputs": [
    {
     "name": "stdout",
     "output_type": "stream",
     "text": [
      "MSE: $1527.04  r-kare: %97.06\n"
     ]
    }
   ],
   "source": [
    "l = Lasso()\n",
    "\n",
    "lModel=l.fit(x_train, y_train)\n",
    "lTahmin=lModel.predict(x_test)\n",
    "\n",
    "mse = mean_squared_error(y_test, lTahmin) ** 0.5\n",
    "r2 = r2_score(y_test,lTahmin)\n",
    "\n",
    "print(\"MSE: $\"+str(np.round(mse,2)), \" r-kare: %\"+str(np.round(r2*100, 2)))"
   ]
  },
  {
   "cell_type": "markdown",
   "metadata": {},
   "source": [
    "### ElasticNet"
   ]
  },
  {
   "cell_type": "code",
   "execution_count": 33,
   "metadata": {},
   "outputs": [],
   "source": [
    "from sklearn.linear_model import ElasticNet"
   ]
  },
  {
   "cell_type": "code",
   "execution_count": 34,
   "metadata": {},
   "outputs": [
    {
     "name": "stdout",
     "output_type": "stream",
     "text": [
      "MSE: $5916.12  r-kare: %55.87\n"
     ]
    }
   ],
   "source": [
    "e = ElasticNet()\n",
    "\n",
    "eModel=e.fit(x_train, y_train)\n",
    "eTahmin=eModel.predict(x_test)\n",
    "\n",
    "mse = mean_squared_error(y_test, eTahmin) ** 0.5\n",
    "r2 = r2_score(y_test,eTahmin)\n",
    "\n",
    "print(\"MSE: $\"+str(np.round(mse,2)), \" r-kare: %\"+str(np.round(r2*100, 2)))"
   ]
  },
  {
   "cell_type": "markdown",
   "metadata": {},
   "source": [
    "### DecisionTreeRegressor"
   ]
  },
  {
   "cell_type": "code",
   "execution_count": 35,
   "metadata": {},
   "outputs": [],
   "source": [
    "from sklearn.tree import DecisionTreeRegressor"
   ]
  },
  {
   "cell_type": "code",
   "execution_count": 36,
   "metadata": {},
   "outputs": [
    {
     "name": "stdout",
     "output_type": "stream",
     "text": [
      "MSE: $1824.97  r-kare: %95.8\n"
     ]
    }
   ],
   "source": [
    "dt = DecisionTreeRegressor()\n",
    "\n",
    "dtModel=dt.fit(x_train, y_train)\n",
    "dtTahmin=dtModel.predict(x_test)\n",
    "\n",
    "mse = mean_squared_error(y_test, dtTahmin) ** 0.5\n",
    "r2 = r2_score(y_test,dtTahmin)\n",
    "\n",
    "print(\"MSE: $\"+str(np.round(mse,2)), \" r-kare: %\"+str(np.round(r2*100, 2)))"
   ]
  },
  {
   "cell_type": "markdown",
   "metadata": {},
   "source": [
    "### ExtraTreesRegressor"
   ]
  },
  {
   "cell_type": "code",
   "execution_count": 37,
   "metadata": {},
   "outputs": [],
   "source": [
    "from sklearn.ensemble import ExtraTreesRegressor"
   ]
  },
  {
   "cell_type": "code",
   "execution_count": 38,
   "metadata": {},
   "outputs": [
    {
     "name": "stdout",
     "output_type": "stream",
     "text": [
      "MSE: $896.47  r-kare: %98.99\n"
     ]
    }
   ],
   "source": [
    "et = ExtraTreesRegressor()\n",
    "\n",
    "etModel=et.fit(x_train, y_train)\n",
    "etTahmin=etModel.predict(x_test)\n",
    "\n",
    "mse = mean_squared_error(y_test, etTahmin) ** 0.5\n",
    "r2 = r2_score(y_test,etTahmin)\n",
    "\n",
    "print(\"MSE: $\"+str(np.round(mse,2)), \" r-kare: %\"+str(np.round(r2*100, 2)))"
   ]
  },
  {
   "cell_type": "markdown",
   "metadata": {},
   "source": [
    "### Modellerin Karşılaştırılması\n",
    "\n",
    "| Model Adı              | MSE     | R2   |\n",
    "|------------------------|---------|------|\n",
    "| LinearRegression        | 1523.63 | 0.97 |\n",
    "| Ridge                  | 1575.68 | 0.97 |\n",
    "| Lasso                  | 1527.04 | 0.97 |\n",
    "| ElasticNet             | 5916.12 | 0.56 |\n",
    "| DecisionTreeRegressor   | 1780.12 | 0.96 |\n",
    "| ExtraTreesRegressor     | 878.79  | 0.99 |\n",
    "\n",
    "### Kısa Yorum:\n",
    "- **ExtraTreesRegressor** modelinin, hem düşük bir MSE (878.79) hem de yüksek bir \\(R^2\\) skoru (0.99) ile en iyi performansı gösterdiği açıkça görülüyor.\n",
    "- **LinearRegression**, **Ridge** ve **Lasso** modelleri benzer performans gösteriyor ve \\(R^2\\) skorları 0.97 ile oldukça iyi. MSE'leri de düşük, ancak ExtraTreesRegressor kadar iyi değil.\n",
    "- **ElasticNet** modeli, diğer modellere kıyasla çok daha yüksek bir MSE (5916.12) ve düşük bir \\(R^2\\) skoru (0.56) ile açık bir şekilde daha düşük bir performans sergiliyor.\n",
    "- **DecisionTreeRegressor** modeli de makul bir performans sunuyor, ancak ExtraTreesRegressor modelinden daha kötü durumda.\n"
   ]
  },
  {
   "cell_type": "markdown",
   "metadata": {},
   "source": [
    "# Son Söz\n",
    "\n",
    "Bu projede Regresyon Makine Öğrenme Modeli geliştirme örnekleri sunduk. Bunu yaparken aşağıdaki işlemleri uyguladık:\n",
    "\n",
    "* Model geliştirme öncesinde veri okuma, keşfedici veri analizi, veri görselleştirme ve özellik mühendisliği işlemlerine değindik. * Veri setini eğitim ve test olmak üzere kısımlara ayırdık.\n",
    "* LinearRegression, Ridge, Lasso, ElasticNet, DecisionTreeRegressor ve ExtraTreesRegressor modelleri ile demeler yaptık.\n",
    "\n",
    "Elbetteki tüm regresyon modelleri bu kadar değil. Modellerin geliştirilmesinde **scikit-learn (sklearn)** kütüphaneleri kullandık. Daha fazla model ve bu kütüphaneler hakkında detaylı bilgiye aşağıdaki bağlantıdan ulaşabilirsiniz. <br><br>\n",
    "\n",
    "![Scikit-Learn Supervised Learning](https://scikit-learn.org/stable/_static/scikit-learn-logo-small.png)\n",
    "[Scikit-Learn Supervised Learning Algoritmaları](https://scikit-learn.org/stable/supervised_learning.html)"
   ]
  }
 ],
 "metadata": {
  "kernelspec": {
   "display_name": "tensorflow",
   "language": "python",
   "name": "python3"
  },
  "language_info": {
   "codemirror_mode": {
    "name": "ipython",
    "version": 3
   },
   "file_extension": ".py",
   "mimetype": "text/x-python",
   "name": "python",
   "nbconvert_exporter": "python",
   "pygments_lexer": "ipython3",
   "version": "3.12.7"
  }
 },
 "nbformat": 4,
 "nbformat_minor": 2
}
